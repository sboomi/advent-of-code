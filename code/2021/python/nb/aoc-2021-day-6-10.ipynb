{
 "cells": [
  {
   "cell_type": "markdown",
   "id": "ab7838c1",
   "metadata": {},
   "source": [
    "# Advent of Code 2021 edition -Days 6 to 10-"
   ]
  },
  {
   "cell_type": "code",
   "execution_count": 1,
   "id": "406192ca",
   "metadata": {},
   "outputs": [],
   "source": [
    "# necessary imports\n",
    "from pathlib import Path\n",
    "from typing import List, Tuple\n",
    "\n",
    "import numpy as np\n",
    "import matplotlib.pyplot as plt\n",
    "%matplotlib inline"
   ]
  },
  {
   "cell_type": "code",
   "execution_count": 2,
   "id": "3ed61892",
   "metadata": {},
   "outputs": [
    {
     "data": {
      "text/plain": [
       "WindowsPath('C:/Users/User/Documents/Projects/advent-code/data/2021')"
      ]
     },
     "execution_count": 2,
     "metadata": {},
     "output_type": "execute_result"
    }
   ],
   "source": [
    "ROOT_DIR = Path().resolve().parents[3]\n",
    "DATA_DIR = ROOT_DIR / \"data\" / \"2021\"\n",
    "\n",
    "DATA_DIR"
   ]
  },
  {
   "cell_type": "markdown",
   "id": "46c938b4",
   "metadata": {},
   "source": [
    "# --- Day 6: Lanternfish ---"
   ]
  },
  {
   "cell_type": "code",
   "execution_count": 4,
   "id": "c88b17e9",
   "metadata": {},
   "outputs": [
    {
     "data": {
      "text/plain": [
       "[4, 5, 3, 2, 3]"
      ]
     },
     "execution_count": 4,
     "metadata": {},
     "output_type": "execute_result"
    }
   ],
   "source": [
    "def load_data_day_6() -> List[int]:\n",
    "    day_six_file = DATA_DIR / \"day6\"\n",
    "    with open(day_six_file, \"r\") as f:\n",
    "        return [int(age) for age in f.read().split(\",\")]\n",
    "    \n",
    "lanternfishes = load_data_day_6()\n",
    "lanternfishes[:5]"
   ]
  },
  {
   "cell_type": "code",
   "execution_count": 5,
   "id": "7028e620",
   "metadata": {},
   "outputs": [],
   "source": [
    "# main functions\n",
    "def evolve_lanternfishes(lanternfishes: List[int]) -> List[int]:\n",
    "    \"\"\"Takes a list of lanternfish timers from T iteration (in days) and returns it at T+1\n",
    "\n",
    "    Every day, each timer from the list decreases by 1 and resets to 6 after it hits 0 as\n",
    "    controlled by the `% 7` operator. Before decreasing, the function checks whether the\n",
    "    population increased and adds 8 to the list everytime it finds a timer value of 0.\n",
    "\n",
    "    Parameters\n",
    "    ----------\n",
    "    lanternfishes : List[int]\n",
    "        List of lanternfish timers at T\n",
    "\n",
    "    Returns\n",
    "    -------\n",
    "    List[int]\n",
    "        List of lanternfish timers at T+1\n",
    "    \"\"\"\n",
    "    newborn_lanternfishes = sum([lanternfish == 0 for lanternfish in lanternfishes])\n",
    "    return [(lanternfish - 1) % 7 if lanternfish < 7 else lanternfish - 1 for lanternfish in lanternfishes] + [\n",
    "        8 for _ in range(newborn_lanternfishes)\n",
    "    ]\n"
   ]
  },
  {
   "cell_type": "code",
   "execution_count": 9,
   "id": "01cb7530",
   "metadata": {},
   "outputs": [
    {
     "data": {
      "image/png": "[encoded data removed]",
      "text/plain": [
       "<Figure size 432x288 with 1 Axes>"
      ]
     },
     "metadata": {
      "needs_background": "light"
     },
     "output_type": "display_data"
    }
   ],
   "source": [
    "# illustration\n",
    "t_max = 80\n",
    "lfish_pop = []\n",
    "\n",
    "evo_population = lanternfishes[:]\n",
    "\n",
    "for _ in range(t_max):\n",
    "    evo_population = evolve_lanternfishes(evo_population)\n",
    "    lfish_pop.append(len(evo_population))\n",
    "    \n",
    "fig, ax = plt.subplots()\n",
    "ax.plot(np.arange(t_max), lfish_pop)\n",
    "ax.set_title(\"Lanternfish population evolution\")\n",
    "ax.set_ylabel(\"N° of lanternfishes\")\n",
    "ax.set_xlabel(\"Days\")\n",
    "plt.show()"
   ]
  },
  {
   "cell_type": "markdown",
   "id": "db22efdf",
   "metadata": {},
   "source": [
    "We can see that the lanternfish population evolution obeys an exponential law that can be written like so:\n",
    "\n",
    "$$\n",
    "D = A \\times \\exp^{Bt}\n",
    "$$"
   ]
  },
  {
   "cell_type": "code",
   "execution_count": null,
   "id": "4887a6d6",
   "metadata": {},
   "outputs": [],
   "source": []
  }
 ],
 "metadata": {
  "kernelspec": {
   "display_name": "Python 3",
   "language": "python",
   "name": "python3"
  },
  "language_info": {
   "codemirror_mode": {
    "name": "ipython",
    "version": 3
   },
   "file_extension": ".py",
   "mimetype": "text/x-python",
   "name": "python",
   "nbconvert_exporter": "python",
   "pygments_lexer": "ipython3",
   "version": "3.9.7"
  }
 },
 "nbformat": 4,
 "nbformat_minor": 5
}

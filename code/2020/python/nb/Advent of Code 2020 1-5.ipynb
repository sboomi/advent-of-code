{
 "cells": [
  {
   "cell_type": "markdown",
   "metadata": {},
   "source": [
    "# Advent of Code 2020\n",
    "\n",
    "Challenges for Christmas 2020.\n",
    "\n",
    "1. Day 1: Report Repair\n",
    "2. Day 2: Password Philosophy\n",
    "3. Day 3: Tbbogan Trajectory\n",
    "4. Day 4: Passport Processing\n",
    "5. Day 5: Binary Boarding"
   ]
  },
  {
   "cell_type": "code",
   "execution_count": 1,
   "metadata": {},
   "outputs": [],
   "source": [
    "import unittest\n",
    "import sys\n",
    "import os\n",
    "\n",
    "sys.path.insert(0, os.path.abspath('..'))"
   ]
  },
  {
   "cell_type": "markdown",
   "metadata": {},
   "source": [
    "## Day 1: Report Repair \n",
    "\n",
    "After saving Christmas five years in a row, you've decided to take a vacation at a nice resort on a tropical island. Surely, Christmas will go on without you.\n",
    "\n",
    "The tropical island has its own currency and is entirely cash-only. The gold coins used there have a little picture of a starfish; the locals just call them stars. None of the currency exchanges seem to have heard of them, but somehow, you'll need to find fifty of these coins by the time you arrive so you can pay the deposit on your room.\n",
    "\n",
    "To save your vacation, you need to get all fifty stars by December 25th.\n",
    "\n",
    "Collect stars by solving puzzles. Two puzzles will be made available on each day in the Advent calendar; the second puzzle is unlocked when you complete the first. Each puzzle grants one star. Good luck!\n",
    "\n",
    "Before you leave, the Elves in accounting just need you to fix your expense report (your puzzle input); apparently, something isn't quite adding up.\n",
    "\n",
    "Specifically, they need you to find the two entries that sum to 2020 and then multiply those two numbers together.\n",
    "\n",
    "For example, suppose your expense report contained the following:\n",
    "\n",
    "```\n",
    "1721\n",
    "979\n",
    "366\n",
    "299\n",
    "675\n",
    "1456\n",
    "```\n",
    "\n",
    "In this list, the two entries that sum to `2020` are `1721` and `299`. Multiplying them together produces `1721 * 299 = 514579`, so the correct answer is `514579`.\n",
    "\n",
    "Of course, your expense report is much larger. **Find the two entries that sum to 2020; what do you get if you multiply them together?**"
   ]
  },
  {
   "cell_type": "code",
   "execution_count": 2,
   "metadata": {},
   "outputs": [
    {
     "name": "stdout",
     "output_type": "stream",
     "text": [
      "[1732, 1972, 1822, 1920, 1847, 1718, 1827, 1973, 1936, 1865, 1817, 1954, 1939, 1979, 1846, 1989, 1818, 398, 1786, 1900, 1949, 1161, 609, 1967, 1845, 1795, 1874, 1982, 2010, 1494, 1752, 1803, 1908, 1876, 1977, 1999, 1858, 1885, 1975, 1878, 1784, 1787, 1765, 1778, 1893, 1746, 1807, 1966, 1991, 1905, 1970, 1942, 1792, 1750, 713, 1871, 1860, 1931, 1976, 1771, 128, 390, 2006, 1801, 1946, 1914, 1833, 1515, 1958, 1737, 1887, 1962, 1895, 2004, 1747, 1841, 1793, 1948, 1790, 1808, 1957, 1770, 1960, 1952, 1932, 1782, 1762, 1898, 1919, 1909, 1929, 1964, 1848, 1959, 1381, 280, 1899, 1855, 1849, 1889, 1772, 1843, 1767, 1830, 1838, 1869, 1926, 1768, 1789, 1791, 1888, 1371, 2001, 1943, 1741, 1904, 1468, 1969, 1910, 649, 1953, 1916, 1852, 1996, 1842, 1950, 1850, 1998, 1963, 1780, 1883, 1955, 443, 1773, 1896, 1985, 1809, 2007, 1819, 1891, 1853, 1802, 1861, 1813, 1831, 1974, 1915, 1997, 2000, 1945, 1832, 1763, 1981, 1922, 1862, 1944, 1925, 1742, 1744, 1994, 1961, 1881, 1937, 1911, 1788, 1971, 1890, 1734, 1781, 1984, 1912, 1834, 1766, 1769, 1797, 195, 1965, 1934, 1894, 1928, 1759, 1812, 1758, 1988, 1821, 1776, 2009, 1749, 1857, 1785, 1824, 1796, 1930, 1777, 1886, 477, 1761, 1800, 1745, 1993]\n"
     ]
    }
   ],
   "source": [
    "# Load data\n",
    "from src.day_1 import load_day_1\n",
    "\n",
    "number_list = load_day_1()\n",
    "print(number_list)"
   ]
  },
  {
   "cell_type": "code",
   "execution_count": 3,
   "metadata": {},
   "outputs": [],
   "source": [
    "# Define function\n",
    "def expense_report(numbers):\n",
    "    for i in numbers:\n",
    "        if 2020-i in numbers:\n",
    "            return (2020-i) * i"
   ]
  },
  {
   "cell_type": "code",
   "execution_count": 4,
   "metadata": {},
   "outputs": [
    {
     "name": "stderr",
     "output_type": "stream",
     "text": [
      "test_expense_report (__main__.TestDayOnePartOne) ... ok\n",
      "\n",
      "----------------------------------------------------------------------\n",
      "Ran 1 test in 0.001s\n",
      "\n",
      "OK\n"
     ]
    },
    {
     "data": {
      "text/plain": [
       "<unittest.main.TestProgram at 0x1a2979b7070>"
      ]
     },
     "execution_count": 4,
     "metadata": {},
     "output_type": "execute_result"
    }
   ],
   "source": [
    "class TestDayOnePartOne(unittest.TestCase):\n",
    "    \n",
    "    def test_expense_report(self):\n",
    "        test_numbers = [1721, 979, 366, 299, 675, 1456]\n",
    "        actual = expense_report(test_numbers)\n",
    "        expected = 514579\n",
    "        self.assertEqual(actual, expected)\n",
    "        \n",
    "\n",
    "unittest.main(argv=[''], verbosity=2, exit=False)"
   ]
  },
  {
   "cell_type": "code",
   "execution_count": 5,
   "metadata": {},
   "outputs": [
    {
     "name": "stdout",
     "output_type": "stream",
     "text": [
      "Total expenses: 889779\n"
     ]
    }
   ],
   "source": [
    "# Once the tests display OK, run the function on the data \n",
    "result = expense_report(number_list)\n",
    "\n",
    "print(\"Total expenses:\", result)"
   ]
  },
  {
   "cell_type": "markdown",
   "metadata": {},
   "source": [
    "### Part Two \n",
    "\n",
    "The Elves in accounting are thankful for your help; one of them even offers you a starfish coin they had left over from a past vacation. They offer you a second one if you can find three numbers in your expense report that meet the same criteria.\n",
    "\n",
    "Using the above example again, the three entries that sum to `2020` are `979`, `366`, and `675`. Multiplying them together produces the answer, `241861950`.\n",
    "\n",
    "**In your expense report, what is the product of the three entries that sum to 2020?**"
   ]
  },
  {
   "cell_type": "code",
   "execution_count": 6,
   "metadata": {},
   "outputs": [],
   "source": [
    "# Define function\n",
    "def expense_report_three(numbers):\n",
    "    for i in numbers:\n",
    "        for j in numbers:\n",
    "            if 2020-(i+j) in numbers:\n",
    "                return i * j * (2020-(i+j))"
   ]
  },
  {
   "cell_type": "code",
   "execution_count": 7,
   "metadata": {},
   "outputs": [
    {
     "name": "stderr",
     "output_type": "stream",
     "text": [
      "test_expense_report (__main__.TestDayOnePartOne) ... ok\n",
      "test_expense_report_three (__main__.TestDayOnePartTwo) ... ok\n",
      "\n",
      "----------------------------------------------------------------------\n",
      "Ran 2 tests in 0.001s\n",
      "\n",
      "OK\n"
     ]
    },
    {
     "data": {
      "text/plain": [
       "<unittest.main.TestProgram at 0x1a2979c0760>"
      ]
     },
     "execution_count": 7,
     "metadata": {},
     "output_type": "execute_result"
    }
   ],
   "source": [
    "class TestDayOnePartTwo(unittest.TestCase):\n",
    "    \n",
    "    def test_expense_report_three(self):\n",
    "        test_numbers = [1721, 979, 366, 299, 675, 1456]\n",
    "        actual = expense_report_three(test_numbers)\n",
    "        expected = 241861950\n",
    "        self.assertEqual(actual, expected)\n",
    "        \n",
    "\n",
    "unittest.main(argv=[''], verbosity=2, exit=False)"
   ]
  },
  {
   "cell_type": "code",
   "execution_count": 8,
   "metadata": {},
   "outputs": [
    {
     "name": "stdout",
     "output_type": "stream",
     "text": [
      "Total expenses: 76110336\n"
     ]
    }
   ],
   "source": [
    "# Once the tests display OK, run the function on the data \n",
    "result = expense_report_three(number_list)\n",
    "\n",
    "print(\"Total expenses:\", result)"
   ]
  },
  {
   "cell_type": "markdown",
   "metadata": {},
   "source": [
    "## Day 2: Password Philosophy \n",
    "\n",
    "Your flight departs in a few days from the coastal airport; the easiest way down to the coast from here is via toboggan.\n",
    "\n",
    "The shopkeeper at the North Pole Toboggan Rental Shop is having a bad day. \"Something's wrong with our computers; we can't log in!\" You ask if you can take a look.\n",
    "\n",
    "Their password database seems to be a little corrupted: some of the passwords wouldn't have been allowed by the Official Toboggan Corporate Policy that was in effect when they were chosen.\n",
    "\n",
    "To try to debug the problem, they have created a list (your puzzle input) of passwords (according to the corrupted database) and the corporate policy when that password was set.\n",
    "\n",
    "For example, suppose you have the following list:\n",
    "\n",
    "```\n",
    "1-3 a: abcde\n",
    "1-3 b: cdefg\n",
    "2-9 c: ccccccccc\n",
    "```\n",
    "\n",
    "Each line gives the password policy and then the password. The password policy indicates the lowest and highest number of times a given letter must appear for the password to be valid. For example, `1-3 a` means that the password must contain a at least 1 time and at most 3 times.\n",
    "\n",
    "In the above example, **2** passwords are valid. The middle password, `cdefg`, is not; it contains no instances of b, but needs at least 1. The first and third passwords are valid: they contain one a or nine c, both within the limits of their respective policies.\n",
    "\n",
    "**How many passwords are valid according to their policies?**"
   ]
  },
  {
   "cell_type": "code",
   "execution_count": 9,
   "metadata": {},
   "outputs": [
    {
     "name": "stdout",
     "output_type": "stream",
     "text": [
      "['1-4 j: jjjqzmgbjwpj', '2-4 w: sckwwf', '1-13 b: bcbbbbbbbbbbhbb', '10-11 x: xjxxxxxxxxzxxx', '13-14 d: dddddddddddddd', '16-18 s: ksttbjsstpnsvtcjnx', '3-8 k: gkkqkbpvkrx', '3-7 c: mccnjgcxkfkp', '3-7 b: hgbqzrjvwqbfc', '8-14 r: rrrrrrrfrrrtrrrr', '5-6 v: vvvvwpvvv', '4-5 b: zfkpb', '12-13 n: nwnwdplnhfhlnnnntfn', '9-14 z: sxzjzfrzztczlw', '1-14 n: vnnnnnnnnnnnnnnnnnnn', '4-6 b: bbbsbb', '2-7 x: xxsjxpxx', '6-8 z: wzfqzzzzn', '2-17 b: cbbmwqmjxhkvjnfbx', '3-9 h: hhhhhghhshh', '3-13 m: mmzmmmmmmmmmxmmmb', '2-4 v: xnxv', '3-4 s: tsxsns', '1-11 m: mmmmzvmmwmmmmmmmmmm', '3-6 h: hhhhhkhhhh', '9-10 n: nnnnnznstln', '9-10 s: svrssgssstss', '3-4 j: jjvd', '1-3 n: nnnnn', '3-5 w: gwhdxvpf', '3-10 c: bxldcllfmxkhzm', '7-9 v: vvvnjbvvq', '1-4 r: brrjbrrrr', '3-4 l: llvlf', '16-17 p: pldpppppppppppqpfpp', '2-3 k: gbklks', '11-13 g: gggggggggggwfzg', '1-5 n: tnnnkn', '10-13 k: rkzkkkkczprzv', '10-13 p: ppppxppppvppnppp', '2-4 d: zjvf', '2-3 h: hhpkstbgpb', '10-15 q: qqqqqqqqqqqqqqqqq', '7-8 w: wwvwwwjw', '12-17 p: mfjzpnvptpqgppptc', '4-6 q: qkqqqs', '10-11 p: vkbftpcpptp', '6-8 k: kkqkknkkk', '8-9 j: jjrjdcjrj', '14-16 f: clqwfdsfbjngfkwf', '14-18 v: vzvvvsvvvvklvjcvvvv', '9-12 t: tttttttttwttttt', '1-4 q: tqqqq', '7-16 r: rrrrrrfrrrtrrrrrrrr', '7-9 c: tcfqhcwdfd', '3-4 x: kpxx', '7-9 d: dbdxdddnnddndkdrzd', '2-4 h: gshhhhhhhhhhhhhhhhhh', '11-12 x: xxsxxxxxxrxtxx', '12-16 t: tttttttttttttttpttt', '2-8 r: kzttpqxrcp', '2-3 m: mmzmm', '9-10 c: ccfcccccswc', '6-7 h: hhhhhhhhhhhh', '5-6 z: zzzzwzmhfc', '1-4 h: qhwt', '5-13 w: cwkwjrvjkwvlwrmv', '2-10 z: tmnrtwqzmznhrqtgqnv', '9-13 j: qwknzzkzxfrjs', '18-19 v: zlwnvtxlvbwwvjlltqv', '5-11 d: dxgksqbqrjdb', '3-7 q: qqzrrqpqdqqqqqqqzqqq', '1-4 g: bczgbbsxgg', '12-13 d: cxcpddldkpndd', '4-13 r: rgrrrhmzrrvwrrr', '15-18 d: dddddxzdnddtpddmddd', '8-9 z: zzfgmfnfh', '3-4 l: llmll', '5-6 w: lmwmwk', '3-11 j: jjjjjjjjjjjj', '11-14 n: ntnnnnnnnnnnnr', '14-15 h: bhhhhhhhhhhhhhhhhhv', '4-5 h: hhhlhthhhhhnhhh', '11-14 p: txphnnxwzpkpmt', '2-8 c: ctwccpccccbtctckt', '1-3 z: wzzzz', '8-13 s: ssssssssjsssm', '8-9 v: cvvsxvvxvhvnvvk', '12-13 p: xpcjdcpflpvpschz', '10-15 j: jjpjjtjjjjjjjjvjzcj', '5-8 s: sssssssqsssls', '3-4 s: fklsnsp', '4-6 r: rhbrrzrrmsmwm', '2-7 n: nhnnnnnn', '8-10 h: hhhhhfhhlh', '2-3 p: hgpfqpvq', '10-18 m: mmmmmmmmmmmmmmmmmmm', '7-9 r: rsrlrrrhwrbcrr', '11-12 h: zbhhjpmhjxwh', '2-4 z: rzdgz', '11-17 w: gbdwctwwcjwjwwwkkp', '2-9 w: vxrrmwcxk', '4-5 t: ttttp', '15-16 s: txfcskwmjltzlrjh', '6-15 d: dddddddddddddddd', '6-15 w: nnlcwwqwwbgwwsw', '9-11 n: kznfnnqnvndnn', '3-4 x: xxvm', '5-7 c: cccvpjc', '3-4 t: tttbt', '2-12 s: zshlpkzfqrss', '5-8 g: kgvcgzxg', '6-8 z: zkzfzfjz', '5-9 q: vqqqqqqqqnq', '3-4 j: jjws', '9-10 g: gggcgrwldzlggvzgcg', '7-10 s: pssqsgsswmwmsmqcx', '10-12 m: mmmmmmmmmmmlm', '4-9 z: fzkzrxzcj', '8-10 k: kkkkdkkkkkk', '1-6 k: kkqktfjkkk', '7-11 t: tztbttxxtnqbp', '4-10 w: pwcwgbkwjgr', '10-13 t: bztgttttwxqdjttht', '3-5 f: llzff', '13-14 j: fjwjjjdjjjjjmt', '6-7 g: mgggxggr', '5-13 l: fsjltvwgqkslltgldjql', '4-8 c: cpcgcczg', '6-7 n: nnnnnbnn', '10-17 s: smdvssstzzsxdkfsk', '6-8 p: tplpppfq', '11-12 h: dtkhttlthmhl', '8-11 q: qqqqqqqqqqrqqqqqqvqq', '11-18 b: bnbcblznbbqkfbnqvb', '14-16 p: vlkcppcpbrjxchwpgtb', '1-3 r: rxrjnrhrn', '15-19 x: xrsvsxmjxxxxxxbfztx', '1-4 q: zqqq', '12-15 c: cffczfcmzscdpmcx', '1-8 b: jbbbbbbbbbbbbbtbb', '2-4 q: dvdqwwq', '2-4 h: jlhhnfqz', '1-3 r: lrwqrwxsqmzr', '4-5 z: gfzzhkgzpsztzfk', '13-14 m: mmmmmmmmmmmmjm', '6-8 n: nnnnnnwnnnm', '10-11 h: hrhchrqdhxhhhhhhr', '9-10 f: fbffflffdf', '7-8 v: vvvvvnvv', '5-13 t: tftttgtfvtbqttwtdmtt', '1-9 v: lvvvvvvvnvv', '5-7 j: jjjxrtjj', '11-13 s: smsssjsssspsms', '7-9 r: mwmrqrprrhvhrtpbfpcb', '5-8 s: hwgnssxp', '6-8 d: ncftqndxmrh', '9-14 g: gggggwglggdgglgmggkg', '1-8 w: vwvwwwkwww', '1-5 z: zzzzczzzzzzzzzw', '5-13 p: pppppppjsvppwppxpp', '6-15 v: csvkhzlhvsqvjph', '2-6 h: fbdschrjnch', '6-8 q: wqtfphkq', '2-9 b: nvnmdbblk', '4-5 g: ggggg', '3-4 v: vbhd', '2-4 v: vvmqvv', '10-13 c: xqkbrfcpqrmxclxkngfx', '7-8 z: hzzzzprz', '8-9 m: mmmmmmmnmmm', '8-9 n: nnxnnngnfgnz', '2-4 t: rztwt', '16-17 w: bswzwwqkcqwrmwdwt', '11-16 s: sssssssqsssssssxsss', '8-11 d: ddddddddddgd', '16-18 s: svssssssssssssssss', '1-2 c: gccclxklrcqv', '2-7 l: gbwllllflkll', '1-9 h: hqnhhhhhbhhhhhhhp', '14-15 p: lmdpprlcbrppmpp', '1-8 n: nrnnnnnnnnnnkf', '15-16 q: hpqrjqwjqxntfxqcp', '1-7 h: hhffnzfwlqtfhh', '1-5 k: znxddgkkfvrkkgrgk', '2-5 n: ntnnpnj', '17-19 x: fbfrxxctrnbshqwpxpx', '6-7 z: bzzpfzl', '9-13 n: tnxbnnnnvmnnnntck', '9-12 v: vvvbzgzvvcqvzv', '5-7 l: lcrplmwl', '6-13 k: lkkkdkgzwllmkfkk', '3-9 f: qpfvffdgp', '2-4 t: jtwj', '5-6 q: qqgqqqz', '1-2 f: wffgprmf', '8-17 m: zmmmmmdmmmmmmmmmqmv', '1-13 m: vmmmmmmmmmsmmmm', '1-4 j: jjjjjj', '1-7 n: vnnnnnnn', '3-7 s: snssssqsssr', '4-6 b: bbbpbbbbbb', '1-4 q: jqqqqqq', '4-7 z: zzzzzzhz', '10-12 h: hhhdchhdhhjphhfh', '14-20 c: hcscjxwvrwmfgjcrcgrs', '7-8 b: bbbbbbbjbbbbbb', '11-17 w: tjwhcpvhdzkpznqzwxl', '4-5 n: prnlncs', '4-11 r: rxzqfqwwkld', '9-12 z: zltzzjjrtvcpwhzd', '1-4 m: rhjmzvkmj', '3-4 b: blxjbb', '10-11 h: skhhqqhcnhmthq', '10-11 t: xtrtvwthftr', '2-3 m: mmqczmx', '2-4 d: dqddd', '1-4 s: stls', '4-5 b: bbvqx', '15-17 t: hvfnwljtgvtmtmgttt', '6-12 f: fpfgptkmfhjf', '16-17 c: ccccccrccccccccccvc', '9-11 f: ffffffffvff', '1-6 g: gggggx', '3-7 n: xnnngjhnnn', '1-9 b: bnjhbtwhbbdtbx', '4-14 q: tnspfdftfhqngv', '4-12 h: htrhtrsfqhzhm', '3-11 w: wwwwwwwwwpwmwwm', '8-9 w: wzwxmwwdw', '6-10 b: djbnwblbqzbbbn', '4-10 c: bndnxjrnqztcxvlt', '1-7 j: jjdgdjz', '7-12 d: ddvddcddddxzdddn', '12-17 z: zzzzzzzzzfdzzzzzl', '5-6 r: rrrrrnrrrrqrrrrr', '10-13 x: xzlxzkjrbtvpzh', '6-8 b: bbbbbbbbbvb', '8-10 q: nqqzqznqqqd', '6-18 p: dspgqtpmhdxpdpchpv', '2-5 j: jjjjbj', '5-16 n: nnnnqnnnnnnnnnnnn', '2-8 s: fgssgpsbssssbs', '5-6 z: zzlmzvdq', '13-16 t: ttttttttttttbttvt', '4-18 k: kkkzkzkkkkfkkkkkkjk', '8-9 w: wwpwwqxwwnwpvcw', '1-7 x: xxxxxxwx', '5-6 v: htvvbn', '2-4 c: bccqqp', '14-17 v: vvvvvvvvvvvvvvvvs', '10-11 j: tjjjjjjjjjjjjj', '9-11 j: pjjxbjcfjhvmlvpfdn', '5-7 v: dvrbrjvmpvhzgpzvvv', '2-6 m: mqmmtm', '6-9 t: tntttlttttttt', '3-6 s: tsnrmqssq', '7-10 l: llllllhflvnl', '8-12 k: kkkkkkkhkkkkkkk', '1-2 k: kckkkvjkkc', '8-12 x: sxxxxxxdxxnxgxxxx', '15-18 z: zzzzzzzzzzbzzzzzzz', '3-7 j: rjjjjjq', '13-14 k: kkkkkkklkkkkqkk', '4-5 h: hhhqh', '9-11 x: xxxxxxxphbxlrxxsxts', '4-11 x: gjlmmvxdhfxvjhxbq', '6-12 x: xgzcqxjmpvzm', '8-9 s: snssssksssss', '12-17 s: gnswjqxkmrsssnsbldb', '7-8 g: ggzzgfgl', '10-11 f: nppdzqkfjfbjhdkx', '5-7 f: brcmfsk', '7-11 t: ttltfthtttttjtt', '3-4 f: zlffkdcnsvm', '2-4 f: ggfr', '13-16 x: xxxxxxxxxxxxgxxkx', '9-10 p: jxtlzqpptpxpzjxh', '1-6 k: gjkzkkkkk', '5-6 t: tttvgtjtt', '1-15 d: vddjdddvddddddddddd', '8-13 c: cccccccfcccccccccccc', '1-6 x: kxxxxpxxx', '4-10 m: mmmjmzlcmmmmmmmmmjm', '1-2 k: ksbmkdvwk', '1-2 x: dxxxh', '4-10 t: zvnvsfvwctrlvs', '5-10 b: bbrqbbpbnb', '4-5 n: nnmknznn', '5-9 b: bnchbmbbbwbfp', '6-8 j: jjjjjcjjjjj', '4-6 k: kwkbkkkk', '5-7 m: mmmtmzhm', '12-15 z: zzzzzzzzzzzzzzj', '11-14 t: lqstpfwckgtrpt', '11-14 z: wfzzzzzzzzvzzz', '4-14 n: nnnbcnnnnnnnnnnnn', '18-19 q: qvkmtqqqqqkqbqqqqgqd', '3-4 m: mmmrkmmmsmmmvzmzmrmm', '4-5 m: hcgmm', '2-4 v: vmfc', '8-11 m: mmmmmmmmmmvmm', '1-7 f: fftffqhff', '14-15 j: jjjjjjmnjjjhjhjzdjj', '16-17 d: ddddwdddddddddrdtnd', '5-11 d: ddddcdtrddqddd', '7-11 m: xfhmlmkmmpmm', '13-14 s: ssssssssssssgsssssss', '7-11 v: vkvvvvvvvvvvrvvvvxf', '2-3 z: zsjzz', '1-2 z: zqdgvz', '3-9 z: zzkzzzzzdz', '5-8 d: hnjtddwd', '10-16 k: lkwbfkbrchfkkkkkc', '2-3 m: kmmqb', '4-5 q: qqqgq', '10-11 z: rjnpzzlbvrfzxthzj', '6-7 q: wqzrzgql', '6-7 z: mzbzvgz', '2-3 p: spfd', '14-15 p: jppptjppbptpspv', '3-8 b: cbbbbkkbgt', '9-11 k: hkvnkgkkpkkl', '6-8 f: ffcffpff', '4-11 r: rrrnbhrbrpdfrrrrr', '12-15 g: dgdgdgghzlgrdggg', '15-16 r: npdmnzspxjmbmfwp', '1-4 c: xqcrkc', '3-9 l: ldcfdlzhbk', '5-15 s: ssrsccssqscssnsm', '5-8 l: bkdblbxhsmtlqhzwqj', '2-3 j: qqnnpmnbjshbb', '15-17 f: gffkkffvffdnscffff', '3-14 x: xxxxxxxxxxxxxmx', '11-15 p: ppppspppppppprppd', '3-5 s: wxjks', '8-15 d: dgdsdbddldchdvdddd', '14-15 k: kkkkkkkkkkkkbckk', '9-17 z: zzzzzzzzbzzzzzzzqz', '4-10 b: hbzkfbkmgb', '2-4 w: bwgwwn', '3-4 r: knrr', '9-14 p: tpcwnftjppvdqddprw', '1-2 d: dppdd', '1-5 n: pnnnnnnn', '6-7 s: ssssssss', '8-13 h: hgdnhnhltbhbhhdhszw', '6-12 w: rtswsljcxzjwjhbcdng', '1-2 h: hhddcvjhrrqpqq', '9-12 r: crrrrrrrrrrdr', '9-12 k: kwkkkkkkcbkpk', '2-5 d: ddddt', '1-4 g: nggl', '3-6 r: lrrtrdrfvg', '6-7 r: rzrglrwrv', '1-2 l: hgllll', '2-4 z: zvbz', '6-7 c: cccccnccccc', '3-4 w: glwmm', '8-11 z: vjzszzzznzzlzzs', '6-8 z: pzzfqpzzxzfz', '6-11 p: vwpppghprpmrdv', '9-13 p: mzkpjpvjhppkjkwx', '9-14 j: jwhwjkvszjwdzglb', '1-4 r: nrrlnpvdgfxk', '8-9 j: ggjsdmzjksxjcjgtw', '3-5 w: qjwwxw', '7-9 v: vvvvvvgvvv', '11-15 v: vvlgpvxvvpvkvvfb', '5-8 h: hhhhjpjk', '2-4 l: ldlz', '2-8 w: jljwwwwwbwwfw', '6-7 r: swwrzrr', '9-11 m: mrwmmmmmznmcm', '12-14 k: nkkkkkzkkkkkkk', '3-4 z: zktz', '3-6 r: rxcrkrzgrrrqfl', '4-7 q: kqwqpcqzq', '4-7 d: dndxpdd', '4-15 d: srddqhbcptnjhsdfgt', '4-13 q: xqqvjvdbvhqfqg', '10-12 p: rgmvtphzzpzp', '1-6 d: ddddddddd', '9-10 q: qqqqqqqqpqq', '11-12 d: dddwddmddmvdtnhd', '3-13 s: pfxnkkttnbqqbcfmhkls', '1-8 g: ggggggggg', '3-4 f: lkfn', '8-14 x: xxxkcxxxxxxxrnmxx', '5-10 d: zjbhdrpdkssbp', '3-12 f: fffffbfffffgf', '6-7 s: tkrwhsf', '15-19 w: dwwjxwwkwwwwcwsqwwx', '3-4 d: ddhn', '3-4 c: ccjtc', '6-10 z: zzzzcdzvzzzz', '5-6 p: jlppzpwprp', '1-7 x: zxxxxmxxx', '12-17 n: nvzsnrrnnbnwgmwxvnzt', '11-12 r: rmrrqrvlnqrr', '6-12 f: vcqwfcrwgxbfbbssxp', '7-9 p: wpppppppb', '1-4 s: sssrsss', '5-6 q: fqqqhqbq', '6-10 f: nfhfpffffm', '3-6 q: qqqqqqqq', '10-12 b: bbbwmbqvxrbbfdpr', '19-20 n: nnnntnnnnnnnnnnnnnbg', '8-10 r: rrrrrrrrrqr', '2-12 s: psqbsjvjtqxrxfmm', '5-7 h: qhxlmgh', '4-5 b: zkbnb', '7-9 c: zgfgzfcbxbpwgmqp', '2-5 z: zbzzzzzz', '12-15 v: tvrsxtktpjvknkv', '4-5 n: nnnnnnn', '1-2 h: vxhhhf', '13-17 x: xxxxxxxxxxxxtxxxxxx', '3-5 f: hzqhfjxrbjfvkldfqqd', '3-10 h: zhhqdbgmxh', '12-13 t: tttttttttwttmt', '1-8 m: wmdmsmmmmmmm', '16-17 l: lllllllllllllllvll', '3-15 z: dnzrtbjrlgfhljzsw', '3-10 p: pppppppppppppnp', '2-12 j: zjpdzqnfvddmctlbsnj', '5-13 f: fvghfmfqmnbff', '3-7 v: scvvshj', '2-5 v: vvzvc', '3-16 c: mzfhwgplcbrkxgbc', '3-4 b: ppcbnzrbpcdn', '1-6 q: nnqnzq', '11-13 w: wmswntwbrdwvhh', '1-12 r: rrrrrrwrlrrrrrrr', '3-9 q: ljxlwsqrq', '5-6 m: mmmmmlm', '10-12 h: hhhhhhhhhhhph', '14-19 f: ffnffrmzfffffffgffh', '2-3 j: jvjj', '3-10 t: tgtwjttjcjbktn', '1-2 l: lnlnwlflbllznllzlr', '8-10 h: hhhhhhhfhk', '11-12 q: jqqqqqqqqqmq', '1-3 m: mkmmr', '12-13 z: wxpzlzczmsfzc', '12-14 t: tttqwtvtkkwkrt', '8-12 x: xxxwxxxbxxxrtjxpt', '4-7 g: ggtxgggg', '3-5 g: qzcdwg', '10-11 g: zgbzfrgsggp', '2-5 g: gnggdg', '14-15 n: rnnnnnnnnnqnnsncn', '14-15 g: wggggmggggwkggdg', '13-18 p: phgpjbpgtgkpcrcpdfpp', '5-7 v: vlrmvpdw', '6-7 v: vvvvvzvv', '10-11 v: nrdpdcsbfvvbfzxvm', '1-2 d: ddbjvqhd', '8-10 w: wwvwwkvxwbwwww', '3-6 z: zzzdkjzwjn', '10-12 x: xxxxxxxxxsxx', '13-14 m: mmmmmmmmmmmmmlmmmm', '5-7 s: ssssssdsssssss', '3-4 p: phlpp', '6-16 m: mmmmmhmmmmmmmmmf', '7-8 j: jjjjjjjbjv', '1-4 p: fwpxpkp', '4-8 p: pppppppvp', '1-2 w: cwwwwwwwk', '13-18 g: grgskrgdgzggbbqhqbg', '2-9 s: rhnztnfssmrsr', '1-6 t: tttttv', '2-7 d: bdpcxgwdqgqzgsfvbm', '9-11 d: ddddddddbdd', '7-17 h: hhhbhhmhbhhhsvhhh', '7-16 v: vvvltnvvmcrqvvdmzmhc', '1-10 j: bqjjlxdchwmbm', '11-12 b: mjwbwbcjbdbs', '4-5 x: bzlxc', '4-9 s: dssssssvblsqstssts', '5-6 b: bbmbtbbwb', '11-12 b: ghtgfbnjtqxb', '3-6 j: jjrjjjjjj', '3-4 w: wwwwww', '11-13 m: mmmmmmmmmmmmhm', '8-11 s: sssspsspsss', '2-4 j: jjjk', '3-6 p: xpmppvzp', '6-8 l: qwtbjzhld', '2-3 n: nxtn', '5-8 w: qnwpwwwwjbctp', '6-7 n: dnwlnnn', '3-4 g: bfmgwdg', '10-12 n: qshvtphvnwmn', '4-7 f: zgfnkfj', '3-15 s: zvslmfqcmxvsgvv', '15-18 q: qqhqqqqqqqqvqqmqqwq', '4-6 w: dlwwxcpmq', '4-9 k: kkklkkkkkkk', '8-10 c: ccccccdwccr', '1-4 z: jczzzzgzmzzzrzzzz', '8-9 r: jvtrktdvdfr', '2-8 v: vzvvvvvv', '2-3 l: lllll', '11-14 c: cccccccckcccctc', '3-4 b: wxcrhbkpbtkqbb', '5-7 t: zgptttr', '1-7 m: fmmmmtmmmm', '3-7 p: hvcpkbp', '4-5 v: pgvhc', '19-20 t: tnttttttttttttlttttt', '3-6 c: ccccccc', '12-19 s: jbpsshpsnvnzssdshss', '3-7 n: npqnnvn', '2-5 p: nppcv', '2-6 b: bbbbbd', '2-14 c: chclncgrhqqccbtcfc', '6-8 t: ttttttttttttt', '7-14 n: njnnnknlnnnnnnnn', '13-17 q: qwvzjwgqkshxqlqfqh', '9-12 v: vbvcvvqvpvvvvvbv', '6-7 z: zzzzzgv', '3-5 v: gvgfvvxrcdvvvvmrvv', '11-16 z: zzznzlcjzzcjzwfl', '1-4 w: wlwwqwwwr', '15-17 r: mrrbxprsxclprfslcd', '10-11 s: sssssssssds', '9-13 p: qjmdllptppszpl', '12-13 n: nvngpnnnnnnsn', '8-15 n: mnsnnbdnnnngfhn', '1-18 b: kbbbdbbbbbzbgnbbbb', '2-8 b: bjbmbjpbbmhbsxbbv', '7-17 f: ffffffffffffffffvfff', '10-13 q: qqqqqqqqqtqqq', '5-6 s: ssssrts', '9-20 t: txplrphbwnvnvkftmnct', '6-7 f: ffrfbfffnf', '10-13 s: ssssfvlsssnsv', '4-5 l: qwrhllzmlrz', '12-18 n: nnnnnnnnrnnzncnxnnw', '14-15 k: lsrknlskcnbbdknfjj', '3-5 z: wzzzzh', '1-3 j: qjvjjjw', '5-6 n: nctxhn', '8-19 r: krrkhxrfflxhrphrzvrw', '9-10 r: tqrkrrrsrvrrqrrp', '6-12 l: ldlnxrlllvlkllkl', '3-6 p: jpwwzpcppwtspp', '12-13 p: ptptpppkpzppgpppd', '5-6 w: wwwwtwwww', '12-14 p: mkqwvmptpxslfppk', '2-5 f: bxfvf', '4-7 v: qvvwvxvvvvvvv', '8-9 t: mxthgrlth', '5-6 k: kkkkkkk', '8-11 q: hqqfqqqnqqw', '11-14 w: wfwwwswwtwvwwgwjww', '10-12 n: qnnnnnnnprnnnn', '4-6 g: fdvgfhgjzgg', '3-4 p: hdpp', '2-5 l: lfllllll', '13-17 z: zzzzzzzzjzzzzzxzgzzz', '12-15 m: lzmxcrkqfcvmbbmtxrs', '14-15 d: njdwbbhbzvtsdtvn', '7-8 x: xmxrxxmz', '8-15 p: gfznjbfbqpbpmspp', '9-20 z: wdrzlmltkddzlqgzsvpz', '5-6 f: qqgxpzbnb', '7-9 l: jlllllllc', '1-6 x: xmbxxjxd', '4-5 p: pppdp', '5-6 f: ffffzff', '2-4 r: rrrxr', '3-6 s: vpsbsv', '7-10 c: spcccccccl', '3-6 h: sshhkhcr', '10-15 f: fnfjfpfmfrfffffffj', '15-16 z: tzzzgshvmdgzndgs', '5-15 s: sksssqcsbjdsmvfxt', '8-9 p: ppppppjrpvp', '8-12 v: vvvvvvvgvvvvvv', '2-3 k: kzkk', '13-17 t: ttttttttttttttttrt', '6-10 l: swtvlwrlslgh', '1-3 r: wrnr', '3-4 k: kkkfkkkkkkkkqkkkkkkk', '8-9 k: kkkkfkkzk', '5-9 p: vplbwppwfgfpchjlcf', '1-2 t: skttrtts', '2-6 h: bhqznh', '13-14 k: kcskmkkkwlpqqck', '14-15 s: jsshdssxsqssjkm', '5-13 t: tgchhzcttxlttwtkt', '5-10 l: lslnbllmlw', '3-4 k: xkqqf', '2-11 p: ppppvqppjpx', '6-12 h: hhhhhhhhhhhjhhh', '4-6 k: fkpmnfhrm', '8-11 t: xwzgtlvswrt', '4-11 r: rrrrrrrdrnrrrrbg', '5-7 k: kkkkkkhk', '1-6 l: lllllkl', '18-19 f: frtfffffffxmfffdvfc', '5-7 h: nzhhngrhhhh', '7-8 j: jjjjjjjsjjjjnjjjjj', '6-7 v: vvkbvrqvg', '4-10 s: sssgsssxxssss', '1-3 h: hhgrwfn', '1-5 c: ccjgcbcc', '7-10 p: cpnnpgpprppppxpjp', '9-10 p: pppcpppppppp', '10-12 c: ccfczqcgccdcf', '3-5 j: vwjdv', '10-13 l: llllpblvclnlwllx', '3-4 n: nnctnp', '4-5 z: zzzzmzzzz', '4-5 s: mcsslbgst', '7-9 p: ppppdbpwmpppkppsp', '7-13 d: vdnmpvdvtvdcddqk', '4-6 x: tpcxlx', '2-4 c: cmcqcrcccclccx', '6-8 k: kzvpvhlwdrhtcsl', '6-9 r: rrrrrrrrrr', '3-15 t: ttttttttttttttttt', '7-9 f: fpffvmdjjffxf', '3-4 z: zzqzg', '2-3 p: krpp', '9-10 v: cjvqzvlvxvvv', '11-17 r: jrnrrrkrlzqrjrrrrdj', '11-12 q: hzxtksqmtjbq', '2-15 j: lxrlvnqkbnmknfdml', '9-10 x: xsfzmglglxrtxnwwxr', '2-3 t: tgtlhstcft', '19-20 q: pqfdqqqvxsqqqqtrxsqp', '9-10 q: lkjxdqqqhqqw', '3-4 w: hwfd', '1-3 g: jgjrgjgw', '10-11 r: lrqrfdttrfr', '15-16 k: hkkkkkskkkkfkkkj', '1-4 d: ddds', '18-20 b: vqwxbbwbbksbxctklbbb', '1-11 w: clzrdzwhlkwbgjwwwwh', '5-12 b: cjbvnbtvhlpz', '17-19 s: ssxssspjsssssssssshs', '2-8 q: wrjbvqlfqq', '7-10 v: xgnzvsvjjztv', '2-6 d: ggjgjdsdsbwl', '3-4 w: wwcwwww', '9-10 l: lrllllllkln', '9-11 d: ddddddddldtdd', '2-6 g: wrggcgw', '2-6 t: sttmttvkbdfhr', '2-4 h: jhmx', '9-11 k: kkkkkkkkkkkkkk', '6-18 s: hsnsqsjsjjctpltkms', '12-13 t: wctjkstvxwggvq', '1-11 l: lfrztknsgndvlnqbsq', '3-4 w: wwfsww', '6-7 w: pllwlwm', '2-11 j: jjjjwjjljjc', '14-15 p: ppppgpppmptppcpzp', '13-14 l: llllllllllllnqll', '12-13 w: wwwwwwwwwwwcx', '6-7 c: cccccfcccq', '6-13 j: rsrkqbjhmzjwpcjznz', '3-4 d: jddb', '6-12 r: jrrrrjrrrrrrrr', '5-6 t: ttttrt', '7-19 q: qqqqqcvnqqqqqqqtqsqq', '6-8 w: xgwzcwvkvs', '8-15 h: xnphxhtrdstnphhvhw', '1-5 v: kvvvvv', '4-6 z: zzzmzzzzzzzzzzzz', '1-3 j: qjjj', '4-5 j: hfzjj', '6-7 v: vvvvvcxvvv', '4-13 f: vsrfcsvvszpffm', '7-8 h: zljndncshnknzbhbwqhl', '7-10 g: ggggggcggggg', '10-13 p: ppfppppppppklpspppzp', '3-4 l: spvwl', '4-5 q: crqqntbvqkzwmvqpbx', '6-10 q: bqqqjqqsdk', '14-15 k: bblxvspkqmrndfkkp', '1-3 b: bbdb', '14-19 q: jwttkvnrbfstqlsrbtq', '18-19 j: jjjjjjjjjjjjjjjjjnf', '4-11 d: rdkdnpdvjjtx', '11-12 v: vvvvvvkvvvnr', '10-12 k: kkkkkkkkkddkj', '4-5 l: xllllplksn', '10-12 x: pxgxxxxxxkxnx', '13-16 l: sjlllfrkblccjrllq', '4-6 p: ppptlppp', '4-14 v: nvvvvvwvvsvpvrvvvq', '8-9 v: vvvvkvvvdvvvvvv', '12-16 z: zzzzzzzzlzzzzkzm', '4-7 s: zsfsjsp', '8-17 v: vvmlvvvvtxvdvsvvq', '17-19 t: tgtgglgtrtttdxttztl', '8-12 p: pppppppppppph', '1-8 p: pppspfpjppppzpnpppp', '3-4 f: fffnf', '8-9 b: jbbbfsbmgbbb', '1-9 h: hhhghqrhhhhp', '4-7 r: rvrtgrr', '2-4 g: ggknk', '5-6 w: cwwwww', '6-7 q: vqtqqkq', '6-7 m: mrqbmrp', '7-8 x: gmxxxmxdx', '1-4 d: sxddrddcp', '8-9 b: bmbbbbbbm', '11-13 g: gplgggzgggdgg', '3-4 l: ldfflx', '9-11 k: kkknkkmnkcc', '9-13 g: gggpxgggggzgg', '19-20 j: lfqjdqjddctcjnjzsvjp', '7-9 z: dzrgdczbz', '1-5 p: ppppcp', '11-14 b: bbbbbbbbbbmbbbbb', '8-19 j: xjvdrjwjjtjfdcgjbqg', '15-16 b: bbbbbbbbbbbbbbkbb', '2-13 p: pgppppwpppxppppppd', '8-11 x: mdpvkqsxvzxgtvb', '14-17 w: wzfwvwwwwwjwwrbww', '1-4 v: pvvvvvvvvvvvv', '10-11 j: jrjnlcjnjdmzxjt', '10-11 z: ggzzzqzzzzvn', '3-6 q: bsjbsh', '8-11 c: rlrxxcnvqccjmhnh', '6-14 l: sllqrllhflnjxl', '1-10 j: jjjjjjjjjdjj', '11-13 q: rqqxqjbhgsqqq', '7-8 p: ppnhwpkkpp', '5-7 h: hhhhqhh', '1-3 n: nngn', '4-14 z: zzzzzzzzzmzzzlzzzz', '3-4 v: trvvpvfbkpgstqtq', '8-13 j: hskzqpxjjfjqmjnpq', '1-4 n: jnnnkn', '2-8 z: zxzzzzzzzzz', '13-16 g: gggggggggzgvgxggggg', '3-6 c: cksnbpjtc', '7-11 g: ghggqqgcgvw', '7-16 h: hhhhhhshhhhhhhjhhh', '3-4 p: vhpq', '2-8 c: rcccbgcmgg', '6-13 d: dddqddjdzgdwqdpd', '4-5 z: dxjzzzpjsqwzmqzbzq', '1-2 d: dhlzdwrq', '1-5 g: ggggg', '7-9 w: wdwlhlpwwwww', '12-16 f: ffdfhfsfxfpnrfvf', '9-11 q: qqqqvqrqqqq', '6-8 j: qrjjjjvn', '4-6 w: qwwwds', '13-14 n: nnnnnnnnnnnnnvn', '5-6 c: ccccgc', '13-14 s: qgsdbsklkxsxlshzs', '11-16 m: mmmmmmmmmmmmmmmpm', '5-6 r: rrjrrr', '3-9 m: mmjnkmmmnmmmmmmn', '8-17 x: xxxxxxxhxxxxxxxxwxxx', '1-4 v: vlgvvlljxwq', '2-12 r: nfvxwwkhzszrfwrb', '10-13 j: jjjjjjjtjrjqjj', '3-5 g: lrggg', '6-10 m: cmmmmmmmmd', '4-6 c: dcctcc', '16-17 r: rnzknqrrbsrvsrgrrcr', '2-3 j: djjr', '6-15 q: qqnmqxqqbsqqqqkq', '3-5 h: khhrcpvzz', '5-6 h: qcjmhhvthfn', '15-16 d: kdjtlmldhdrddddd', '10-13 s: sssssssssqssssskss', '5-8 c: pccrwbvjcccfvt', '9-10 j: jjjjjjjjtjjj', '5-9 r: wbfsrlktcxhskhnvkqxl', '13-15 x: wjpxtbxxxgxxxjx', '6-7 r: fzlcsrc', '13-17 b: nbbbbbbbfbvbbbbbz', '7-19 r: vfwrvbxrqwrnddmrdsr', '4-18 q: qdqdvqmvplwfqxwmphx', '15-17 g: ggggggggggggggggqgg', '3-6 z: zzpzzzz', '7-8 t: thlmnpttk', '7-8 j: jwjjjnjjfjj', '5-18 k: vcglkbwhhsbwgfkfww', '2-10 s: ssmvzjxhvsztdpwgj', '8-14 l: lllllllllllllml', '1-8 c: lclcsccccd', '11-12 x: gnxrztwptxhx', '9-10 c: zsbcccccqcdcc', '3-13 q: wlqnqnvsnqnqkbghzh', '3-7 p: pjpppvpkjpxspnprdhnt', '8-13 w: wplhwwwwwwmbwq', '5-6 h: hhhhhmh', '2-6 d: wdqndqhwjvzdlddvjdw', '2-3 p: pppr', '5-8 v: qwvvvkvv', '13-16 w: wqjtwnlrmwdclfkws', '11-17 f: fkhnfnffjqfrffjftffl', '5-8 j: jjjjrjnjgth', '4-10 v: vvvqvvvqvqvv', '2-16 g: cvvdfbckdbsgwhsghrnr', '4-6 f: phtfxh', '2-3 c: bchmdnccc', '9-19 l: cdtftrqcljljpjfdrjl', '1-3 r: jrrrrrr', '15-17 j: vdgsnpvdjghzgqrtj', '1-2 s: kssss', '7-10 t: rpttttmtmwpttttv', '6-9 t: tttttjtxb', '5-6 q: kqjvqj', '5-11 j: jjjmwwmqfhjb', '9-13 h: hhvsnhdxfzcbhg', '2-5 g: cgrbgmnrkqhgpzdmvjlz', '11-12 n: nnnnnnnnnnsnnxnn', '4-6 q: qqqkqqqq', '11-15 q: qrgqqqqfqqhqqqqqqqq', '15-17 f: sfffftfffffvfffblf', '1-2 k: zktdk', '5-14 w: wwwwthwwwwwwww', '3-4 g: gggghg', '9-11 l: ldlllllkftlbmlll', '9-11 b: bbbbbbbjdbsb', '4-5 h: hlhhh', '3-16 r: rrdrrrrrrrhrrrrssrb', '7-19 l: ccdzxllmgfwgwkfsrts', '8-11 p: pqpppppppjzpppp', '4-9 w: mgwwgwjfk', '9-17 m: rmtmtmmjmvtmqcmvmmm', '1-5 g: ggggxggwggngg', '5-7 k: kkxknhkkkk', '10-11 q: qqqqqqqqqqzq', '3-11 f: tffgcrwjmmfgfzfxhfcw', '1-13 c: cwcrcxshprftxpkqccvn', '4-5 f: mffsvf', '5-6 z: hzbczzqz', '9-10 x: xxsdxxxxvvdxcsxxx', '4-11 t: fdjqphpktwtb', '4-10 b: tbbbbbvbbjb', '5-7 l: llptlml', '1-2 p: cqwkvxfzb', '6-9 h: hjhhhhhhkhhh', '14-16 n: wzfndkzxzshxsnvb', '6-16 p: pppppppppvpppppppp', '10-12 m: mmmmmmmmzmmmmmmmm', '6-8 g: gggggggg', '8-10 f: dffdfsnfcdwmfpffgs', '1-8 l: lllllllgbl', '7-9 x: xxxdxxpxx', '5-8 s: sshsqsssss', '7-13 n: jhbsdvsltxnmnjgwxlph', '7-9 x: xhxxsflxpnfcc', '9-10 k: kwkkcmqktx', '3-7 b: bbbbbbbb', '2-3 d: ddnd', '14-15 c: ccccccbccccswlbcccdh', '2-5 n: znxln', '1-7 w: rlhwpsf', '3-6 t: jhzmqtxf', '4-11 t: bttptntxztt', '2-3 t: qmgxt', '1-15 g: ggggggggggggggglghg', '10-15 j: qvlhvgbmzbgkzrjdxt', '9-16 r: rrrnnbpprfrlqmsdr', '2-5 q: qqqqdqq', '3-4 d: dddwd', '6-17 q: kfzvgqkmqcfbbnlxq', '4-5 s: sssslssssshsssss', '4-5 c: kccgcc', '3-4 m: zmqm', '3-4 k: tmkn', '4-16 v: vvvlvvvvvvvvvvvvvv', '5-10 k: mkkkkkkwklkkkkkk', '18-20 k: kkkkkkkkkkkkkkkkkkkm', '3-9 z: zzzzzzzhzzkzs', '5-6 x: dxxznxxxp', '1-2 n: njnnnkxn', '1-4 q: mqqqqq', '8-9 k: knkkkkwkntkkkkkckkk', '13-15 q: qqqqfsfqrkbjcnlw', '12-17 d: dddddddddddddddddd', '1-2 p: pszxjn', '3-7 f: ffwrfjffpfcsfhffqc', '1-9 x: xxqxxdvlk', '8-11 h: dvsjhhthcvchhlls', '10-11 v: vvvvvkvvvmvv', '6-7 n: nnnnntqn', '1-3 j: hjjj', '4-6 d: dhdrddhn', '7-8 c: tccsmjmf', '3-7 g: gglggggggrggggggggg', '11-18 p: jptgncxzwspzpxjpzp', '15-16 j: jjjjjjjzjjjjjjrk', '4-8 d: dddddddc', '12-13 v: sppffmqsrqvvvtqnwc', '3-4 d: dcdg', '4-7 t: thfsjtzbkx', '2-9 f: fmffffffffl', '3-4 l: cgrlx', '10-18 v: dxttvtrpvrhvbdnnvvvv', '10-12 m: mmmpmmmmmdmbmmmmm', '2-4 m: mmmm', '5-8 j: jjrjjgjcsjjnj', '6-8 k: kkkzkkkkk', '4-16 n: nnnwnnnnnnnnnnncn', '8-9 m: fmzmjdfmm', '7-8 n: jnhsntvr', '13-16 z: bzdzzzzjmzzzzqbn', '2-11 j: xjlbpjmtvrm', '5-7 l: plzllksrddbgnl', '2-7 v: jhvqdvvpvvtkvkjzjv', '1-6 b: bbbbbpbbbb', '2-6 p: lpqprw', '1-8 t: lttttttgt', '6-9 p: pppppgppppp', '4-5 w: wfwwgw', '7-9 g: gqfgqgggg', '12-15 p: ppppppppppfjpprp', '13-15 x: xxxxxxxxxxxxxxx', '3-5 v: vvvvlvvvv', '3-9 s: qqwgplpmsnsvjkwb', '1-2 j: jxjjjjd', '8-13 b: bbgbbbbjbbbbbbbb', '8-15 d: qsrqddvpntdwdcd', '5-8 c: cwccccccfccqc', '9-15 c: dslmxlccctvqzjngrzs', '13-14 z: zzzzdzzxzzvzzdq', '4-5 k: kkkkl', '16-17 l: plbljsndxzdflcslpxw', '2-13 s: ssssssssssssxs', '2-14 m: vmfvmcmmtmmqmshnkn', '1-5 m: mmmmkmm', '1-9 s: sqpsnfssjsssssss', '8-9 l: llllglllrl', '7-12 x: chbxgzxjxbpwkfxvp', '17-19 l: llkcqbhlflqlllmxtlr', '19-20 c: vbccpwnjcctzcccqrzbq', '12-20 g: ggdgfggrdgjbgnlggffg', '3-4 q: jqqsq', '4-6 m: ldnmmsm', '13-15 n: bskjrngjbmnhlbtbbt', '16-17 n: nnnnnnnnnnnnnnnnn', '2-10 c: bcxxqppbfccq', '2-4 t: xtdvht', '13-14 c: ccczvcvpccckcc', '6-11 l: gbblllnlldlc', '4-8 z: zzzzzmzvzz', '5-8 m: mmghmcwm', '6-8 f: dwzfdfftm', '2-6 w: xwjhnjnwk', '5-8 l: lhsqllvl', '1-8 q: qpdqmfcgdhnmtjj', '10-14 x: xsxxrpxxnxwhch', '2-5 l: lqlllllfc', '5-14 c: cjtchccxccccjccmdc', '6-10 x: zxcfxtxlxk', '7-13 k: qwrnzqbbqkgfk', '9-13 f: frfrfbffrfffn', '11-15 z: bfjkzhkmngtwdvqx', '18-19 v: ksssrwzjnwjnjxzdqwk', '10-13 s: ssssssssstspsssss', '1-2 w: wwwwt', '2-5 m: tmpmtpxwwcmmkmpxzwc', '6-7 s: tslshxs', '8-12 x: xxxxxxxgxlxlxx', '2-5 c: jcccgcdcccccccccccx', '11-13 n: vsxhnkckksnfk', '4-16 n: fhknznjfvxbpcrtk', '9-13 j: jjjjjjjjjjjjf', '10-16 p: pppppfppptpppppppp', '4-15 m: mmmrmmmmmmmmmwmmm', '2-3 m: gmvmmm', '5-9 l: dlclrltlgw', '2-5 g: fgtlg', '6-9 q: qqqqqrqqqq', '5-12 w: bdlmwzlmfdmhg', '5-14 l: lmlmnrzlglflll', '17-20 k: wbbbcqlwlvphdsqckwbm', '7-8 l: jtjlqxql', '1-14 l: lllllxlllplllflllll', '6-10 d: dddddcdddk', '9-11 m: mmmmmmmmmmhmtmmmm', '7-9 z: zzczzzzzzjzfz', '2-3 j: tgjkxpl', '13-15 f: ffffffffffffffff', '4-5 r: rrrrrr', '6-11 l: lllllllllllll', '10-15 f: ffffffffffffffff', '8-9 l: blszlljll', '5-7 h: hrhdnhmhhhnx', '12-13 f: hfffbkffnfffflffffff', '1-6 j: jjljjjjjjdjfjhq', '11-12 l: llllllllllll', '19-20 h: hwqhspckdppznzwnmxhh', '8-9 m: pkccwcgjpcxn']\n"
     ]
    }
   ],
   "source": [
    "# Load data\n",
    "from src.day_2 import load_day_2\n",
    "\n",
    "passwords = load_day_2()\n",
    "print(passwords)"
   ]
  },
  {
   "cell_type": "code",
   "execution_count": 10,
   "metadata": {},
   "outputs": [],
   "source": [
    "# Define function\n",
    "\n",
    "def count_valid_passwords(pwds):\n",
    "    n_valid = 0\n",
    "    for crit in pwds:\n",
    "        ran, letter, pw = crit.split()\n",
    "        n_letter = pw.count(letter[0])\n",
    "        ran_down, ran_up = [int(i) for i in ran.split(\"-\")]\n",
    "        if ran_down <= n_letter <= ran_up:\n",
    "            n_valid += 1\n",
    "    return n_valid\n",
    "    "
   ]
  },
  {
   "cell_type": "code",
   "execution_count": 11,
   "metadata": {},
   "outputs": [
    {
     "name": "stderr",
     "output_type": "stream",
     "text": [
      "test_expense_report (__main__.TestDayOnePartOne) ... ok\n",
      "test_expense_report_three (__main__.TestDayOnePartTwo) ... ok\n",
      "test_count_valid_passwords (__main__.TestDayTwoPartOne) ... ok\n",
      "\n",
      "----------------------------------------------------------------------\n",
      "Ran 3 tests in 0.002s\n",
      "\n",
      "OK\n"
     ]
    },
    {
     "data": {
      "text/plain": [
       "<unittest.main.TestProgram at 0x1a2979e8250>"
      ]
     },
     "execution_count": 11,
     "metadata": {},
     "output_type": "execute_result"
    }
   ],
   "source": [
    "class TestDayTwoPartOne(unittest.TestCase):\n",
    "    \n",
    "    def test_count_valid_passwords(self):\n",
    "        test_pw = [\"1-3 a: abcde\", \"1-3 b: cdefg\", \"2-9 c: ccccccccc\"]\n",
    "        actual = count_valid_passwords(test_pw)\n",
    "        expected = 2\n",
    "        self.assertEqual(actual, expected)\n",
    "        \n",
    "\n",
    "unittest.main(argv=[''], verbosity=2, exit=False)"
   ]
  },
  {
   "cell_type": "code",
   "execution_count": 12,
   "metadata": {},
   "outputs": [
    {
     "name": "stdout",
     "output_type": "stream",
     "text": [
      "Number of valid passwords: 418\n"
     ]
    }
   ],
   "source": [
    "# Once the tests display OK, run the function on the data \n",
    "result = count_valid_passwords(passwords)\n",
    "\n",
    "print(\"Number of valid passwords:\", result)"
   ]
  },
  {
   "cell_type": "markdown",
   "metadata": {},
   "source": [
    "### Part Two \n",
    "\n",
    "While it appears you validated the passwords correctly, they don't seem to be what the Official Toboggan Corporate Authentication System is expecting.\n",
    "\n",
    "The shopkeeper suddenly realizes that he just accidentally explained the password policy rules from his old job at the sled rental place down the street! The Official Toboggan Corporate Policy actually works a little differently.\n",
    "\n",
    "Each policy actually describes two positions in the password, where 1 means the first character, 2 means the second character, and so on. (Be careful; Toboggan Corporate Policies have no concept of \"index zero\"!) Exactly one of these positions must contain the given letter. Other occurrences of the letter are irrelevant for the purposes of policy enforcement.\n",
    "\n",
    "Given the same example list from above:\n",
    "\n",
    "* `1-3 a: abcde` is **valid**: position 1 contains a and position 3 does not.\n",
    "* `1-3 b: cdefg` is **invalid**: neither position 1 nor position 3 contains b.\n",
    "* `2-9 c: ccccccccc` is **invalid**: both position 2 and position 9 contain c.\n",
    "\n",
    "**How many passwords are valid according to the new interpretation of the policies?**"
   ]
  },
  {
   "cell_type": "code",
   "execution_count": 13,
   "metadata": {},
   "outputs": [],
   "source": [
    "# Define function\n",
    "\n",
    "def count_valid_passwords_pos(pwds):\n",
    "    n_valid = 0\n",
    "    for crit in pwds:\n",
    "        pos, letter, pw = crit.split()\n",
    "        letter = letter[0]\n",
    "        pos_1, pos_2 = [int(i)-1 for i in pos.split(\"-\")]\n",
    "        if (pw[pos_1]==letter and pw[pos_2]!=letter) or (pw[pos_2]==letter and pw[pos_1]!=letter):\n",
    "            n_valid += 1\n",
    "    return n_valid"
   ]
  },
  {
   "cell_type": "code",
   "execution_count": 14,
   "metadata": {},
   "outputs": [
    {
     "name": "stderr",
     "output_type": "stream",
     "text": [
      "test_expense_report (__main__.TestDayOnePartOne) ... ok\n",
      "test_expense_report_three (__main__.TestDayOnePartTwo) ... ok\n",
      "test_count_valid_passwords (__main__.TestDayTwoPartOne) ... ok\n",
      "test_count_valid_passwords_pos (__main__.TestDayTwoPartTwo) ... ok\n",
      "\n",
      "----------------------------------------------------------------------\n",
      "Ran 4 tests in 0.002s\n",
      "\n",
      "OK\n"
     ]
    },
    {
     "data": {
      "text/plain": [
       "<unittest.main.TestProgram at 0x1a2979da2e0>"
      ]
     },
     "execution_count": 14,
     "metadata": {},
     "output_type": "execute_result"
    }
   ],
   "source": [
    "class TestDayTwoPartTwo(unittest.TestCase):\n",
    "    \n",
    "    def test_count_valid_passwords_pos(self):\n",
    "        test_pw = [\"1-3 a: abcde\", \"1-3 b: cdefg\", \"2-9 c: ccccccccc\"]\n",
    "        actual = count_valid_passwords_pos(test_pw)\n",
    "        expected = 1\n",
    "        self.assertEqual(actual, expected)\n",
    "        \n",
    "\n",
    "unittest.main(argv=[''], verbosity=2, exit=False)"
   ]
  },
  {
   "cell_type": "code",
   "execution_count": 15,
   "metadata": {},
   "outputs": [
    {
     "name": "stdout",
     "output_type": "stream",
     "text": [
      "Number of valid passwords: 616\n"
     ]
    }
   ],
   "source": [
    "# Once the tests display OK, run the function on the data \n",
    "result = count_valid_passwords_pos(passwords)\n",
    "\n",
    "print(\"Number of valid passwords:\", result)"
   ]
  },
  {
   "cell_type": "markdown",
   "metadata": {},
   "source": [
    "## Day 3: Toboggan Trajectory \n",
    "\n",
    "With the toboggan login problems resolved, you set off toward the airport. While travel by toboggan might be easy, it's certainly not safe: there's very minimal steering and the area is covered in trees. You'll need to see which angles will take you near the fewest trees.\n",
    "\n",
    "Due to the local geology, trees in this area only grow on exact integer coordinates in a grid. You make a map (your puzzle input) of the open squares (.) and trees (#) you can see. For example:\n",
    "\n",
    "```\n",
    "..##.......\n",
    "#...#...#..\n",
    ".#....#..#.\n",
    "..#.#...#.#\n",
    ".#...##..#.\n",
    "..#.##.....\n",
    ".#.#.#....#\n",
    ".#........#\n",
    "#.##...#...\n",
    "#...##....#\n",
    ".#..#...#.#\n",
    "```\n",
    "\n",
    "These aren't the only trees, though; due to something you read about once involving arboreal genetics and biome stability, the same pattern repeats to the right many times:\n",
    "\n",
    "```\n",
    "..##.........##.........##.........##.........##.........##.......  --->\n",
    "#...#...#..#...#...#..#...#...#..#...#...#..#...#...#..#...#...#..\n",
    ".#....#..#..#....#..#..#....#..#..#....#..#..#....#..#..#....#..#.\n",
    "..#.#...#.#..#.#...#.#..#.#...#.#..#.#...#.#..#.#...#.#..#.#...#.#\n",
    ".#...##..#..#...##..#..#...##..#..#...##..#..#...##..#..#...##..#.\n",
    "..#.##.......#.##.......#.##.......#.##.......#.##.......#.##.....  --->\n",
    ".#.#.#....#.#.#.#....#.#.#.#....#.#.#.#....#.#.#.#....#.#.#.#....#\n",
    ".#........#.#........#.#........#.#........#.#........#.#........#\n",
    "#.##...#...#.##...#...#.##...#...#.##...#...#.##...#...#.##...#...\n",
    "#...##....##...##....##...##....##...##....##...##....##...##....#\n",
    ".#..#...#.#.#..#...#.#.#..#...#.#.#..#...#.#.#..#...#.#.#..#...#.#  --->\n",
    "```\n",
    "\n",
    "You start on the open square (.) in the top-left corner and need to reach the bottom (below the bottom-most row on your map).\n",
    "\n",
    "The toboggan can only follow a few specific slopes (you opted for a cheaper model that prefers rational numbers); start by counting all the trees you would encounter for the slope right 3, down 1:\n",
    "\n",
    "From your starting position at the top-left, check the position that is right 3 and down 1. Then, check the position that is right 3 and down 1 from there, and so on until you go past the bottom of the map.\n",
    "\n",
    "The locations you'd check in the above example are marked here with O where there was an open square and X where there was a tree:\n",
    "\n",
    "```\n",
    "..##.........##.........##.........##.........##.........##.......  --->\n",
    "#..O#...#..#...#...#..#...#...#..#...#...#..#...#...#..#...#...#..\n",
    ".#....X..#..#....#..#..#....#..#..#....#..#..#....#..#..#....#..#.\n",
    "..#.#...#O#..#.#...#.#..#.#...#.#..#.#...#.#..#.#...#.#..#.#...#.#\n",
    ".#...##..#..X...##..#..#...##..#..#...##..#..#...##..#..#...##..#.\n",
    "..#.##.......#.X#.......#.##.......#.##.......#.##.......#.##.....  --->\n",
    ".#.#.#....#.#.#.#.O..#.#.#.#....#.#.#.#....#.#.#.#....#.#.#.#....#\n",
    ".#........#.#........X.#........#.#........#.#........#.#........#\n",
    "#.##...#...#.##...#...#.X#...#...#.##...#...#.##...#...#.##...#...\n",
    "#...##....##...##....##...#X....##...##....##...##....##...##....#\n",
    ".#..#...#.#.#..#...#.#.#..#...X.#.#..#...#.#.#..#...#.#.#..#...#.#  --->\n",
    "```\n",
    "\n",
    "In this example, traversing the map using this slope would cause you to encounter 7 trees.\n",
    "\n",
    "**Starting at the top-left corner of your map and following a slope of right 3 and down 1, how many trees would you encounter?**"
   ]
  },
  {
   "cell_type": "code",
   "execution_count": 17,
   "metadata": {
    "scrolled": true
   },
   "outputs": [
    {
     "name": "stdout",
     "output_type": "stream",
     "text": [
      "['...#...###......##.#..#.....##.', '..#.#.#....#.##.#......#.#....#', '......#.....#......#....#...##.', '...#.....##.#..#........##.....', '...##...##...#...#....###....#.', '...##...##.......#....#...#.#..', '..............##..#..#........#', '#.#....#.........#...##.#.#.#.#', '.#..##......#.#......#...#....#', '#....#..#.#.....#..#...#...#...', '#.#.#.....##.....#.........#...', '......###..#....#..#..#.#....#.', '##.####...#.............#.##..#', '....#....#..#......#.......#...', '...#.......#.#..#.........##.#.', '......#.#.....###.###..###..#..', '##..##.......#.#.....#..#....#.', '..##.#..#....#.............##.#', '....#.#.#..#..#........##....#.', '.....####..#..#.###..#....##..#', '#.#.......#...##.##.##..#....#.', '.#..#..##...####.#......#..#...', '#...##.......#...####......##..', '...#.####....#.#...###.#.#...#.', '....#...........#.##.##.#......', '.....##...#.######.#..#....#..#', '.#....#...##....#..######....#.', '...#.....#...#####.##...#..#.#.', '.....#...##........##.##.##.###', '#.#..#....##....#......#....#.#', '......##...#.........#....#.#..', '###..#..##......##.#####.###.##', '#.....#..##.##....#...........#', '##..#.#..##..#.#.....#......#..', '.#.##.#..#.#....##..#..#....#..', '.#......##..##.#...#..#.......#', '#....##.##..###..###......##.#.', '....###..##.......#.###.#....#.', '..##........#........##.....#..', '.#..#.....#...####.##...##.....', '....#.#.#.....#.##..##.....#..#', '..............#.....#...#.....#', '.#.....#......###...........#.#', '.....#.#......#.##..#..........', '.#......###............#.#.##..', '.#.#....##.#..###.....#.##..#.#', '.......#.#.#..#..#..#...##..#.#', '.#.###...##.#.#.####.#.#...#...', '...#.#....#......##.##.#.......', '#...#.....##....#........##....', '.....###...#.##.#......##.#..#.', '..#...##.##.###..#..#......####', '.#.##.#..#.##..##..........##..', '..#.#.#..#.#.....#...###.....#.', '..#..#.#....#.##.............##', '.......#..###..#.#...#.....##.#', '####.#.#......#..#.##.........#', '..........#.....#..##......###.', '..#..............#...#..##.....', '......#.#.#..#.##.....####..##.', '.##.#..#.#....#.......#..#.....', '..#..#..#.##.#....###.#.#.#.#.#', '.....#....#......###..#........', '#.#.#..#...###.....#......#.##.', '...#.#....#.#......#........#..', '..#...###.#...#..#....##...#..#', '.###.##..#..#...###.#..#.####..', '#....#..##..##..#......#...##..', '#.#..#...#..#...###..#.#.##....', '##....#....##.####...#.#.###...', '##.#...#.......#.##.##....#...#', '..#.#..........#..#.#.#....#..#', '..#........#...#....#....#....#', '..#..#....#.......#........#...', '......#....#....##.#....#.#.##.', '.##...###.##.##....##.#...###..', '.....##..#.#.....###..#.....###', '....##.#.##...##..##........#..', '#...#..##.#.#....#......#...#..', '.###.##.#........#.####....#...', '#.##.....#..#...#..##.##..#.#..', '.....#.#..#....#..#...##.##.#..', '.#......#####...##...#.#.###.#.', '#......##....#.....#......##.#.', '#.#.##.###.#......#####..#.....', '........###.#...#..#.#........#', '....#....###..#.##.#...#....#..', '..........#..#.#....#...#.#...#', '#.##......###.#.#.#....####...#', '...#.#....#........##.#.....##.', '.....##..#.#.#..###...##...#...', '#...#...#....#....##........#..', '.....#.........##.#......#..#..', '#.....##..#.###.....#....##.##.', '...#..#..#.#........##...##.#.#', '..#..##.###.....#.#.....###.##.', '..###.........#...##.....###...', '...###...##.#...##....##.......', '.#.#..#...###..#.#....#....#...', '##..#.......#....#.#...#..#..#.', '..#......#....####..##..#.###.#', '..#.......##........#.#.#..#...', '.#.......#.##.#.##.#.......#..#', '###...#...#...#...#..#...#...##', '..#..........#..###........##..', '.##..#....##......##........#.#', '......#.##......#......##...#.#', '.#.#....#.#.#........#......#..', '.#.#..#....####..##...##....#..', '.#...##..#..#..#####....##.#...', '.##.#.#...#...#.#...#.##.#...#.', '###.#...##..#.###.#.....#.##.#.', '#.....#.###.#.#...#..#....#.#..', '..##..#....#......#.........###', '.#...#...##......#...#.####....', '..#.##...##..............#.#..#', '..#......#..##...........#..#.#', '..#####...#..#.......##...###..', '..##..#....#.#...###.#...#.....', '..#....#..#.#.......#..#.#.#...', '.##..#.#.....##....#.......#...', '...#.#..###...##....#....##..#.', '.....##..#...##.####....##...#.', '.......#.........#...#.##..####', '........###..#..#.##.###..#....', '.#.#..#.##.##.........#...#....', '.###......#.....#....##....####', '.##..##...........#.....#.....#', '#.#.#.#.#.#.##..#.#.#..#.##....', '.##.##...##..#....##..###..####', '#..##.#......#...###.........#.', '#..#...#..##..#..##.....##...#.', '#...##..#...##.#.###.#...#.....', '.###.....#.......#...#.##.###.#', '..........#.#......#...###...##', '..##....#.#..#....#.###...#..##', '#.#..#....##.##..##.........##.', '#.....#.##.###.#..#....##...#..', '...#........##...#..###..######', '#..#.#.#.#...#....#....###.#..#', '...##.##.##.....##..#........#.', '..#.#....#..#.......#...##.##.#', '###.##.......##..#.####...#.#..', '....#.#.....##.....#.#.##...#..', '.#..##..#.....#.#..#...#..#..#.', '.###....##...#......#.....#....', '##.##.###......#...#...###.#...', '#...#.##...#.#....##.....####..', '#.#.#.#...###...##.............', '..#....#.....##.#...#......#...', '....#...#......#...#..#...#.#..', '.###..#.....#..#...#....#...#..', '..#...#.#..###.......#..#.#...#', '#...###.##.....#....#..#.#..##.', '...#.##.#.##......#.#.#.##.....', '........####...##...##..#....#.', '.#.#....#....#.#...##.###...##.', '#.#...###.#.#.#....#....#.#....', '.####.#..#.#....#..#.#..#..#...', '#####...#...#...#....#.#.#..##.', '..###.##.###...#..........#.##.', '##.....#...#....###..###.#.#.#.', '#..##.#..#..#..#...#.#...###..#', '##....#.#...##......#.#...#...#', '.##..........#.#....#...#.##..#', '....#....####.#.####......#.###', '..##.#.....####.#.####.......#.', '#.##.##.#.....#.##......##...#.', '......###..#.....#.....##......', '..#..#....#.#...#.....#......##', '##..#..#..###.#.#..#..##.....#.', '#....#.#.....#####...#.#.......', '.....#..#....#.#.#..#...#...#..', '............#.##......##.##.#.#', '....#...#.#........###....#....', '..#..#...###.#....##..#..###.##', '#.##....#...#.....##..#.##.#...', '...##..###...#.#.....##.#......', '.#..#.##.#####..#.......#..###.', '...#.##...###.....####.#.#.....', '.#......##.#.#.#.#.##.#.....#..', '..#.##.#..##.......#.#.....##..', '..................#....#...#...', '.##.#..#.#.#..#.......#.#..##.#', '....#........#......#..####..#.', '#...#...##..##.#..#.......##...', '#..#..#..#..#........####..#.#.', '..#.#......#..#.##.##.#.#...#.#', '...#..#......#.#.###.#.##..##..', '..#...##.....#..#...##..#.#....', '#.........#....#..#....##.##..#', '..#..#.#....#..#...#.##.....#..', '...#..#...#.#.....#..##..#.#...', '....#........#.#....##..##..#..', '#.....#.#..#.......#.##.....#..', '.#.###.###...##...##..###...#..', '.##.##.......#.#......#.....#.#', '...#....##....#..#..........#.#', '..#.##.........#.#.....#.....#.', '...#.##..##.......##..##...#...', '#.##......##.##..#.....##...##.', '#.#.#..##...#.#............#.#.', '....#.....#......##...#.#.....#', '...#.#......#.#...###.......#..', '......##..###....#.#...#.#####.', '..#..#.#.#...##.#...###..##..#.', '##.##.#.#.##.#..#....#...#...#.', '#..#....######.##.#...#...#.#..', '.#..#.##....#..#.#.......#....#', '....#....#......##....##.#.#...', '.###......#..#..#.......####..#', '.#.#.....#..###...........##...', '.##..##.##.....####..#..#..##..', '..#..##.#......#...###.##..#.#.', '....##..#.....###..#.##....##.#', '#..#......#....#.........#.....', '.#...#.....#.#..#..##....#.....', '.##..#...#..##.#..#...........#', '..#..##........##.......#..#...', '#.....#....#....#.#.#...##.#...', '...#...#.#.#..#.##.#.#...#.....', '..#..#.#....#....###....#.#.#..', '...###..#...#..#....#.....#....', '...#...#.#..#.....#...###......', '##......#..........#.#.#..#.#.#', '....#.....#.....#..#..#.#.#.#..', '...####...#.##...#.#..#....#.#.', '#.##........##.............#.##', '#.#.#.#.#.....................#', '.#.###....#..##.##.##....#.....', '#.#...#.####.###...#..#..#.#...', '.##...#..###.......##..#.#.....', '#.#.#.#...#...#.##.....#.......', '.##.#.#.#......####..#.#.......', '###..........#......#...##...#.', '.........##...#.##...#.#.......', '...#.#.....#...#..#...#..##..#.', '.#..###...#.#.........###....#.', '##..#...#........#.........##..', '.....#...#.#...#.#.#...........', '..#....##...#.#..#..#.##....##.', '.##....#.#.....##.#..#..#...##.', '..##......#.#...#.#.......##.#.', '##...#..#...##.#........#.##...', '#......#.##..#.#..#.###.......#', '#.#...#.....#.#......#.#.#.....', '#.....#..#.......#....##.#.#..#', '###.#....#..##.#.##....#....#..', '#.##.##....#.#..#.#...#....#...', '####...#####...#.....#....##.#.', '....#.#...#.#.##.#.#.##.#.#.###', '#.....##.#.....#.#......#.#..#.', '.#....##.#..#........#...##.#..', '......#...#....##....##....##..', '..###.....#....##.#...#..#.....', '#....##...##.##..##.#...#...#..', '#..#...#...#.#....##..#.#....#.', '......................#.....#..', '.#..#...#.........#....##...###', '.##.#.#...##...#...#...#..#....', '.#.###....#.#............##..#.', '###..##.#.#.#.#....##...#......', '.##................####...##.##', '.#.#.........##....#.#.##.##.#.', '....#...#...#...##...#.##.#..#.', '.#.#........#..##.....#..#....#', '##.#..#.#....#.....#...#...#...', '.#...##....#.....##....#..#.#.#', '####.....#..#....#......###.##.', '##..##.#....###.....#...#......', '.##.#...#.....#.#..#.#..#.#...#', '.....#.#..#..#..###.#...###.#..', '.#.#.##.#..#.#..#...#..#.......', '..#.....#....#.##.##.##.......#', '.#..##....###...#..............', '#....#...#.#.......#....##.#...', '....#.#..##.#....#..#.#....#.#.', '#.........##...#.#.............', '#.#.......##.....#...##..##.#.#', '.......#....#..##...#..#######.', '.#.#...##........#..#.....#.#..', '.#.......#..#......#.##.##...##', '.........#............#....#..#', '.#......#...##...##...#....###.', '.........#...#.#.###.......#...', '###.#..#.#.#.#......##...#.#...', '.#.........##.#....###....#.#..', '#.#....#..#.##.#..#....##...#..', '###.#...#..#..##........#.###..', '.....#....#..#........#..#.##.#', '..#.....##......#....#..#.#.#..', '.#.........#.....#.....#.......', '......#....#.###..#.#....#....#', '..#.#..#.#.###.........#..#..#.', '..#..#.#.#.........#....##.#.#.', '#.......#........##...##....#..', '##..#..#...###...#..##..#..#.#.', '##..#..#....#.#..##..#..#.#..#.', '..##.....##.#..#.#........###..', '..#.#..#..##........#...#....##', '.##..#....##..#..#..#..#.#....#', '#....#.....##........#.....#.##', '......#....#.#..#......#.##....', '.......#..#..#......##.........', '......#...#..##.....#......#..#', '#..#..#....##....#........##..#', '##....#...#.#.....#####........', '...#.#..#.#.##.#.##..##...#....', '..#..#..#..#..#....#..#..##...#', '.#.....#....##.##....##.....#..', '#...#.....#.....#.#...#.#....#.', '.###...#..##....#..#...#.###...', '....#..##..#.......#.##.##..###', '#.......##.....#.......#.#...##', '#.....#.#.#....#.#......#.#.#..', '..##.....#..###......##........', '.....#...#..##....#......#.....', '#..#..#....#.#...#..###.......#', '.....#.....#....#..#...#.#..##.', '#####........#...#..#..##..#.#.', '.#..#...#.##....#.#..#......###', '#.###.#..#.....##..##....#...#.', '.#...#.#####....##..........##.']\n"
     ]
    }
   ],
   "source": [
    "# Load data\n",
    "from src.day_3 import load_day_3\n",
    "\n",
    "forest = load_day_3()\n",
    "print(forest)"
   ]
  },
  {
   "cell_type": "code",
   "execution_count": 18,
   "metadata": {},
   "outputs": [],
   "source": [
    "# Define function\n",
    "\n",
    "def count_trees(forest):\n",
    "    tree_count = 0\n",
    "    i=0\n",
    "    j=0\n",
    "    while i < len(forest)-1:\n",
    "        j = (j + 3) % len(forest[0])\n",
    "        i += 1\n",
    "        if forest[i][j]==\"#\":\n",
    "            tree_count += 1\n",
    "        \n",
    "    \n",
    "    return tree_count"
   ]
  },
  {
   "cell_type": "code",
   "execution_count": 19,
   "metadata": {},
   "outputs": [
    {
     "name": "stderr",
     "output_type": "stream",
     "text": [
      "test_expense_report (__main__.TestDayOnePartOne) ... ok\n",
      "test_expense_report_three (__main__.TestDayOnePartTwo) ... ok\n",
      "test_count_trees (__main__.TestDayThreePartOne) ... ok\n",
      "test_count_valid_passwords (__main__.TestDayTwoPartOne) ... ok\n",
      "test_count_valid_passwords_pos (__main__.TestDayTwoPartTwo) ... ok\n",
      "\n",
      "----------------------------------------------------------------------\n",
      "Ran 5 tests in 0.003s\n",
      "\n",
      "OK\n"
     ]
    },
    {
     "data": {
      "text/plain": [
       "<unittest.main.TestProgram at 0x1a2979e8340>"
      ]
     },
     "execution_count": 19,
     "metadata": {},
     "output_type": "execute_result"
    }
   ],
   "source": [
    "class TestDayThreePartOne(unittest.TestCase):\n",
    "    \n",
    "    def test_count_trees(self):\n",
    "        test_forest = [\"..##.......\",\n",
    "                        \"#...#...#..\",\n",
    "                        \".#....#..#.\",\n",
    "                        \"..#.#...#.#\",\n",
    "                        \".#...##..#.\",\n",
    "                        \"..#.##.....\",\n",
    "                        \".#.#.#....#\",\n",
    "                        \".#........#\",\n",
    "                        \"#.##...#...\",\n",
    "                        \"#...##....#\",\n",
    "                        \".#..#...#.#\"]\n",
    "        actual = count_trees(test_forest)\n",
    "        expected = 7\n",
    "        self.assertEqual(actual, expected)\n",
    "        \n",
    "\n",
    "unittest.main(argv=[''], verbosity=2, exit=False)"
   ]
  },
  {
   "cell_type": "code",
   "execution_count": 20,
   "metadata": {},
   "outputs": [
    {
     "name": "stdout",
     "output_type": "stream",
     "text": [
      "Number of trees encountered: 230\n"
     ]
    }
   ],
   "source": [
    "# Once the tests display OK, run the function on the data \n",
    "result = count_trees(forest)\n",
    "\n",
    "print(\"Number of trees encountered:\", result)"
   ]
  },
  {
   "cell_type": "markdown",
   "metadata": {},
   "source": [
    "### Part Two\n",
    "\n",
    "Time to check the rest of the slopes - you need to minimize the probability of a sudden arboreal stop, after all.\n",
    "\n",
    "Determine the number of trees you would encounter if, for each of the following slopes, you start at the top-left corner and traverse the map all the way to the bottom:\n",
    "\n",
    "* Right 1, down 1.\n",
    "* Right 3, down 1. (This is the slope you already checked.)\n",
    "* Right 5, down 1.\n",
    "* Right 7, down 1.\n",
    "* Right 1, down 2.\n",
    "\n",
    "In the above example, these slopes would find 2, 7, 3, 4, and 2 tree(s) respectively; multiplied together, these produce the answer 336.\n",
    "\n",
    "**What do you get if you multiply together the number of trees encountered on each of the listed slopes?**"
   ]
  },
  {
   "cell_type": "code",
   "execution_count": 21,
   "metadata": {},
   "outputs": [],
   "source": [
    "# Define function\n",
    "\n",
    "def count_trees(forest, slopey=1, slopex=3):\n",
    "    tree_count = 0\n",
    "    i=0\n",
    "    j=0\n",
    "    while i < len(forest)-1:\n",
    "        j = (j + slopex) % len(forest[0])\n",
    "        i += slopey\n",
    "        if forest[i][j]==\"#\":\n",
    "            tree_count += 1\n",
    "    return tree_count\n",
    "\n",
    "def mul_tree_num(forest):\n",
    "    tree_product = 1\n",
    "    list_slopes = [[1, 1], [3, 1], [5, 1], [7, 1], [1, 2]]\n",
    "    for slope in list_slopes:\n",
    "        tree_product *= count_trees(forest, slopey=slope[1], slopex=slope[0]) \n",
    "    return tree_product"
   ]
  },
  {
   "cell_type": "code",
   "execution_count": 22,
   "metadata": {},
   "outputs": [
    {
     "name": "stderr",
     "output_type": "stream",
     "text": [
      "test_expense_report (__main__.TestDayOnePartOne) ... ok\n",
      "test_expense_report_three (__main__.TestDayOnePartTwo) ... ok\n",
      "test_count_trees (__main__.TestDayThreePartOne) ... ok\n",
      "test_mul_tree_num (__main__.TestDayThreePartTwo) ... ok\n",
      "test_count_valid_passwords (__main__.TestDayTwoPartOne) ... ok\n",
      "test_count_valid_passwords_pos (__main__.TestDayTwoPartTwo) ... ok\n",
      "\n",
      "----------------------------------------------------------------------\n",
      "Ran 6 tests in 0.004s\n",
      "\n",
      "OK\n"
     ]
    },
    {
     "data": {
      "text/plain": [
       "<unittest.main.TestProgram at 0x1a2979a1d60>"
      ]
     },
     "execution_count": 22,
     "metadata": {},
     "output_type": "execute_result"
    }
   ],
   "source": [
    "class TestDayThreePartTwo(unittest.TestCase):\n",
    "    \n",
    "    def test_mul_tree_num(self):\n",
    "        test_forest = [\"..##.......\",\n",
    "                        \"#...#...#..\",\n",
    "                        \".#....#..#.\",\n",
    "                        \"..#.#...#.#\",\n",
    "                        \".#...##..#.\",\n",
    "                        \"..#.##.....\",\n",
    "                        \".#.#.#....#\",\n",
    "                        \".#........#\",\n",
    "                        \"#.##...#...\",\n",
    "                        \"#...##....#\",\n",
    "                        \".#..#...#.#\"]\n",
    "        actual = mul_tree_num(test_forest)\n",
    "        expected = 336\n",
    "        self.assertEqual(actual, expected)\n",
    "        \n",
    "\n",
    "unittest.main(argv=[''], verbosity=2, exit=False)"
   ]
  },
  {
   "cell_type": "code",
   "execution_count": 23,
   "metadata": {},
   "outputs": [
    {
     "name": "stdout",
     "output_type": "stream",
     "text": [
      "Tree product: 9533698720\n"
     ]
    }
   ],
   "source": [
    "# Once the tests display OK, run the function on the data \n",
    "result = mul_tree_num(forest)\n",
    "\n",
    "print(\"Tree product:\", result)"
   ]
  },
  {
   "cell_type": "markdown",
   "metadata": {},
   "source": [
    "## Day 4: Passport Processing \n",
    "\n",
    "You arrive at the airport only to realize that you grabbed your North Pole Credentials instead of your passport. While these documents are extremely similar, North Pole Credentials aren't issued by a country and therefore aren't actually valid documentation for travel in most of the world.\n",
    "\n",
    "It seems like you're not the only one having problems, though; a very long line has formed for the automatic passport scanners, and the delay could upset your travel itinerary.\n",
    "\n",
    "Due to some questionable network security, you realize you might be able to solve both of these problems at the same time.\n",
    "\n",
    "The automatic passport scanners are slow because they're having trouble **detecting which passports have all required fields**. The expected fields are as follows:\n",
    "\n",
    "```\n",
    "byr (Birth Year)\n",
    "iyr (Issue Year)\n",
    "eyr (Expiration Year)\n",
    "hgt (Height)\n",
    "hcl (Hair Color)\n",
    "ecl (Eye Color)\n",
    "pid (Passport ID)\n",
    "cid (Country ID)\n",
    "```\n",
    "\n",
    "Passport data is validated in batch files (your puzzle input). Each passport is represented as a sequence of key:value pairs separated by spaces or newlines. Passports are separated by blank lines.\n",
    "\n",
    "Here is an example batch file containing four passports:\n",
    "\n",
    "```\n",
    "ecl:gry pid:860033327 eyr:2020 hcl:#fffffd\n",
    "byr:1937 iyr:2017 cid:147 hgt:183cm\n",
    "\n",
    "iyr:2013 ecl:amb cid:350 eyr:2023 pid:028048884\n",
    "hcl:#cfa07d byr:1929\n",
    "\n",
    "hcl:#ae17e1 iyr:2013\n",
    "eyr:2024\n",
    "ecl:brn pid:760753108 byr:1931\n",
    "hgt:179cm\n",
    "\n",
    "hcl:#cfa07d eyr:2025 pid:166559648\n",
    "iyr:2011 ecl:brn hgt:59in\n",
    "```\n",
    "\n",
    "* The first passport is **valid** - all eight fields are present. \n",
    "* The second passport is **invalid** - it is missing hgt (the Height field).\n",
    "* The third passport is interesting; the only missing field is cid, so it looks like data from North Pole Credentials, not a passport at all! Surely, nobody would mind if you made the system temporarily ignore missing cid fields. Treat this \"passport\" as **valid**.\n",
    "* The fourth passport is missing two fields, cid and byr. Missing cid is fine, but missing any other field is not, so this passport is **invalid**.\n",
    "\n",
    "According to the above rules, your improved system would report 2 valid passports.\n",
    "\n",
    "Count the number of valid passports - those that have all required fields. Treat cid as optional. **In your batch file, how many passports are valid?**"
   ]
  },
  {
   "cell_type": "code",
   "execution_count": 37,
   "metadata": {},
   "outputs": [
    {
     "name": "stdout",
     "output_type": "stream",
     "text": [
      "eyr 2033\n",
      "hgt 177cm\n",
      "pid 173cm\n",
      "ecl utc\n",
      "byr 2029\n",
      "hcl #efcc98\n",
      "iyr 2023\n",
      "\n",
      "pid 337605855\n",
      "cid 249\n",
      "byr 1952\n",
      "hgt 155cm\n",
      "ecl grn\n",
      "iyr 2017\n",
      "eyr 2026\n",
      "hcl #866857\n",
      "\n",
      "cid 242\n",
      "iyr 2011\n",
      "pid 953198122\n",
      "eyr 2029\n",
      "ecl blu\n",
      "hcl #888785\n",
      "\n"
     ]
    }
   ],
   "source": [
    "# Load data\n",
    "from src.day_4 import load_day_4\n",
    "\n",
    "passports = load_day_4()\n",
    "\n",
    "for i, passport in enumerate(passports):\n",
    "    for k,v in passport.items():\n",
    "        print(k, v)\n",
    "    print()\n",
    "    if i == 2:\n",
    "        break"
   ]
  },
  {
   "cell_type": "code",
   "execution_count": 25,
   "metadata": {},
   "outputs": [],
   "source": [
    "# Define function\n",
    "\n",
    "def count_valid_passports(passports):\n",
    "    count = 0\n",
    "    for passport in passports:\n",
    "        if (len(list(passport.keys()))==8) or (len(list(passport.keys()))==7 and \"cid\" not in passport):\n",
    "            count += 1\n",
    "    return count"
   ]
  },
  {
   "cell_type": "code",
   "execution_count": 26,
   "metadata": {},
   "outputs": [
    {
     "name": "stderr",
     "output_type": "stream",
     "text": [
      "test_count_valid_passports (__main__.TestDayFourPartOne) ... ok\n",
      "test_expense_report (__main__.TestDayOnePartOne) ... ok\n",
      "test_expense_report_three (__main__.TestDayOnePartTwo) ... ok\n",
      "test_count_trees (__main__.TestDayThreePartOne) ... ok\n",
      "test_mul_tree_num (__main__.TestDayThreePartTwo) ... ok\n",
      "test_count_valid_passwords (__main__.TestDayTwoPartOne) ... ok\n",
      "test_count_valid_passwords_pos (__main__.TestDayTwoPartTwo) ... ok\n",
      "\n",
      "----------------------------------------------------------------------\n",
      "Ran 7 tests in 0.005s\n",
      "\n",
      "OK\n"
     ]
    },
    {
     "data": {
      "text/plain": [
       "<unittest.main.TestProgram at 0x1a297e0ad30>"
      ]
     },
     "execution_count": 26,
     "metadata": {},
     "output_type": "execute_result"
    }
   ],
   "source": [
    "class TestDayFourPartOne(unittest.TestCase):\n",
    "    \n",
    "    def test_count_valid_passports(self):\n",
    "        test_passports = [{\"ecl\":\"gry\", \"pid\":\"860033327\", \"eyr\":\"2020\", \"hcl\":\"#fffffd\",\n",
    "\"byr\":\"1937\", \"iyr\":\"2017\", \"cid\":\"147\", \"hgt\":\"183cm\"},\n",
    "\n",
    "{\"iyr\":\"2013\", \"ecl\":\"amb\", \"cid\":\"350\", \"eyr\":\"2023\", \"pid\":\"028048884\",\n",
    "\"hcl\":\"#cfa07d\", \"byr\":\"1929\"},\n",
    "\n",
    "{\"hcl\":\"#ae17e1\", \"iyr\":\"2013\",\n",
    "\"eyr\":\"2024\",\n",
    "\"ecl\":\"brn\", \"pid\":\"760753108\", \"byr\":\"1931\",\n",
    "\"hgt\":\"179cm\"},\n",
    "\n",
    "{\"hcl\":\"#cfa07d\", \"eyr\":\"2025\", \"pid\":\"166559648\",\n",
    "\"iyr\":\"2011\", \"ecl\":\"brn\", \"hgt\":\"59in\"}]\n",
    "        actual = count_valid_passports(test_passports)\n",
    "        expected = 2\n",
    "        self.assertEqual(actual, expected)\n",
    "        \n",
    "\n",
    "unittest.main(argv=[''], verbosity=2, exit=False)"
   ]
  },
  {
   "cell_type": "code",
   "execution_count": 27,
   "metadata": {},
   "outputs": [
    {
     "name": "stdout",
     "output_type": "stream",
     "text": [
      "N° of valid passports 219\n"
     ]
    }
   ],
   "source": [
    "# Once the tests display OK, run the function on the data \n",
    "result = count_valid_passports(passports)\n",
    "\n",
    "print(\"N° of valid passports\", result)"
   ]
  },
  {
   "cell_type": "markdown",
   "metadata": {},
   "source": [
    "### Part Two\n",
    "\n",
    "\n",
    "The line is moving more quickly now, but you overhear airport security talking about how passports with invalid data are getting through. Better add some data validation, quick!\n",
    "\n",
    "You can continue to ignore the cid field, but each other field has strict rules about what values are valid for automatic validation:\n",
    "\n",
    "* `byr` (Birth Year) - four digits; at least 1920 and at most 2002.\n",
    "* `iyr` (Issue Year) - four digits; at least 2010 and at most 2020.\n",
    "* `eyr` (Expiration Year) - four digits; at least 2020 and at most 2030.\n",
    "* `hgt` (Height) - a number followed by either cm or in: If cm, the number must be at least 150 and at most 193. If in, the number must be at least 59 and at most 76.\n",
    "* `hcl` (Hair Color) - a # followed by exactly six characters 0-9 or a-f.\n",
    "* `ecl` (Eye Color) - exactly one of: amb blu brn gry grn hzl oth.\n",
    "* `pid` (Passport ID) - a nine-digit number, including leading zeroes.\n",
    "* `cid` (Country ID) - ignored, missing or not.\n",
    "\n",
    "\n",
    "Your job is to count the passports where all required fields are both present and valid according to the above rules. Here are some example values:\n",
    "\n",
    "\n",
    "* byr valid:   2002\n",
    "* byr invalid: 2003\n",
    "\n",
    "* hgt valid:   60in\n",
    "* hgt valid:   190cm\n",
    "* hgt invalid: 190in\n",
    "* hgt invalid: 190\n",
    "\n",
    "* hcl valid:   #123abc\n",
    "* hcl invalid: #123abz\n",
    "* hcl invalid: 123abc\n",
    "\n",
    "* ecl valid:   brn\n",
    "* ecl invalid: wat\n",
    "\n",
    "* pid valid:   000000001\n",
    "* pid invalid: 0123456789\n",
    "\n",
    "Here are some invalid passports:\n",
    "\n",
    "```\n",
    "eyr:1972 cid:100\n",
    "hcl:#18171d ecl:amb hgt:170 pid:186cm iyr:2018 byr:1926\n",
    "\n",
    "iyr:2019\n",
    "hcl:#602927 eyr:1967 hgt:170cm\n",
    "ecl:grn pid:012533040 byr:1946\n",
    "\n",
    "hcl:dab227 iyr:2012\n",
    "ecl:brn hgt:182cm pid:021572410 eyr:2020 byr:1992 cid:277\n",
    "\n",
    "hgt:59cm ecl:zzz\n",
    "eyr:2038 hcl:74454a iyr:2023\n",
    "pid:3556412378 byr:2007\n",
    "```\n",
    "\n",
    "Here are some valid passports:\n",
    "\n",
    "```\n",
    "pid:087499704 hgt:74in ecl:grn iyr:2012 eyr:2030 byr:1980\n",
    "hcl:#623a2f\n",
    "\n",
    "eyr:2029 ecl:blu cid:129 byr:1989\n",
    "iyr:2014 pid:896056539 hcl:#a97842 hgt:165cm\n",
    "\n",
    "hcl:#888785\n",
    "hgt:164cm byr:2001 iyr:2015 cid:88\n",
    "pid:545766238 ecl:hzl\n",
    "eyr:2022\n",
    "\n",
    "iyr:2010 hgt:158cm hcl:#b6652a ecl:blu byr:1944 eyr:2021 pid:093154719\n",
    "```\n",
    "\n",
    "Count the number of valid passports - those that have all required fields and valid values. Continue to treat cid as optional. In your batch file, how many passports are valid?"
   ]
  },
  {
   "cell_type": "code",
   "execution_count": 28,
   "metadata": {},
   "outputs": [],
   "source": [
    "## Define function\n",
    "import re\n",
    "\n",
    "def count_valid_passports_plus(passports):\n",
    "    count = 0\n",
    "    for passport in passports:\n",
    "        if (len(list(passport.keys()))==8) or (len(list(passport.keys()))==7 and \"cid\" not in passport):\n",
    "            # Insert instructions\n",
    "            if (1920 <= int(passport['byr']) <= 2002 and \n",
    "                2010 <= int(passport['iyr']) <= 2020 and\n",
    "               2020 <= int(passport['eyr']) <= 2030):\n",
    "                if ((passport['hgt'][-2:]==\"cm\" and 150 <= int(passport['hgt'][:-2]) <= 193) or\n",
    "                    (passport['hgt'][-2:]==\"in\" and 59 <= int(passport['hgt'][:-2]) <= 76)):\n",
    "                    if (re.search(r'#[a-f0-9]{6}', passport[\"hcl\"]) and\n",
    "                        re.search(r'amb|blu|brn|gry|grn|hzl|oth', passport[\"ecl\"]) and\n",
    "                       len(passport[\"pid\"])==9):\n",
    "                        count += 1\n",
    "                    \n",
    "            \n",
    "    return count"
   ]
  },
  {
   "cell_type": "code",
   "execution_count": 29,
   "metadata": {},
   "outputs": [
    {
     "name": "stderr",
     "output_type": "stream",
     "text": [
      "test_count_valid_passports (__main__.TestDayFourPartOne) ... ok\n",
      "test_count_invalid_passports_plus (__main__.TestDayFourPartTwo) ... ok\n",
      "test_count_valid_passports_plus (__main__.TestDayFourPartTwo) ... ok\n",
      "test_expense_report (__main__.TestDayOnePartOne) ... ok\n",
      "test_expense_report_three (__main__.TestDayOnePartTwo) ... ok\n",
      "test_count_trees (__main__.TestDayThreePartOne) ... ok\n",
      "test_mul_tree_num (__main__.TestDayThreePartTwo) ... ok\n",
      "test_count_valid_passwords (__main__.TestDayTwoPartOne) ... ok\n",
      "test_count_valid_passwords_pos (__main__.TestDayTwoPartTwo) ... ok\n",
      "\n",
      "----------------------------------------------------------------------\n",
      "Ran 9 tests in 0.006s\n",
      "\n",
      "OK\n"
     ]
    },
    {
     "data": {
      "text/plain": [
       "<unittest.main.TestProgram at 0x1a297e347c0>"
      ]
     },
     "execution_count": 29,
     "metadata": {},
     "output_type": "execute_result"
    }
   ],
   "source": [
    "class TestDayFourPartTwo(unittest.TestCase):\n",
    "    \n",
    "    def test_count_valid_passports_plus(self):\n",
    "        test_passports = [{\"pid\":\"087499704\", \n",
    "                           \"hgt\":\"74in\", \n",
    "                           \"ecl\":\"grn\", \n",
    "                           \"iyr\":\"2012\", \n",
    "                           \"eyr\":\"2030\", \n",
    "                           \"byr\":\"1980\",\n",
    "                           \"hcl\":\"#623a2f\"},\n",
    "                          {\"eyr\":\"2029\", \"ecl\":\"blu\", \"cid\":\"129\", \"byr\":\"1989\",\n",
    "                           \"iyr\":\"2014\", \"pid\":\"896056539\", \"hcl\":\"#a97842\", \"hgt\":\"165cm\"},\n",
    "\n",
    "{\"hcl\":\"#888785\",\n",
    "\"hgt\":\"164cm\", \"byr\":\"2001\", \"iyr\":\"2015\", \"cid\":\"88\",\n",
    "\"pid\":\"545766238\", \"ecl\":\"hzl\",\n",
    "\"eyr\":\"2022\"},\n",
    "\n",
    "{\"iyr\":\"2010\", \"hgt\":\"158cm\", \"hcl\":\"#b6652a\", \"ecl\":\"blu\", \"byr\":\"1944\", \"eyr\":\"2021\", \"pid\":\"093154719\"}]\n",
    "        actual = count_valid_passports_plus(test_passports)\n",
    "        expected = len(test_passports)\n",
    "        self.assertEqual(actual, expected)\n",
    "    def test_count_invalid_passports_plus(self):\n",
    "        test_passports = [{\"eyr\":\"1972\", \"cid\":\"100\",\n",
    "\"hcl\":\"#18171d\", \"ecl\":\"amb\", \"hgt\":\"170\", \"pid\":\"186cm\", \"iyr\":\"2018\", \"byr\":\"1926\"},\n",
    "\n",
    "{\"iyr\":\"2019\",\n",
    "\"hcl\":\"#602927\", \"eyr\":\"1967\", \"hgt\":\"170cm\",\n",
    "\"ecl\":\"grn\", \"pid\":\"012533040\", \"byr\":\"1946\"},\n",
    "\n",
    "{\"hcl\":\"dab227\", \"iyr\":\"2012\",\n",
    "\"ecl\":\"brn\", \"hgt\":\"182cm\", \"pid\":\"021572410\", \"eyr\":\"2020\", \"byr\":\"1992\", \"cid\":\"277\"},\n",
    "\n",
    "{\"hgt\":\"59cm\", \"ecl\":\"zzz\",\n",
    "\"eyr\":\"2038\", \"hcl\":\"74454a\", \"iyr\":\"2023\",\n",
    "\"pid\":\"3556412378\", \"byr\":\"2007\"}]\n",
    "        actual = count_valid_passports_plus(test_passports)\n",
    "        expected = 0\n",
    "        self.assertEqual(actual, expected)\n",
    "        \n",
    "\n",
    "unittest.main(argv=[''], verbosity=2, exit=False)"
   ]
  },
  {
   "cell_type": "code",
   "execution_count": 30,
   "metadata": {},
   "outputs": [
    {
     "name": "stdout",
     "output_type": "stream",
     "text": [
      "Valid passports: 127\n"
     ]
    }
   ],
   "source": [
    "# Once the tests display OK, run the function on the data \n",
    "result = count_valid_passports_plus(passports)\n",
    "\n",
    "print(\"Valid passports:\", result)"
   ]
  },
  {
   "cell_type": "markdown",
   "metadata": {},
   "source": [
    "## Day 5: Binary Boarding\n",
    "\n",
    "You board your plane only to discover a new problem: you dropped your boarding pass! You aren't sure which seat is yours, and all of the flight attendants are busy with the flood of people that suddenly made it through passport control.\n",
    "\n",
    "You write a quick program to use your phone's camera to scan all of the nearby boarding passes (your puzzle input); perhaps you can find your seat through process of elimination.\n",
    "\n",
    "Instead of [zones or groups](https://www.youtube.com/watch?v=oAHbLRjF0vo), this airline uses **binary space partitioning** to seat people. A seat might be specified like FBFBBFFRLR, where F means \"front\", B means \"back\", L means \"left\", and R means \"right\".\n",
    "\n",
    "The first 7 characters will either be F or B; these specify exactly one of the **128 rows** on the plane (numbered 0 through 127). Each letter tells you which half of a region the given seat is in. Start with the whole list of rows; the first letter indicates whether the seat is in the **front** (0 through 63) or the **back** (64 through 127). The next letter indicates which half of that region the seat is in, and so on until you're left with exactly one row.\n",
    "\n",
    "For example, consider just the first seven characters of `FBFBBFFRLR`:\n",
    "\n",
    "* Start by considering the whole range, rows 0 through 127.\n",
    "* F means to take the **lower half**, keeping rows 0 through 63.\n",
    "* B means to take the **upper half**, keeping rows 32 through 63.\n",
    "* F means to take the **lower half**, keeping rows 32 through 47.\n",
    "* B means to take the **upper half**, keeping rows 40 through 47.\n",
    "* B keeps rows 44 through 47.\n",
    "* F keeps rows 44 through 45.\n",
    "* The final F keeps the lower of the two, **row 44**.\n",
    "\n",
    "The last three characters will be either L or R; these specify exactly one of the **8 columns** of seats on the plane (numbered 0 through 7). The same process as above proceeds again, this time with only three steps. L means to keep the **lower half**, while R means to keep the upper **half**.\n",
    "\n",
    "For example, consider just the last 3 characters of `FBFBBFFRLR`:\n",
    "\n",
    "* Start by considering the whole range, columns 0 through 7.\n",
    "* R means to take the **upper half**, keeping columns 4 through 7.\n",
    "* L means to take the **lower half**, keeping columns 4 through 5.\n",
    "* The final R keeps the upper of the two, column 5.\n",
    "\n",
    "So, decoding `FBFBBFFRLR` reveals that it is the seat at **row 44, column 5**.\n",
    "\n",
    "Every seat also has a unique **seat ID**: multiply the row by 8, then add the column. In this example, the seat has ID `44 * 8 + 5 = 357`.\n",
    "\n",
    "Here are some other boarding passes:\n",
    "\n",
    "* `BFFFBBFRRR`: row 70, column 7, seat ID 567.\n",
    "* `FFFBBBFRRR`: row 14, column 7, seat ID 119.\n",
    "* `BBFFBBFRLL`: row 102, column 4, seat ID 820.\n",
    "\n",
    "**As a sanity check, look through your list of boarding passes. What is the highest seat ID on a boarding pass?**"
   ]
  },
  {
   "cell_type": "code",
   "execution_count": 31,
   "metadata": {
    "scrolled": true
   },
   "outputs": [
    {
     "name": "stdout",
     "output_type": "stream",
     "text": [
      "['FFBFBFBRRL', 'FBFFBFBLRR', 'FFFBBFBRLR', 'FBBFFBFRRR', 'FBBBFFFLRR', 'FBBBFFBRRL', 'FBBBBFBRRL', 'BFBBFFBLLL', 'BBFFFFFRRR', 'BFBFFBFLRR', 'FBFFFBBRRR', 'BFBFBFBLRR', 'FFFBFBBRRL', 'BFBFFBFRRL', 'FBFFFBBRLR', 'FFBBFFBLRR', 'FFBFBBBLLR', 'FBFFBFBLLR', 'BBBFFFFLRR', 'FFBBBBBRLR', 'FBBBBFBLLL', 'FFFBFBFLRR', 'FFBFFFFRLL', 'FBBFFFFRRR', 'BFFFBBFRLR', 'BFBBFFFLRR', 'FBBBBFBRRR', 'FBFFBFBLLL', 'BBFBFFFRRL', 'FBBBFBBRRR', 'BBFFFFBLLL', 'FFFBFFBLRR', 'FFBFFBBRLL', 'BBBFFFFRLL', 'BFBBBBBLRR', 'FFBBFBBLRL', 'BFBFBFFLLL', 'FBFBBFFRLL', 'FFFBBFBLLR', 'FBBBBBFRRL', 'BFBFBBBRLR', 'FBBBFBFLLL', 'FBBFFFFLRL', 'BFBBBFBRRL', 'FFBBFFFRRR', 'BFBFBFFRLL', 'FBFBBBBLLR', 'FBFBBBFRLL', 'BFFBBBFLRR', 'BFFFBBFLLR', 'BFBFBBBLRR', 'BFBFFFBRRR', 'BBBFFFFLRL', 'FBFBBFFLRL', 'FBBFFBBLLR', 'FBBFBFBRLL', 'FBFFBBFRLR', 'BFBFBBBLLL', 'FBBFBBFLLL', 'BFBFBBBRLL', 'BBFFFFFRLL', 'BFBBFFFLLL', 'BFFFFFFRLR', 'FBFFBFFLRR', 'FFFBBBFRLR', 'BFFBBBFRRL', 'BFBBFBBRRL', 'BFFBBBBRLR', 'BBFBFFFRRR', 'FFFBFFBRLR', 'BFBFBBFLRL', 'BBFFFFBLRL', 'BBFFBBFRLL', 'FBBBFBFLRR', 'BFFBBBFLLL', 'BFBFBFBRRR', 'FBFFFBFRRL', 'FBBBFFFRLL', 'BFFBBFFRRL', 'BFFFBFBLLR', 'FBBFBFFLLR', 'BFBFBFBLLL', 'BBBFFFFRLR', 'FFBFFFFLRR', 'BFBFBBFRRR', 'FBBFBFFRLR', 'BFFFFBFLLL', 'FFBFFFFRRL', 'FBFBBFBRRL', 'FBFBBFBLRR', 'BFBFBFBRLL', 'FFBFBFFRRR', 'BFFFBFFRRR', 'FBFBFFFRRL', 'FFFBBFFLRR', 'FBBFFBFRRL', 'BFFFBFFRLR', 'BBFBBBBRLL', 'BFBFBBBLLR', 'BFFFBBFLRR', 'FFFBFFFLRL', 'BBFBFFFLLR', 'FFBBBFFRRR', 'FBBFBBFLRR', 'FBBFFFFLRR', 'FBBFBFBRRL', 'FFFBBBBLRL', 'BBFFFFBRLL', 'FBFBFFBRLL', 'BFFFFFFLLL', 'BFBBBBFRLL', 'FBBBFFBRRR', 'BFFFBBBRLR', 'FBBBBBBRRL', 'FBFFBFBRLL', 'FBBFBFBLLR', 'BBFFFFBRRL', 'BBFBBBFLLR', 'FBFBBFFRLR', 'BBFBBBFRLR', 'FFBFFFBLLL', 'FBFFFBBLRR', 'BBFFBFFRLL', 'FBFBFFFRLL', 'BFFFFFBRLR', 'FBFBBBBRLL', 'BBFBFFBLLL', 'FFBFFBFRLL', 'FBBBBBFRRR', 'BFBFBBFRLR', 'FFBFFBBLRR', 'FBFFFBBRLL', 'FBBFBFBLRL', 'FBBFBBBLLR', 'BBFFBBBLRL', 'FFFBFFBRLL', 'BFBBBFFRLL', 'BFFBFFFLRL', 'BFFFFFBLLR', 'FFBFBBBRRR', 'FFBFFBBLRL', 'BBFBBBFRLL', 'BFFBBBFRRR', 'BFBBFBFLLR', 'FFBFFFFRRR', 'FBBBFFFLLR', 'FFFBFBBLRR', 'FBBBBFBRLR', 'FFFFBBBRLL', 'BFBBFBBRLL', 'FFFBBBBRLR', 'FBFFFFFRRR', 'FBBBBBBRLR', 'FFBFBFFRLL', 'BBFBFFFLLL', 'BBFFFBFLLL', 'BFBFBFFRLR', 'BFFBBFBLLL', 'BFFFFFBLRR', 'FFBBFFBRRR', 'FFFBFBBRLL', 'FFBFBBBLRL', 'BFFBFFBLRL', 'BBFBFBBRRL', 'BFFBFFBRRL', 'BFFBBFBRLR', 'FBBBBBFLLL', 'BBFBBFBRRR', 'FFBBFFFRLR', 'FFFBFFFRLR', 'BFBBBFBLLR', 'BBFBFBFRLL', 'BBFBFFBRRR', 'FBBBBFBRLL', 'BFFFFBBLRR', 'FBFBFFFRRR', 'BFBFBFBLLR', 'BFBBFFBLRR', 'FFBFBFBLRR', 'FFBFBFBLLR', 'FFBBBFFLRR', 'FBFBBBBRRR', 'FBFFBBBLRL', 'BBFBBFFLLL', 'BFFFBFFLRL', 'BFBFFBFRRR', 'BFFBFBBRRR', 'FBBBBBFLRR', 'BFBFFFFLRR', 'FFBBFFFRRL', 'FBBFFFFLLL', 'FBBBFBBLLR', 'BBFFFBFRRR', 'BFBFFFFRLL', 'BBFFFFBLLR', 'FBBBBBFRLR', 'FBFFBBBRRR', 'BFBBBBBLLR', 'BFFFBBBLRL', 'BFFBFFBLLR', 'BFFBFFFLLL', 'FFBFFFBRLR', 'FBBFFBFRLL', 'FBFFBBFRRL', 'FFFBBFBLLL', 'FFFBFFFRLL', 'BFFFFBFLLR', 'FBFFFFFRLL', 'FFBBBBBLLL', 'FBFFFBBLRL', 'FBBFFBBRLL', 'BFBBBBFRRR', 'BFBBBBFLLR', 'BBFBBBFLLL', 'BFFBFBBRLR', 'FBBBBBBLRR', 'BFBFFFFLLR', 'BFBFBFFLRR', 'FBBFBFBLRR', 'BFBFBBBRRL', 'BBBFFFBLLL', 'FFBBBFBRRL', 'FFBBBFBRLR', 'BFBBBFBRLR', 'BFBBFFBLRL', 'FBFFBFFLRL', 'BFBBFBBRLR', 'FFBFFBFLRL', 'BFFBBBFRLL', 'FBFBFBFLLL', 'BFBBBFFLRR', 'FBFBBBBRRL', 'BFFBFBBRLL', 'BBFBBFFLRR', 'FBFFBFFLLL', 'FFBBBFBLLR', 'BBFFFFFLLL', 'FBFBFBBRLL', 'FFBFFBFRLR', 'BFBBFBFRLL', 'FFFBFFFLLL', 'FBBBFBFLLR', 'FBFFFBBLLL', 'BFFFBFFRLL', 'FBBFFFFRRL', 'FFFBFBFRRR', 'FBFFFFFLLL', 'BFBFFBFLLL', 'BFFBBFBRRL', 'BFFBBBBRLL', 'FBFFFFFLLR', 'BBFBBFBRLR', 'BBFBFBBRLL', 'BBBFFFFRRL', 'FFFBBFBRRR', 'FBBBBFBLRL', 'FFBBBFFRLL', 'BFBBFBFRRL', 'FBBBBFFRRR', 'FBFBBBBLRL', 'BBFBFBFRRL', 'BBFFBFBLLR', 'FFFFBBBRLR', 'FFBBFBFRRR', 'BBFBFBFLLL', 'BBFFFBBLLL', 'FBBBBFFLRL', 'BBFFBBFLRR', 'BFFFFFFRLL', 'BBFFBFBLRL', 'FFBBBBFRLL', 'BFBFFBBRLL', 'FBBBFFBLLL', 'BFFBFFBLLL', 'FFFFBBBRRR', 'FFFBBFFLLR', 'BFBFFFBLRL', 'FBFBBBFLRR', 'FBBFBFBRRR', 'BFFFFFBRRR', 'BBFFBBFRRR', 'BFFFFBFRLL', 'FFBFBBFLLL', 'FBFFBBFLLR', 'BFFBBFBRRR', 'BBFFBFFRLR', 'FBBBBBBLLR', 'BFBFBFBRLR', 'BBFBBFBLRR', 'FFFBFBBLLL', 'FBFBFFFRLR', 'BFBFFBBRRL', 'FFBBFBBLRR', 'BBFBFFBLLR', 'BFFBFBBLRL', 'FBFFBFBRRL', 'FFBBFFBLLL', 'BFBFFFFRLR', 'FBFFFBFRLL', 'FBBBFBBRLL', 'FFFBBBFLLL', 'FBBFBBBLRR', 'FFBFFBBRRL', 'FFFBFBBRLR', 'FBFFBBBRRL', 'BBFBFBFRRR', 'BFFBFBFLLR', 'FBFFFBFRLR', 'BBFBBBBLRL', 'FFFBBFFRRL', 'FBFBFBFLLR', 'FFBBBBFRRR', 'BFFFBFBLRL', 'BFBBBFBLRR', 'BFFBBFBLRL', 'FFBBFBFRRL', 'FFBBBBFLLR', 'BFFBFFBLRR', 'FBBFFBBLLL', 'FBBBBBFRLL', 'FBFBFBBLLL', 'FBBBBFFRLR', 'BBFFFFBLRR', 'BFFBBBBLRL', 'BFFBFBFRLR', 'FFBBBBFRLR', 'FBBBFFFLLL', 'BBBFFFFRRR', 'BBFBFBFLLR', 'FBBFBBBLLL', 'BBFFBFFRRL', 'BFFFBFBRLL', 'FFFBFBFLLL', 'FBBBBBFLLR', 'FFBBBBFRRL', 'BFFFBBFRLL', 'FFBFFFBLLR', 'FFBFBFBRLR', 'FFBFFBFLRR', 'FBBFBFFRRL', 'FBFFFBFLRL', 'BFBBBFFLRL', 'BFFFBBFRRR', 'BBFFFFBRLR', 'FBFFBBBLRR', 'BBFFBBBRRL', 'FBFBFBBRRR', 'FFBBBFBRRR', 'BBFFFFFLLR', 'FBBFBBFRLL', 'BFFFFFFRRR', 'BBFBFFFRLL', 'FBFBBFFRRL', 'FFFBFFBLLR', 'BFBBFFFLLR', 'FBBFFBBRLR', 'BFFBFBFLRL', 'FFFBBFFLRL', 'BFBFFFFRRR', 'BFFBFFFRRR', 'FBBFBFFRLL', 'BBFFBBFRLR', 'BFBBBBBLRL', 'FFBBFFFLRL', 'BFFBFFBRRR', 'FBBBFFBLLR', 'BBFBFFFLRL', 'FBFFBBFLLL', 'FFFBBFFRRR', 'FFFBFBFRLR', 'FFBBFBFRLR', 'BFBFFFFLLL', 'FBFBBFFLRR', 'BFFFBBFRRL', 'FBBFBBFRLR', 'FFFBFBFRLL', 'BFFFBFBRLR', 'BBFFFBFRLL', 'FBBBFBBRRL', 'BBFBBFFRRR', 'FFFBFFFRRL', 'BBFBBFFLLR', 'BBFFBBFRRL', 'FFBBFFBLLR', 'BBFFBFBRLL', 'FBBBFBBLRR', 'BFFBFFBRLR', 'BFFBBBBLLR', 'FFFBBFFLLL', 'BFFFBFFLLL', 'BBFFBFBRLR', 'FBFBFBFLRL', 'FBBBBFFRRL', 'BBFFFBBLRR', 'FFFBFBBRRR', 'BFBBFBFRLR', 'BFBBFBFLLL', 'FFFBFBBLLR', 'BFBBFFFRLL', 'FBBFFFFRLL', 'BFFFBFBLRR', 'FFBFFBBRRR', 'FFFBBFFRLL', 'BFFFFBFRRL', 'BBFBBFBRRL', 'BFBFFBBRRR', 'FBFFBFFRLR', 'BFFBFBFRLL', 'BFBFBBBLRL', 'FFFBBFFRLR', 'BFFFFFBLLL', 'FFFBFFFLRR', 'FBBFFBFLRR', 'FBFBBFFLLL', 'BFFBFBBLRR', 'BFFFFFFLRL', 'FFFBFFBLRL', 'BFFBBBBLLL', 'BFFFFFBRLL', 'BBFFBFFLRR', 'BFFBBFBLRR', 'BFFFBFFLLR', 'BBFFBFBLRR', 'BFBBBBBRRL', 'FBFBFFFLRR', 'FBFBBFFRRR', 'FBFFBBFLRL', 'FBFFFFBRRL', 'FFBBBBBLRR', 'BFFFFBFLRR', 'BBFBBBFRRR', 'FFBBBFBRLL', 'FBBFFFFLLR', 'BFBBBBFLRR', 'FFBFFFBRRL', 'BFBBFBBLRL', 'FFBBFBBRRR', 'FBBBFBFRLL', 'FBFBBBFLLL', 'BFFFFBBLRL', 'BBFBFBBLRR', 'FFFBFBFRRL', 'FBBFFFBRLL', 'BFFFFFFRRL', 'FBFFFBFLLL', 'BFBBBBBRLR', 'BBFBBBFLRR', 'FBBBFFBLRR', 'BBFFBBBLRR', 'FFFBFBFLLR', 'FBBBFBFRRL', 'BFFFBBFLRL', 'FFFBBBBLRR', 'BFBBBBFRLR', 'BBFBFBBLLR', 'BFBFBBFLLR', 'FBBBBBBLRL', 'BFBFFBBLLL', 'BFFFBFFRRL', 'BFFBBFFRRR', 'BBFFFBBRLL', 'FBBBBFFLLL', 'BFFFFFFLRR', 'BBFBBBFRRL', 'BFBBFBFRRR', 'BFBFBFBRRL', 'BFBFFFBLRR', 'FBBFBBBRLR', 'FBFBBFBRLL', 'FBFBFFBRRR', 'BFBBFBFLRR', 'BFBBFBBRRR', 'BFBBFFFLRL', 'FBFFFFFRLR', 'BBFFBBBLLL', 'BFBBFFBRLL', 'FBBBFFFRLR', 'FFBBFBBRLL', 'FBFBBBBRLR', 'BBFFBFFLLL', 'BBFFBBBRLL', 'FBFFFFBRLL', 'FFBBFBBLLL', 'FFBFFFFLRL', 'BBFBBFBLLR', 'FBFBFBBLRR', 'FFBBFFFLLL', 'BBFBFBBLLL', 'BFBFFFFRRL', 'FFBFBFFLRL', 'BFFBFFFRRL', 'FBFFFFFRRL', 'BBFBFBFRLR', 'FFBBBFBLRL', 'BFBBFFBRRR', 'BFBBBBBRRR', 'BBFFBFFLLR', 'FBBFFBBRRL', 'BFBFFFBRLR', 'FFFBBBFRLL', 'FFFBBBBRLL', 'FFBBBBBRRR', 'BBFBBBBLRR', 'FBFBBBBLRR', 'FBBFFBFRLR', 'BFFFFBFLRL', 'BFBBFBBLLL', 'FBBFBBBRLL', 'FFBBFBFLRR', 'BFBFBBBRRR', 'FFBFBFFRRL', 'BFFFFBFRRR', 'FBFBBFFLLR', 'BBFBBFFLRL', 'FBFFBBBRLL', 'FFBBFBBRRL', 'FFBFBFBLRL', 'BBFFBFBRRL', 'FFFBBBFLLR', 'FBFFBFFRRL', 'FFBFBFFLRR', 'BFFBBFFRLR', 'FFBFBFFRLR', 'BBFBFBBRRR', 'FBFBBBFLRL', 'FBFFBBFRRR', 'BFBFBFFLRL', 'FBBBFFBRLL', 'BFBFFBFRLR', 'BBFBFBBRLR', 'FBFBFFFLLL', 'FBFFFBBLLR', 'FBFFBFFRRR', 'FFFBBFBLRR', 'FFBFBFFLLL', 'BFFBBFBRLL', 'BFBFFFBLLR', 'BFFBBBFLLR', 'FBBFBFBRLR', 'FBBBFBFLRL', 'FBFFBBBRLR', 'FFBBBFFLRL', 'FFFBBBFLRL', 'BFFBBBFLRL', 'FFBBFFFLRR', 'FFBBBBFLLL', 'BFFBFFFRLR', 'FFBBBFBLRR', 'FFBBBFFRLR', 'BFFBBFFLRL', 'FBBBFFFLRL', 'BFFFBBBLRR', 'FFFFBBBLRR', 'BBFFFFBRRR', 'FBBFFFBLLR', 'BFBFFBFLRL', 'BFBBFFBRLR', 'BFBBBBFRRL', 'BFBFFBBLRL', 'FBBBBFFRLL', 'BFFFFBBLLL', 'FBBBFFFRRL', 'FFBBFBBLLR', 'BFBBBFFLLR', 'FBFBFBBLLR', 'FFBFFBFRRL', 'BBFBBFFRRL', 'BFBBBBBLLL', 'FBFBBFBLLL', 'BBFBFFBLRR', 'FBBFFBFLRL', 'BFFBFBBLLR', 'FFBFBBFLRR', 'BBFFBBBRLR', 'FFFBBBFRRL', 'BFFBBBFRLR', 'FBBBFBBLLL', 'FFBFFFFLLR', 'FBBFFFBRRL', 'BBFFBBFLLR', 'BFBBFBBLRR', 'FFFBFFBRRL', 'FFBFBBBRLR', 'FBBFFFBRLR', 'BFBFBFFRRR', 'BBFFFBBRLR', 'FBBBBFBLLR', 'BFBBBBBRLL', 'FBFBFBBRRL', 'FBBFFBBRRR', 'BBFFFBFLRL', 'FBBBBFFLRR', 'FBBFBFFLLL', 'FBBBFFBLRL', 'BFBBBFFRLR', 'BFBBFFBRRL', 'FFBFBBBLRR', 'BFFBFBFLLL', 'BFFFFBBRLR', 'BFFBFBFRRR', 'BFFFBBBRRL', 'FBFBBBFRLR', 'FBBBFBBRLR', 'FBFFFFFLRR', 'BFFFFBFRLR', 'BFBFFBFRLL', 'BBFBBFFRLL', 'FBBBFBFRLR', 'BBFBBBBRRL', 'BFBBBFBRLL', 'BBFFFFFLRR', 'FBFFFFBRLR', 'BFBFBFFRRL', 'FBFFBBBLLR', 'BBFFFBBRRR', 'BFBFBFFLLR', 'BBFFBBFLRL', 'BFBBFFBLLR', 'FFFBBFBRRL', 'BFFBBBBRRL', 'BFBBBBFLLL', 'BFFFBBBLLL', 'BBFBBFBLLL', 'BBFBBFBRLL', 'FFBFFFFRLR', 'FFBFBBFLRL', 'BFFBBBBRRR', 'FBFFBFBRRR', 'BFFFBFBRRL', 'FFBFFFBLRR', 'BFBBBFBLRL', 'BBFBBFFRLR', 'FBFBFBBLRL', 'FBBFFBBLRL', 'BFFFFFBLRL', 'BFFFBBBLLR', 'FBBFBBBRRR', 'BFBFFFFLRL', 'BFBBBBFLRL', 'BFBBBFBLLL', 'FBFBBBFRRR', 'FBFBFFBRRL', 'BFFFFFFLLR', 'FBBBBBBRLL', 'FFBBFBFLRL', 'FFBFFBFLLR', 'FFBFFFFLLL', 'FFBFFBFLLL', 'BFBFBBFLRR', 'FBFFFBBRRL', 'FBFFFBFRRR', 'FBBBFBFRRR', 'FFBBFFFLLR', 'FBBFBBFLRL', 'BFBBBFFRRR', 'FBFBFFBLRR', 'BBFBBBBLLR', 'BBFFBBBRRR', 'BBFFFBFLLR', 'BFBBFFFRLR', 'FBFFFBFLLR', 'FFBFBBBRRL', 'FFFBBBFRRR', 'BFBBFFFRRL', 'FBBFBBFRRR', 'FFBFBBFRRL', 'FFFFBBBRRL', 'BBFFFBBLRL', 'BFBFBBFRRL', 'FBBBBBFLRL', 'FBBBBFFLLR', 'FBFFFBFLRR', 'FBFFBFBLRL', 'FFBFBFBRLL', 'BFBBFFFRRR', 'BFFFBFBRRR', 'FFBFFFBRLL', 'FBBBFBBLRL', 'BFFFFFBRRL', 'BFFBBFBLLR', 'BFFBBBBLRR', 'BFFBFFFLLR', 'FBFFBFBRLR', 'BFFBFBBLLL', 'FBFFBBBLLL', 'BBFBBBBRLR', 'BBFFFBFLRR', 'FBFBBFBRRR', 'BBFBFFBLRL', 'FFFBFBBLRL', 'FFFBBBFLRR', 'BFBFFBBLRR', 'BFBFBBFRLL', 'FBBFBFFRRR', 'FFBFFBBLLR', 'FFBFFFBRRR', 'FBFBFBBRLR', 'BFBBFBBLLR', 'FBFFBBFLRR', 'BBFFFBFRLR', 'FFBFBBFRRR', 'BBFFFBBLLR', 'BBFFFBFRRL', 'FFFBBBBLLR', 'FBBFFFBLLL', 'FFBFFFBLRL', 'BBBFFFFLLL', 'FFBBBFFRRL', 'FBFBFFFLRL', 'FBBBBBBLLL', 'FFBFBBFLLR', 'BFFFFBBRRR', 'FBBFFBBLRR', 'BBFBFFBRRL', 'FFFBBFBLRL', 'BBFFBBBLLR', 'FFFBFFFRRR', 'FFFBBFBRLL', 'BFFBBFFLRR', 'BBFBBBBLLL', 'BFBFFFBRRL', 'BBFFBFFRRR', 'FBBFFFBLRR', 'FBBBBBBRRR', 'FFFBFFBRRR', 'FBFBFBFRRR', 'BBFFBBFLLL', 'BBFBFBBLRL', 'FFBBFBFRLL', 'BBFBFBFLRL', 'BFBFBFBLRL', 'FBFFFFBRRR', 'FFFBBBBLLL', 'FFBBFFBRLR', 'BBFFFFFLRL', 'BFFBFBBRRL', 'FBBFFBFLLL', 'BBFFBFBRRR', 'FFBBBBFLRL', 'FFBBFBFLLL', 'BFFFBBFLLL', 'FFBBBBFLRR', 'FBFFBBFRLL', 'BBFBBBBRRR', 'FBFBFFFLLR', 'FBFFFFFLRL', 'BFBFBBFLLL', 'BFBFFBBLLR', 'FFBBBBBLRL', 'FFBFBBFRLR', 'FBFFFFBLLR', 'FBFFBFFRLL', 'FBBFBBFRRL', 'FFBFFBFRRR', 'FBBBBFBLRR', 'FBBFBFFLRL', 'FBBFBBFLLR', 'FBFBBFBRLR', 'BBFFBFBLLL', 'BBFBFFFLRR', 'FBFBFBFLRR', 'BBFBFFBRLL', 'BBFBFFBRLR', 'BFBBBFFLLL', 'BFFBFBFRRL', 'BFFFFBBRLL', 'BFFBBFFLLR', 'BFFBFBFLRR', 'BBFBFBFLRR', 'BFFFBFBLLL', 'FFFBFBFLRL', 'FFBFBBBLLL', 'BBFBBFBLRL', 'FFBBFFBRLL', 'BBFBBBFLRL', 'FBBBFFBRLR', 'BFBFFFBRLL', 'FFBFBBBRLL', 'BFBFFBFLLR', 'FFBBBBBRLL', 'FFBFBFBRRR', 'FBFBFFBLRL', 'FFBBFFFRLL', 'FFBBFFBLRL', 'BFFBBFFLLL', 'BFFFBBBRLL', 'FFBFFBBRLR', 'BFFFBFFLRR', 'BFFFBBBRRR', 'FFBFFBBLLL', 'FBBFBFFLRR', 'FBFBBBFRRL', 'FBFFFFBLRL', 'FBBFBBBRRL', 'BFFBBFFRLL', 'BBFFFBBRRL', 'FFBBFBFLLR', 'FFBFBBFRLL', 'FFBFBFFLLR', 'FFBBBFFLLL', 'FBBFBFBLLL', 'FBFBFFBRLR', 'FFBBFBBRLR', 'BFBFFFBLLL', 'FFBBBBBRRL', 'FFFBBBBRRR', 'FFBBBBBLLR', 'FBFBFBFRLL', 'FBFBFBFRRL', 'BBFFBFFLRL', 'FBFBBBBLLL', 'FBFBFFBLLL', 'FBBFFFBLRL', 'FFFBFFFLLR', 'BBFFFFFRLR', 'BFFFFBBLLR', 'FBFBBBFLLR', 'BFFBFFFRLL', 'BBBFFFFLLR', 'FBFBBFBLRL', 'FFBBFFBRRL', 'FBFBFBFRLR', 'BFBBBFBRRR', 'BFFFFBBRRL', 'FFFBBBBRRL', 'FFFBFFBLLL', 'FBFFFFBLRR', 'BBFBFFFRLR', 'FFBBBFFLLR', 'FBBFFFBRRR', 'BFBBFBFLRL', 'BBFFFFFRRL', 'FBFBBFBLLR', 'FBFBFFBLLR', 'FBBFBBBLRL', 'BFBBBFFRRL', 'FBBBFFFRRR', 'FFBBBFBLLL', 'FBFFBFFLLR', 'BFFBFFBRLL', 'FBFFFFBLLL', 'FFBFBFBLLL', 'FBBFFFFRLR', 'BFFBFFFLRR', 'FBBFFBFLLR']\n"
     ]
    }
   ],
   "source": [
    "# Load data\n",
    "from src.day_5 import load_day_5\n",
    "\n",
    "seats = load_day_5()\n",
    "print(seats)"
   ]
  },
  {
   "cell_type": "code",
   "execution_count": 32,
   "metadata": {},
   "outputs": [],
   "source": [
    "# Define function\n",
    "def find_seat(code, n_places, code_letter):\n",
    "    max_limit = n_places - 1\n",
    "    min_limit = 0\n",
    "    middle = n_places // 2\n",
    "    for letter in code[:-1]:\n",
    "        if letter==code_letter[0]:\n",
    "            max_limit -= middle \n",
    "        elif letter==code_letter[1]:\n",
    "            min_limit += middle\n",
    "        middle = middle // 2\n",
    "    return min_limit if code[-1]==code_letter[0] else max_limit\n",
    "\n",
    "def get_highest_seat_id(seats):\n",
    "    max_id = 0\n",
    "    for seat in seats:\n",
    "        row = find_seat(seat[:7], 128, [\"F\", \"B\"])\n",
    "        column = find_seat(seat[7:], 8, [\"L\", \"R\"])\n",
    "        max_id = max(max_id, row * 8 + column)\n",
    "        \n",
    "    \n",
    "    return max_id"
   ]
  },
  {
   "cell_type": "code",
   "execution_count": 33,
   "metadata": {},
   "outputs": [
    {
     "name": "stderr",
     "output_type": "stream",
     "text": [
      "test_compute_id (__main__.TestDayFivePartOne) ... ok\n",
      "test_find_column_seat (__main__.TestDayFivePartOne) ... ok\n",
      "test_find_row_seat (__main__.TestDayFivePartOne) ... ok\n",
      "test_get_highest_seat_id (__main__.TestDayFivePartOne) ... ok\n",
      "test_count_valid_passports (__main__.TestDayFourPartOne) ... ok\n",
      "test_count_invalid_passports_plus (__main__.TestDayFourPartTwo) ... ok\n",
      "test_count_valid_passports_plus (__main__.TestDayFourPartTwo) ... ok\n",
      "test_expense_report (__main__.TestDayOnePartOne) ... ok\n",
      "test_expense_report_three (__main__.TestDayOnePartTwo) ... ok\n",
      "test_count_trees (__main__.TestDayThreePartOne) ... ok\n",
      "test_mul_tree_num (__main__.TestDayThreePartTwo) ... ok\n",
      "test_count_valid_passwords (__main__.TestDayTwoPartOne) ... ok\n",
      "test_count_valid_passwords_pos (__main__.TestDayTwoPartTwo) ... ok\n",
      "\n",
      "----------------------------------------------------------------------\n",
      "Ran 13 tests in 0.008s\n",
      "\n",
      "OK\n"
     ]
    },
    {
     "data": {
      "text/plain": [
       "<unittest.main.TestProgram at 0x1a2979da130>"
      ]
     },
     "execution_count": 33,
     "metadata": {},
     "output_type": "execute_result"
    }
   ],
   "source": [
    "class TestDayFivePartOne(unittest.TestCase):\n",
    "    def test_find_row_seat(self):\n",
    "        test_string = \"FBFBBFF\"\n",
    "        actual = find_seat(test_string, 128, [\"F\", \"B\"])\n",
    "        expected = 44\n",
    "        self.assertEqual(actual, expected)\n",
    "    \n",
    "    def test_find_column_seat(self):\n",
    "        test_string = \"RLR\"\n",
    "        actual = find_seat(test_string, 8, [\"L\", \"R\"])\n",
    "        expected = 5\n",
    "        self.assertEqual(actual, expected)\n",
    "        \n",
    "    def test_compute_id(self):\n",
    "        test_seat = \"FBFBBFFRLR\"\n",
    "        actual = find_seat(test_seat[:7], 128, [\"F\", \"B\"]) * 8 + find_seat(test_seat[7:], 8, [\"L\", \"R\"])\n",
    "        expected = 357\n",
    "        self.assertEqual(actual, expected)\n",
    "    \n",
    "    def test_get_highest_seat_id(self):\n",
    "        test_seats = [\"BFFFBBFRRR\", \"FFFBBBFRRR\", \"BBFFBBFRLL\"]\n",
    "        actual = get_highest_seat_id(test_seats)\n",
    "        expected = 820\n",
    "        self.assertEqual(actual, expected)\n",
    "        \n",
    "\n",
    "unittest.main(argv=[''], verbosity=2, exit=False)"
   ]
  },
  {
   "cell_type": "code",
   "execution_count": 34,
   "metadata": {},
   "outputs": [
    {
     "name": "stdout",
     "output_type": "stream",
     "text": [
      "Highest ID: 904\n"
     ]
    }
   ],
   "source": [
    "# Once the tests display OK, run the function on the data \n",
    "highest_id = get_highest_seat_id(seats)\n",
    "\n",
    "print(\"Highest ID:\", highest_id)"
   ]
  },
  {
   "cell_type": "markdown",
   "metadata": {},
   "source": [
    "### Part Two\n",
    "\n",
    "**Ding!** The \"fasten seat belt\" signs have turned on. Time to find your seat.\n",
    "\n",
    "It's a completely full flight, so your seat should be the only missing boarding pass in your list. However, there's a catch: some of the seats at the very front and back of the plane don't exist on this aircraft, so they'll be missing from your list as well.\n",
    "\n",
    "Your seat wasn't at the very front or back, though; the seats with IDs +1 and -1 from yours will be in your list.\n",
    "\n",
    "**What is the ID of your seat?**"
   ]
  },
  {
   "cell_type": "code",
   "execution_count": 35,
   "metadata": {},
   "outputs": [],
   "source": [
    "def get_id_list(seats):\n",
    "    list_id = []\n",
    "    for seat in seats:\n",
    "        row = find_seat(seat[:7], 128, [\"F\", \"B\"])\n",
    "        column = find_seat(seat[7:], 8, [\"L\", \"R\"])\n",
    "        seat_id = row * 8 + column\n",
    "        if seat_id not in ([i for i in range(8)] + [127 * 8 +i for i in range(8)]):\n",
    "            list_id.append(seat_id)\n",
    "    return sorted(list_id)\n",
    "\n",
    "def compare_missing_seats(seats):\n",
    "    list_id = get_id_list(seats)\n",
    "    full_list = [i for i in range(list_id[0], list_id[-1]+1)]\n",
    "    missing_id = list(set(full_list).difference(set(list_id)))[0]\n",
    "    return missing_id\n",
    "    \n",
    "    "
   ]
  },
  {
   "cell_type": "code",
   "execution_count": 36,
   "metadata": {},
   "outputs": [
    {
     "name": "stdout",
     "output_type": "stream",
     "text": [
      "My seat ID: 669\n"
     ]
    }
   ],
   "source": [
    "# Once the tests display OK, run the function on the data \n",
    "my_seat_id = compare_missing_seats(seats)\n",
    "\n",
    "print(\"My seat ID:\", my_seat_id)"
   ]
  },
  {
   "cell_type": "code",
   "execution_count": null,
   "metadata": {},
   "outputs": [],
   "source": []
  }
 ],
 "metadata": {
  "kernelspec": {
   "display_name": "Python 3",
   "language": "python",
   "name": "python3"
  },
  "language_info": {
   "codemirror_mode": {
    "name": "ipython",
    "version": 3
   },
   "file_extension": ".py",
   "mimetype": "text/x-python",
   "name": "python",
   "nbconvert_exporter": "python",
   "pygments_lexer": "ipython3",
   "version": "3.9.2"
  },
  "varInspector": {
   "cols": {
    "lenName": 16,
    "lenType": 16,
    "lenVar": 40
   },
   "kernels_config": {
    "python": {
     "delete_cmd_postfix": "",
     "delete_cmd_prefix": "del ",
     "library": "var_list.py",
     "varRefreshCmd": "print(var_dic_list())"
    },
    "r": {
     "delete_cmd_postfix": ") ",
     "delete_cmd_prefix": "rm(",
     "library": "var_list.r",
     "varRefreshCmd": "cat(var_dic_list()) "
    }
   },
   "types_to_exclude": [
    "module",
    "function",
    "builtin_function_or_method",
    "instance",
    "_Feature"
   ],
   "window_display": false
  }
 },
 "nbformat": 4,
 "nbformat_minor": 4
}

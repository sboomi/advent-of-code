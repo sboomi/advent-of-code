{
 "cells": [
  {
   "cell_type": "markdown",
   "metadata": {},
   "source": [
    "# Advent of Code 2020\n",
    "\n",
    "Challenges for Christmas 2020.\n",
    "\n",
    "1. Day 6: Custom Customs\n",
    "2. Day 7: Handy Haversacks\n",
    "3. Day 8: Handheld Halting\n",
    "4. Day 9: Encoding Error\n",
    "5. Day 10: Adapter Array"
   ]
  },
  {
   "cell_type": "code",
   "execution_count": 1,
   "metadata": {},
   "outputs": [],
   "source": [
    "import unittest\n",
    "import sys\n",
    "import os\n",
    "\n",
    "sys.path.insert(0, os.path.abspath('..'))"
   ]
  },
  {
   "cell_type": "markdown",
   "metadata": {},
   "source": [
    "## Day 6: Custom Customs\n",
    "\n",
    "As your flight approaches the regional airport where you'll switch to a much larger plane, [customs declaration](https://en.wikipedia.org/wiki/Customs_declaration) forms are distributed to the passengers.\n",
    "\n",
    "The form asks a series of 26 yes-or-no questions marked a through z. All you need to do is identify the questions for which **anyone in your group** answers \"yes\". Since your group is just you, this doesn't take very long.\n",
    "\n",
    "However, the person sitting next to you seems to be experiencing a language barrier and asks if you can help. For each of the people in their group, you write down the questions for which they answer \"yes\", one per line. For example:\n",
    "\n",
    "```\n",
    "abcx\n",
    "abcy\n",
    "abcz\n",
    "```\n",
    "\n",
    "In this group, there are **6** questions to which anyone answered \"yes\": a, b, c, x, y, and z. (Duplicate answers to the same question don't count extra; each question counts at most once.)\n",
    "\n",
    "Another group asks for your help, then another, and eventually you've collected answers from every group on the plane (your puzzle input). Each group's answers are separated by a blank line, and within each group, each person's answers are on a single line. For example:\n",
    "\n",
    "```\n",
    "abc\n",
    "\n",
    "a\n",
    "b\n",
    "c\n",
    "\n",
    "ab\n",
    "ac\n",
    "\n",
    "a\n",
    "a\n",
    "a\n",
    "a\n",
    "\n",
    "b\n",
    "```\n",
    "\n",
    "This list represents answers from five groups:\n",
    "\n",
    "* The first group contains one person who answered \"yes\" to **3** questions: a, b, and c.\n",
    "* The second group contains three people; combined, they answered \"yes\" to **3** questions: a, b, and c.\n",
    "* The third group contains two people; combined, they answered \"yes\" to **3** questions: a, b, and c.\n",
    "* The fourth group contains four people; combined, they answered \"yes\" to only **1** question, a.\n",
    "* The last group contains one person who answered \"yes\" to only **1** question, b.\n",
    "\n",
    "In this example, the sum of these counts is $3 + 3 + 3 + 1 + 1 = 11$.\n",
    "\n",
    "**For each group, count the number of questions to which anyone answered \"yes\". What is the sum of those counts?**"
   ]
  },
  {
   "cell_type": "code",
   "execution_count": 2,
   "metadata": {},
   "outputs": [
    {
     "name": "stdout",
     "output_type": "stream",
     "text": [
      "[['obegcmqadtrhui', 'qbgocuzeimrhdat', 'icuagdbztxrqehoy', 'cuietqhbfroagds', 'uqdgikwhrvcjeltbpao'], ['arke', 'qzr', 'plmgnr', 'uriq'], ['boqznasg', 'ozbncqasg', 'ofgpznjbaqst', 'bgszanoq'], ['srjykwuxvezbgdacmfltnhi', 'zuiedmknagswfcjxbltvyh', 'dcxsuhfrwzleatmnyjkbigv', 'zuesnjfkvclgmbwxdahyti', 'hvbndegywclpimuxotsajkzf'], ['zydkwetqav', 'wyqtmveadk'], ['o', 'noa', 'osub', 'oi', 'noda'], ['edtafusml', 'aorseuvlmtdf', 'deifpumkatls', 'eulstamfd', 'apftmsldkeu'], ['vxqgrpctomw', 'cwxtpvgqnr', 'qtcxvwgrp'], ['mukie', 'emkiu'], ['njvcbmxyquezgso', 'jsmcxnzdefq', 'dqcmeznjsfx', 'nejqzxmsc', 'hnqjscezxm'], ['uigvxyjnhwqrtbplmkdes', 'sykhpwtqmrglxbunivdej', 'simwetgbdqljynkvhrxup'], ['uonxe', 'xoue', 'unoex', 'mexoju'], ['v', 'v', 'v', 'v', 'v'], ['edw', 'ed'], ['cokqv', 'okqv', 'oqpxkv', 'vqako', 'odqhkv'], ['vdcuxbkiznw', 'uidxcbqwvknzs', 'cwukbdnixzv'], ['lzdhg', 'ivpkjao', 'ecwusfqbxyt'], ['owlzbmj', 'kmoabjwz'], ['obgwqplxrji', 'irqltbwxogjp', 'gbljwpoixqr', 'ljqwbogiprx', 'lobjgpxqwri'], ['gxvhbdwirntpocz', 'bzinahrwjmkdgtovp', 'viptgknqrhdycwboz', 'ogrhuislpevztwbnfd'], ['k', 'q'], ['kdq', 'dq', 'qd', 'dwq', 'dwq'], ['l', 'z', 'l'], ['pondj', 'jondp', 'npjdo', 'onjdp', 'ojdnp'], ['odjnevlh', 'jvhxebolmnd', 'vdjlheona', 'odhjvlne'], ['zxmq', 'qmzx', 'xzqm', 'qzxm'], ['lh', 'hpl', 'lh', 'lh'], ['sozm', 'ozsm'], ['uwjvbprdlfonyigszx', 'ygrnlzxufwobpskjvid', 'dforlwgxnijchpzsubyv', 'vnxszbijufyrowlkgdp'], ['h', 'h', 'h', 'a', 'ht'], ['exthuqmdfwaroniy', 'uwyjpqlnhkt'], ['rofyvgnpzejimck', 'znkvjefogcpm', 'ecvkzfgsotnpij', 'fjvhkepmnzogc', 'qwfglzakdxncoujpve'], ['oqwfbcdnipugkzret', 'turdpikfwonqezbcg', 'ktubceifdzownprqg', 'dryqbfungpwxckeavjiohtz', 'unbkqcweiprgztodf'], ['ezxnihou', 'mehixsouz', 'oikezuhxt', 'zdeofqacxihujwp', 'hoximuez'], ['akyuocenqgjplbr', 'eautkjrqpncylgoi', 'lecxopshdrykjfgqn', 'lzepogvkyrqnjc'], ['kwdtbgolvyiqmrc', 'kqhrcamedbgyw', 'ncimubgqdykrw'], ['canks', 'kc', 'kc', 'fbck'], ['dvrfgnocyewlqx', 'wqgyfsotvehinrac', 'oerycvwnqdfg', 'nowvdqfrygec', 'rcxnfowyveqg'], ['gh', 'phg', 'hg', 'uvheg'], ['lsmypivq', 'splymvqi', 'pvyimkzslq'], ['wmsbleh', 'wravbml', 'lmwbtvz'], ['znydtsk', 'tponsfdckyz', 'sxtdnkzy', 'tkdynzs', 'xktdnyzs'], ['muxeazdvhjwsyroqkc', 'xldjmwsnuoizyhtcvqrekab'], ['vnmakbhxeygiluqtzfjcr', 'acfexmuvjhknogzyirtbq'], ['mgqaijhcdsnvbueplyrx', 'ryslpdenvgujxhabqimc', 'aichqnmrypdseujvxgbl'], ['dbsvawikqzljmchgpfyern', 'fpmnbrajdszyliwqgevc', 'fwieycmbrajlsngpzdqv', 'edwifgybjmzqncsprval', 'oqygnpemwvfiazljcsbrd'], ['ldqn', 'lan'], ['lzyncpukrga', 'qfeuywam', 'azhycdu'], ['hgjrnubyc', 'gyhbrjcnu'], ['lrzjgwhkocadnxiftbqy', 'yqwbnatzkiocjgxlhfrd', 'jilqyxozcnbrgtwdhfka', 'ldatokrqhybifwgxzjnc'], ['kyrxqfuibhz', 'mkedonluwgvcjas'], ['tmlsrzhby', 'yzwmrlhtbs', 'trvsbzhylm', 'aylihjrzmsbt', 'zbthlmsryw'], ['fhmorgvqbzpyiscja', 'jpvrgmqiuyhlzckos', 'ohjmzgpbsvyircq', 'brvhmzqgypciosj', 'dsyfvcgjhzirqpmo'], ['bsazqjtfegurvwihdy', 'fclaxtjngbdvpsoukr'], ['e', 'e', 'e', 'v'], ['ep', 'pne'], ['akrplevwnz', 'zdrakolycfnw'], ['hmrgxjyneavlcwbu', 'newaymbhuvgljcrx', 'yurlxnbjamvwchsged', 'gbnrwexvculahjyipm', 'jahnbyrwlxdmvceug'], ['zoianfdevtg', 'rdpgukevtznia', 'dzyagteimvsn'], ['giuncjmwzvbayto', 'ykmszowb', 'wzeyxbqom', 'qpzmybdklfoxwr'], ['znvdpaotegisfbjm', 'vceupwrmbakfolxdtsqgiz', 'nbtgpfhsiomdezav', 'iosepvgfzbdmta', 'vtzpeosbyamigdf'], ['rsfwj', 'frswj', 'jfsrw', 'rsfjw', 'jwfrs'], ['zubhjkg', 'bwhuagvzyr', 'gyuzbhe', 'tbxmnhgpqoscufz'], ['ohjqacykpvmrilwdg', 'goyqrhavlpcimkwjd', 'myhdjlvrcaqwiopkg', 'hdrvjimkcqogwaylp'], ['yirmagdhuvtzkle', 'glvehtramyzuki', 'evrikhltmgzuya', 'muezrhikvcyglta', 'mezyuvlihrktag'], ['wluevqjznxocsd', 'zcuhvjoqlxe', 'zuoxecqvjl'], ['pjmichseugal', 'mgztiudxslqcoarhef', 'cngaesihlmu', 'ubmpcklgeisnyha'], ['qhbsti', 'istqbh', 'qbstih', 'bsithq'], ['xk', 'k', 'k'], ['efmwzdnrhqgtiyvk', 'nyzgwfqtmrehkivd', 'nwydvjgruqhtzkfmie', 'vthrqykgwemzdfni', 'fkreadmhwtvgyiznq'], ['o', 'j'], ['ze', 'e', 'e', 'nex', 'egfm'], ['j', 'j', 'j'], ['idxcmetunkwslrza', 'gamsozleikrwtd', 'tmderskzawil'], ['dyjxvobnkqahug', 'wftmu', 'ipu', 'cfmwlsu', 'zepums'], ['fpglquhvkm', 'bzfdnyipwe'], ['xoevwyscith', 'pqybhdxc', 'kfnalcxr', 'emjuchx'], ['ypcxsvkaw', 'avhpys', 'apvsy'], ['teqxvcubirsomkhlawjyf', 'vftxuiyeqcjolhmawkrb', 'ijarmqwfhvoyxcultkeb'], ['zymvxowikndtghlcjusfrp', 'dqinpvbheyajmousglrtxwzc'], ['upwjeicvf', 'vfcbjwuipe', 'ivpecuwfj', 'pifjuwvce', 'cijvuwfpe'], ['eb', 'be', 'eb', 'eb'], ['jhqns', 'njh', 'hnjc'], ['jy', 'oy'], ['ufa', 'auf', 'auf', 'afu', 'uaf'], ['clbjzprytinows', 'lwonizrpjstb', 'tprbojwsinlz', 'gtjszplobwrnim'], ['cfhprvykoqmwljbin', 'qrjcpikmnbohy', 'jsrcnmiqkyhabpo', 'opqcehixbdnkjrmy'], ['dcxfolrbvkwtmyaupszge', 'zeartxugkvpwflmbsdcoy', 'zpbeuldxktovfargsncmwy'], ['famkjlsheuqwbdxngozvi', 'yakiqfhmzegsxldovwjnbu', 'xgspwdmijaofqlnkhbzeuv', 'gekxfmdruzilohnabcqvsjw'], ['k', 'kz'], ['uajnk', 'hkojnxar', 'jnak', 'dusafjkn'], ['otxlzikapesydbcrfwhqun', 'pbkrsanixeltfhyqzoudwc', 'nlzhaxdrupfibestcwokyq', 'euzxhbysdqapwmolnfkictr'], ['pvqgarhxdjzbtsyimen', 'bdretgxpjvynhqsmai'], ['fgwrchmjnxiopv', 'nlucbvxghfow', 'zqcaxnyfovs'], ['hblteankugvyxpdsr', 'srkbuvynghatxdpel', 'rtphbausklndgevyx'], ['eiskhzwdjoyn', 'mpqutdva'], ['xpwfjnthiskv', 'inhfvwpxkstj', 'xwvhijstfnpk', 'wjskfpxhntiv'], ['sjprnbelik', 'bekpioryjl', 'ibekjprzl', 'qsjipdlrbek', 'lhkejmxiwrptb'], ['sqawfcrhyzpgjuxvti', 'atlqrijscpfkdyzmnwxvge'], ['vardxqmcwzijn', 'mvgrbiajnwcx', 'wnrxuacvjmpi', 'xrjmnbapvcwi', 'vmrgnxijcaw'], ['ielvwpqazu', 'wepzviualq', 'wieulsaqzpv'], ['j', 'j'], ['awgkl', 'awocgkv', 'fawgks', 'fkgauwj', 'akwgu'], ['gkcpnltfvohbderiu', 'tkbizdjxafocpvgeru'], ['opl', 'jxkcey'], ['d', 'd', 'd', 'de', 'd'], ['czxs', 'scxz', 'szcx', 'xcsz'], ['yuckwfreoznjhai', 'zkcnwiaefhojyu', 'uykofwhezcnija', 'ahkujcoziynbwef'], ['zdgcqnojsvibkep', 'kedjcinsqvzbpo', 'isdopjuknvezqbc'], ['ehi', 'ehiw', 'ehi', 'ezih'], ['thqcvwnliu', 'cmykgiazwfqhl'], ['kpor', 'qorhp', 'pvfr', 'ayrpdb'], ['tihnwgvblmozjcef', 'rvmhtgjsdlbwcfaoinp'], ['ihztv', 'hty'], ['bucjsefdxy', 'fxdcbyu', 'ycpxfuarbkzlhv', 'qfcuyxwbt', 'xdybjcfu'], ['lukmjhqgdrnsczyotape', 'jgkwsptrdhocenyamzu', 'ytjkrezmapoduncgsh', 'jbtromsyhkezgaudpcn', 'skyrcgmdnuohapzwjte'], ['vs', 'qvsyd', 'sv'], ['xkfliuzvwrncqejgt', 'xkfqzigrwunmhvlt', 'wjvqifzltgnucodkrx', 'trfwnzoikyqsuvgxl', 'dluwikxqztfrngcv'], ['plf', 'hflpzqyj', 'rlfap', 'fptl', 'lpsf'], ['atyj', 'yjzat', 'htsjgay', 'yjaft'], ['abwu', 'locvqdupj', 'uoiqgjcy'], ['kvtlociyjfdqmaue', 'qckovdufmaityjle', 'vtqdaljymicekfuo', 'mfveyktuaqlcdoji'], ['s', 'gocnwlyshkuv', 'jszmx', 'dsqzm', 'spa'], ['z', 'q', 'z', 'g'], ['seymr', 'smr', 'hsqmarcx'], ['w', 't', 'e', 'r', 'er'], ['jcsf', 'ivtzmqy', 'j', 'fpc', 'xs'], ['dgrzptwnkucilas', 'lwkhcgatznprj'], ['hsrl', 'hroewls', 'zsglrh'], ['jbxqrlpcnfhoimzawvysteku', 'rpxytswcqfvuhlbimkazenoj', 'yowmvhiekgfubdrqanpltcxsjz'], ['iv', 'vgi', 'ivx', 'zvsj'], ['xcbvdosph', 'dqvohacbxgty', 'hoxwdrscvzb'], ['typnodefzigcrvu', 'hlwmcsaxbj'], ['whqtmfru', 'rhwyumtfq', 'bhuftmjwqr', 'twqrumhfx', 'fmwuqrhtp'], ['bzqfsv', 'zbvfsq', 'fbzrvqs', 'sqbvzf', 'fsqvbz'], ['rdaslwe', 'agwdxln'], ['bcrtsxuha', 'zgrjblachsm'], ['uzvpx', 'zrxvp'], ['xhlfkneturja', 'nhlgtjxeka'], ['pvxhqirmkoyadgbte', 'kamqxihdtprgeb'], ['enubxywvptfgqjc', 'gjydubxfeqpcntvw'], ['teyg', 'yge', 'ygem', 'gyet'], ['rdinjqykcaphu', 'gkldmqjyo'], ['su', 'su', 'us', 'us'], ['lyovuimrewjgs', 'arkzthbdqcwm'], ['pfvzikeadrgsjlbo', 'zflpdkbsvjgae'], ['rkuybigaldcf', 'diarkycfub', 'dbcyfirauk'], ['shrjclfmivtb', 'ehtjwirsu'], ['ifotmzhw', 'otiwzmh', 'iwmzot', 'zomyviwt'], ['seiko', 'heqt'], ['gvwzfrtbnldmqcask', 'vgnkcalzftdsqwm', 'claqkwtvsznmfdbg', 'malfkzwtvqnpdgesc', 'wsdfqlnvgtmcakz'], ['qgejmf', 'vflkm', 'mteqfwy', 'fgejwmh', 'xfm'], ['heicjvgfoltpk', 'evxdsbnikuaoh', 'iheyowvk'], ['egmlqr', 'emkglqr', 'ngmqjlre'], ['va', 'yv', 'v', 'ova'], ['a', 'g', 'g', 'g'], ['s', 'skjy', 's', 'hs'], ['hzrkgjwdqicpfyaemxln', 'ykincwxbghdajpqle', 'uihgtdpnxwcyeljr', 'xhipnvedlsycwgoj'], ['hdgubnvtk', 'asjbxhnil'], ['xmw', 'wmx', 'wmx', 'xmw', 'wmx'], ['sixpuvcwqnjyo', 'ndrfhkvetplgab'], ['ed', 'leg'], ['zohupvtgxyqbacrjil', 'hvzyugqobjlxrpcta', 'zvolpibwtcyujqghxar', 'pcqxugzmayjotbhrvl', 'futbyprshnxqvcjdozgla'], ['uojswtaphezlnfgx', 'ptezjwgsuahyox'], ['k', 'k', 'k', 'l', 'k'], ['upwxhriavm', 'zgsljdctefbk', 'qdlktyfons'], ['gtfbjreyqkodxzmivws', 'wtsqvlgzenpdckxaj'], ['ydmqlajibecgtk', 'chygtmdjxbiqkl', 'lqgibcjkytdm', 'bmljyigckqtdx', 'lqbcgtdjmyik'], ['xhlscr', 'rxhgl', 'lrxy', 'nbzxrdilmkp', 'xraolye'], ['xtpo', 'oxtjp', 'opxt', 'fxpot', 'xotp'], ['hifbvjuylzkme', 'vehalfuikjybz', 'lkzhbfjviuey', 'buyekjhzlivf', 'fivlykebuhjza'], ['lthkmdayzbgjwfoiurpnx', 'mokjinerubtzqayfxpdwhslc', 'vjglrknuopahfmwydxztbi', 'okxhnijadmtfrbuywpzl'], ['qzw', 'zq', 'qz', 'zq', 'zq'], ['zexdklupcyhriwvf', 'fjngasdbxtpzqmoyuev'], ['dmrtznach', 'rxnmda'], ['zghy', 'hgzy'], ['a', 'a', 'a', 'a', 'ja'], ['cbqhk', 'kcuq', 'pkjcxiq', 'iqcprk', 'tkcq'], ['iryfbjmovadlg', 'oylrgckbtm', 'zyxgpbemqsnhol'], ['pmuxtrsoiglyqvbe', 'bquysmtlxeroivp', 'isqrtluvmbyoxpe', 'uxmylrtpsevzqiob', 'qbmrsluxoiyptvze'], ['gqxucskpmrtidyfboal', 'humofzyblsxgvjknawc', 'xbajkesolufycmg'], ['kvxmbu', 'xkubv', 'xfvhlkb'], ['imaqkytjpzou', 'potumqjzikay', 'koupazymtijq', 'ztapkuiymjqo'], ['yjdbhamkeixgvlrqnc', 'hikwzblxgrnjevmdcqa', 'leqkidjnxvcahbygmr'], ['e', 'e', 'es'], ['b', 'p'], ['moieqpsndljgrxu', 'ndielbuvms', 'dfcyilnetsmu', 'wibmudzlanes'], ['cbs', 'cs', 'sc'], ['msofaty', 'atfqyomks', 'syhtoafm', 'tymefsoa'], ['mecrv', 'zypemf', 'imedn', 'khmelc', 'oemhgs'], ['vsyltho', 'syvdt', 'cqyvis', 'vufys', 'ustmpyv'], ['estzgja', 'magdkbjs', 'wagstj'], ['yhutnefprqi', 'ruezyqtp', 'bqeyvmcwrtusapd', 'xtqrypeu', 'uytqrlep'], ['tngbaijord', 'tdgbioarjn', 'bnaijdrgto', 'ojtbdagnir'], ['kmwiqybrnaefzdgocxul', 'fzarxdicokquygnebw', 'peawsbtniuzfqodhxgcyrk'], ['bngkczupvelsat', 'fvaetplbszgk', 'plekstzvabg'], ['eircuhv', 'hurvice', 'grhufcvei', 'hirevuc'], ['dptbhacwq', 'dbqpwcath', 'acqpdhtwb', 'dsqcbawtph', 'ahdcpqwtb'], ['jsoudagiekbtmn', 'gtunoesbmd', 'osgdtnpbeum', 'sgoubedtmn'], ['vadpkqoh', 'ndqpzahkv'], ['ikcxjwvobmslqnzuht', 'uevzocqmfnw', 'ouwrczqmvn'], ['a', 'a', 'o'], ['hautdzqwyxefvcklns', 'wfxtyvesqzuhknldac', 'sxlzwcehadifkynqtuv'], ['u', 'u', 'wqe'], ['yhin', 'niyh', 'hiy', 'hxiyvg'], ['qokxgbfemphyzisrnu', 'rehfjypgwzqvaosmx', 'dqwsghfelzyprmcxo'], ['xeksbaphnclzfi', 'klenzhapfjsx', 'szjlhxgdaeknpf', 'fnzkpsejvxlha'], ['auvobisz', 'zvibuo', 'bonzuvi', 'uobivpz'], ['gtajlbxrkyw', 'mxjntlrz'], ['tqov', 'qvot', 'otvq', 'tqvo', 'oqvt'], ['eofmhxqarvkwizpld', 'rimwhzeauxlkdvopfq', 'ovifkxaqrmeyhwldpz', 'pwirlxvaedokmqhzf'], ['hvscaetpdzfm', 'zaehmtvfdpc', 'mzfevhptadc', 'emhfdaptzvc'], ['onmzyr', 'xms', 'emas', 'mbi'], ['gqnkauwvc', 'pwven'], ['lvpiancg', 'qkd'], ['coyblen', 'fvbjcupmigk', 'xrsbyadec'], ['kwrvxpze', 'rkzpvb'], ['lgwe', 'lesw'], ['hncvjkmsqygtiuxarzp', 'qyzjxarigokwsucntvph', 'juvkqxaricznphgyst', 'pxhvznrkitcuysagdbjq'], ['qwpjefm', 'lsbhr', 'xz'], ['gisjrzuwqvxmtnbhf', 'jtsvwgzqridxfmhuoab', 'tpgxmdzrswjylifbhqcuv'], ['oxe', 'q', 'q', 'm'], ['eorcvyjdq', 'muqpizcaxfwrgyb', 'tkyholrqcs'], ['yaethzk', 'zeiaty', 'tbyqnawlpme', 'eyatvo'], ['fpd', 'd', 'd', 'sd'], ['otbzugk', 'tbuio', 'otbui', 'uotbi'], ['bsapxrikhuqycwfomjdletzvg', 'fqehjmosxudvrbzpyglatw', 'wvloqymxtufrpagzbhdsej'], ['ayxdqzkbipcewmnvlf', 'xkdmzwtrpanfivcl', 'kpzlixfawvcmnd'], ['dj', 'ilam', 'b'], ['pgdujfea', 'dl', 'wd', 'd', 'dl'], ['miblonqsaczex', 'oeilmxqncsbzavk'], ['sdktqoerclumihwjpxgfz', 'nokympdfbjxrztuwcilveqsg', 'wzgxlijndmsueqfcorktp'], ['bpoy', 'opbdy', 'ywpbo', 'ozefrbpy'], ['abl', 'qalfk', 'hctial', 'faljyx'], ['t', 'rt', 'at', 't', 't'], ['iwgohvufqpnbk', 'gwzphnaxcbtfqsuo', 'hewnufqbogp', 'qhpuowbngf', 'uyfbohwqpkng'], ['evgnrzk', 'xingw'], ['jwiokvzdxeaugrq', 'ufrqbdkijewaolv', 'uyqjdiloeakrvw', 'iwjudraqevomkh', 'eavwqkrdilcujo'], ['qylurvpjizfnowtaxgck', 'gdfmwaviqjxploucznktry', 'gpwfuxqlnjtaozycrdv', 'tqauervyjncfbopzgwlx', 'xwlvyuzgarqtfpnkjco'], ['t', 't', 'e', 'pz'], ['xcl', 'hax', 'xue', 'inlyxu'], ['gxz', 'xkmt'], ['fmaykdhqlptbn', 'gwyhpxstmnzbe', 'hltmynrjvpb'], ['ckmx', 'cxrk', 'ngqzcklfbx', 'krdxc', 'ckx'], ['valqsuznprwdtkjxc', 'qzacupslkwfxntrjdv'], ['lrgufywvkda', 'vafdulkwryg', 'uykgrfvwlda', 'uflwdgkvyar', 'fsnbugvkdwtyral'], ['bwnvsmkz', 'yhblegsr'], ['qpogvdsy', 'phzqimywsf', 'ysdqjzo', 'sencrxtbyk'], ['jtezkqlphbwyrmu', 'blwjhqopuymzrket', 'qzlhwmkpbruejyt'], ['mvyarwjzd', 'qzrajwy', 'xtryzbawgen', 'vrpazywd'], ['tun', 'nut', 'tun', 'unt', 'tun'], ['sjqyvcfrpewhkzdui', 'xdnmhjlot'], ['bhiktrspwlofcdexgzjm', 'tqdscwpnlugfrhkzeiox'], ['xylvi', 'lxyicuhv', 'ivylx', 'ilyxv', 'yilvx'], ['pqguyfrhjob', 'jfbgrnoptuhv', 'wjsbhodfpgzxur', 'fejrcuhoglpb', 'ujogphrfb'], ['evxfqkyl', 'qxevjkl', 'vsxqknl', 'lvoqzmdxckibwgp', 'ayuxqvkl'], ['rozu', 'our', 'ruvwj'], ['dncwgzom', 'cw', 'cwu', 'cw', 'kqwc'], ['kxz', 'xzkq', 'zkx'], ['saehqwxlfgnudypk', 'kfqipbuxwaonhsyl'], ['bhkcfume', 'vrmetubhjcif', 'bmhuefc', 'zemluchkbf'], ['uzyltpa', 'rbjvxskewd', 'pzhgtcon', 'f', 'niz'], ['u', 'c', 'cn', 'qhk', 'n'], ['ovgehisbcr', 'besrgvoc', 'rgeosvbc', 'rqcbesgov'], ['ktl', 'sm'], ['hvczbfyldajomw', 'aytbzdnocmufwv'], ['d', 'la', 'd', 'v', 'q'], ['jhwsglxoniqpz', 'newhojxflgysqip'], ['k', 'lkp', 'ki'], ['odnfkmubqgxr', 'tjauoqfkrycngxd', 'unkgsxwrfqdo'], ['crmkqntouf', 'kuconrtfqm', 'utcnrqmkof'], ['zy', 'wizybcg', 'zy'], ['optdsiwyj', 'nwtpsfqydli'], ['vumaih', 'uivgqh', 'lvudchrkie'], ['arxiblucpw', 'wilxubrpatc', 'rpuiabwclxo', 'cpbiwrxlua'], ['onpuwraq', 'nrqdowuap', 'wournapq', 'rownuaqp', 'arnowupq'], ['oxvid', 'dvox', 'dovx', 'vdxo', 'dxvo'], ['apnfeix', 'ipfxnae', 'ainepxsf', 'eafxnip'], ['hwgal', 'gdynu'], ['kyvxmesfncuilqagtb', 'nbiclxkztafev', 'ickfxltvnebha', 'edikvfcltanbx', 'evbflntpcakix'], ['xy', 'y', 'ycowzf', 'y', 'yl'], ['qeaklh', 'qlkhea', 'hlaeqk'], ['tbfqjudrpeixm', 'fbglujtprqmhvdzkxn', 'tbdrufmipxjq', 'rjdtfxpbueymq', 'bdjmfrxpqtu'], ['tvmbsk', 'caywezhboqgnx'], ['zi', 'fiz', 'vfiz', 'iz', 'yqiz'], ['nwot', 'tnw', 'tnw'], ['enaochix', 'dewsplq'], ['xyhtqafdgescijpulvzmbwo', 'fowagctbjmphezqvuxsyild', 'aewojmsyczlhqxbuvfgidtp', 'etiwxvqypomjrfhcgadzslub'], ['cntkbsilqyjgpzm', 'bgslijntmkcaqzy', 'bgstkzucnilmrqj', 'itfcnhkpdjasqmbzlg'], ['gjxirvazbkcwfouysmdn', 'vkwpbrsamxuicjtgyodlze', 'ibkwrmvxozysupadcgj', 'rtsowkzjacxmediuybhvg'], ['rxahlpwjfotidy', 'dawojfrltiu', 'weptardbjlfsoi'], ['m', 'm'], ['oh', 'qy'], ['qhj', 'hde', 'h', 'hmj'], ['cgtqxjroh', 'jcrgqxotd'], ['boj', 'jbo', 'bjo', 'job', 'sojb'], ['pouxz', 'xzukao', 'fen'], ['t', 't', 't', 'o'], ['q', 'aiqz', 'q', 'cqhl', 'keq'], ['ajqyp', 'tkoqazlcnbviuxy', 'aryqh', 'pqya', 'qgya'], ['vojnhfbi', 'ojcfyh', 'dktlxjohega'], ['djbxhscvlawi', 'xsdwavcibhljk', 'hwjsvidamxcbl', 'jdbwxsialchv'], ['kav', 'vka', 'vak', 'kfcva', 'kav'], ['zuohp', 'houp'], ['fg', 's', 'ycnvbtw', 'ro', 'or'], ['c', 'c', 'dh'], ['w', 'a', 'bl'], ['yfzohi', 'fhiyoz', 'zeifyoh', 'nfiohzy'], ['wyqprkdoeainh', 'idypnoreqmwkh', 'qkroidhepwny'], ['uax', 'zqbfa', 'zatrl'], ['rkuoh', 'hr'], ['yezkracmbjfnxsvliguqowt', 'ujlszbyxqcgnrvotmkifwea'], ['pen', 'ne', 'en', 'mshgbcrwqtnke'], ['gomhicaner', 'kvqnfpldhomxyz', 'nmijoh'], ['atjucifnlzkdwgyph', 'ncfiptykjlzgdauhw', 'ztchugdlknpywfaji', 'tfgpiyhazldcunkwj'], ['fogcmrluvbjiqhwsxepd', 'qmeucloxiprfsjwhgdv', 'poefrdmizwgjqxsuc', 'fkeugpdsmynjxociwrq'], ['sx', 'c', 'c', 'z', 'mc'], ['nmcb', 'kpfyoba'], ['ngdarukiejsx', 'vkgjuinbrhdeosax', 'uaikyjrqestlpxngd', 'ejwniuscxgkrda', 'grenjaxudisk'], ['aevkuwzs', 'wuvsazkqge', 'vayezsuk', 'zkevgsawu'], ['zijmanpyewl', 'broqskhv', 'xtfkudcg'], ['fqsjpzc', 'fpzjcs', 'zpcfsj', 'jpzefsc'], ['khpwnod', 'tyvu'], ['y', 'y', 'yw'], ['hzxowsryablmgudi', 'knecgxtsjpq'], ['yaqjv', 'vjaqy', 'jqvay', 'vjyqa', 'qajyv'], ['dlbgapxwryonfkmuchtsj', 'ghxzwabfstclnkyjurop', 'wpjhatslgfryxcknbvu', 'ajilxprsycutqbnfhgwk', 'zbmlfxcusyajdrhkpgowtnv'], ['wfxqtlk', 'wxqftk', 'qxjkwt', 'jqtwxk', 'dqkhtawxn'], ['cu', 'cu', 'cuew'], ['jcxuhafrbvkzw', 'axfrjuwplh', 'wrhdtqgasufnj'], ['wgyrb', 'bgywr', 'bydrgw', 'yrgewb'], ['lxeditmnkyr', 'hriznamtekxly'], ['kj', 'mlw', 'x', 'wl'], ['cqzat', 'qca', 'acnq', 'cqan', 'qac'], ['lnhcwrumivsd', 'rdcmsvhlinwu', 'vmlwhruoncsid', 'rscwvnulhidme'], ['fkmtxby', 'xjmywkfbr', 'fbemxyki', 'bmflkycx'], ['s', 'rksam', 'amsr', 'jsbp'], ['raoqwznuk', 'obyrutqkzawvn', 'anjwrqhuykzo', 'owqlnmrkzgaudf'], ['ydpe', 'rhygldpuq', 'jfyodtaxpsmw', 'zpydbni'], ['xudow', 'vlcjkmyoaqzid', 'nxurdo', 'donfxu', 'dpfxseo'], ['mvzqxgenwfkc', 'qkzwgfnvme', 'gfwdqvnkzme'], ['ywjbxsfdmona', 'oxawjysnfdm', 'nsjdmafyxbw', 'yfjanmwxsrd'], ['haynzevrkoumtip', 'jkvchaitymgsoqxu'], ['urdiqvlsxcohagef', 'qpsauenjorkwxi', 'yhirsoadxbqeuc'], ['p', 'sn', 'p', 'p'], ['jahbpofqukrlgse', 'fhrjgceasdy', 'xzfjvestahngrdc', 'wihgfesjanr', 'gefshajmrz'], ['itgeawlsdfpcon', 'getwnlofszcpa'], ['oetkdwyrifnlq', 'azhgcvbuxjmps'], ['ycfwbvjmqpudrtlzi', 'azgtpyjubcfimndrq', 'ojcyirptufdmzqb'], ['edkhqcyfjtizs', 'ykfvtqwspmnjzighd'], ['gqr', 'r', 'd', 'ujf'], ['jezrntd', 'tjndzer', 'ntreudjz', 'nrdezjt', 'njtredz'], ['zvtqunpsrewmxcagbohlkfyijd', 'bzteyksicxphlunjgomrdqavfw'], ['ejqlkasdzboityhu', 'lejtdpuoskhzbqxi', 'kbtjzyihqseolud', 'kshzqojrnbedulvtmci'], ['vcqoinhefwspkmaxl', 'ehoxgmvbwlputrfncaq', 'vwamxhpzqfnelco', 'qhpwmlfvdoenxkca', 'qhxmvcoaflepwn'], ['kirjh', 'irakjh', 'rhjik', 'hkrji'], ['hlbcemokurvxft', 'eofxkhmcvlutr', 'xucfotkvmlyher', 'fumenovrhlkctxb'], ['rishbgovypejfxtkzna', 'pzihsucerqygvl'], ['euozbtvrhm', 'qzxcgjdk'], ['ji', 'j', 'wl', 'i', 'q'], ['xsnkuihpdbozjqgaetcy', 'tdsyxnboqukacepihjgz', 'tkwaxdouzgyjbeisncphq', 'jxnchpyiosqeaubkgtzd'], ['qjvthdciaflyweokzrg', 'dgeyjtfvchrlwa', 'tylvcedrwahfjg', 'etdhwrajlcgvfy'], ['hqwkavzcxng', 'ehaxbfntwroikm', 'dlnxhwkza'], ['owaj', 'jcko'], ['bms', 'bm'], ['npilzedmafwvrt', 'dpmwftzavlgxiqrne', 'vdeuralfnkjzmiwpt'], ['qo', 'oq'], ['lpe', 'lpe', 'apevl'], ['f', 'd'], ['wogseatpdvqy', 'zbmrtpxgknulh', 'ewtfgjp'], ['hkpbd', 'jkrhv', 'ktmhscxlyz', 'fkrhb', 'whqorkb'], ['urdw', 'tuwjm', 'urwz', 'yuw', 'suwfh'], ['gvlxdaib', 'vjabqxdlgk', 'gxybaldv', 'egaxmvbdl'], ['xjmyfunivklc', 'vnuchxlkmjfi'], ['jqlyw', 'ylwut'], ['svfpjokan', 'ocnfksjapv', 'ytozqeidvafpkgjsn', 'jkxfrscavnpoh', 'kvnfjpahos'], ['jzcwlfbogmsdkaevi', 'jgsacbliezqfvomwkd'], ['gbmr', 'gm', 'gom', 'zgmu', 'gm'], ['ubljomy', 'uybmjorl', 'yloujbimf'], ['ilvzgshjcko', 'shoilgjk', 'jhosklgi', 'jkhoisylg', 'klihjogs'], ['fkwn', 'wkf'], ['wxdhuf', 'xbnmjlrsytez'], ['eshlq', 'wnkjbsqoi', 'ldmcgqurs', 'avxsqz', 'txpfaqsmy'], ['csyfboinlwe', 'verzxw', 'pezmwh', 'ewj'], ['mfl', 'mn', 'mxpn', 'm', 'm'], ['isf', 'isf', 'sfmi', 'gsif', 'ncfaisb'], ['uokthaqjvisrnyme', 'pomhrysveatqnuikj', 'qtrsjkyonheviamu', 'hvoqraeisnmjtyku', 'esqhuvnoamiykrtj'], ['hwvuezyplrqxdmso', 'rqulvhsdxfewpjmyo', 'pwmbyvudsrxcqnoklgh', 'fqaprsvywhmulxod'], ['orcaqude', 'sdyu', 'udl', 'sdu'], ['sdi', 'kdzis', 'hebuns', 'ys', 'syitvzk'], ['niwkqodtcrpe', 'rzhpiwdovkc', 'zoikcwrdpf'], ['aqpn', 'nqa', 'nqa', 'wnaq'], ['lkvjdxmfgtryuzb', 'tubdkymzvlxgfjr', 'tyzxrgblumjdvfk', 'zxrtlmkujvfbygd', 'vyjkxfgrztmbpdul'], ['kp', 'pk', 'kpn', 'pk', 'kp'], ['vjbg', 'wunrzhvjlykcsg', 'vjeg', 'vgdj', 'tjbvig'], ['y', 'y', 'y', 'y', 'y'], ['cjxeu', 'eucxj', 'ecujx', 'xjcue', 'cjxue'], ['m', 'm', 'u', 'm', 'm'], ['sahrtgbnivdoe', 'koidnhfeugyvas'], ['jaqlcfu', 'oztg', 'vterkhp'], ['nbxwcst', 'bmqntwxse', 'jebtwxsqmn'], ['bzwjxoaq', 'quxbfzajw', 'atscqwxjz'], ['bvu', 'esdjkf', 'rm'], ['mnspreiwdjqkftohu', 'urmpehjnwxvsdktfoq', 'nrqemjwphkutodfs'], ['xwuknmizvoafcerqhj', 'nosjwyzahegfik'], ['dlyj', 'jdq', 'udpjr', 'jlzd', 'jd'], ['vtfphlmkniawcex', 'vzwkhacifnxptlme', 'lfikanhpxmvctwy', 'mctvlwfknprxahqi'], ['kielm', 'yswgfxpkb', 'lmtedokh', 'tzonvqjka'], ['touiracgwnqehmbvpyd', 'qlfdcgpryzskxhjt'], ['fpwryli', 'ilwpryf', 'frwlipy'], ['aojegiwzvyfbx', 'evoxzygafjwbi', 'bzeogywjcvxfai', 'izjogaxvwfceb', 'ezjwiubxfgnavqmo'], ['kscztyfrgi', 'drqfcs', 'jmhnevaxrlp'], ['vmblxpyuorfq', 'viprbouymfxlq', 'fpobylmxuvrq'], ['xweiukthcjzdvr', 'nmfbgylhwakrq'], ['tuqkgzp', 'qgtzjkp', 'zjkqptg'], ['mbldpuxkezahf', 'hkpfzlbumxdae', 'bemxaklduphfz', 'fbkzhpaelumxd'], ['vs', 'mvsq', 'szhv', 'xjvshc'], ['bodkn', 'ehkbdv'], ['mnzuqa', 'codilpaby', 'awukng'], ['n', 'n', 'n', 'n'], ['pxbhwckytlv', 'wvkclyxeithp', 'ktybhwvcpxl', 'bkptwvlychx', 'khvlxtcywp'], ['beczgduqh', 'gudhzqe', 'qzeuhdg', 'pdhgzueq'], ['hvcxlngijzkqr', 'gnkqvpilhzdx', 'khxzqvdngploi', 'hzivwsnqxgkle', 'livxgkzhnuq'], ['jwhufepin', 'vixycrtsua', 'eoqbmiu', 'fpqui'], ['wr', 'wr', 'rw', 'wr'], ['dxsbrce', 'ivfrdspyc', 'mcxzrdsea', 'cbrmds', 'crds'], ['owedcyqix', 'eocwiqxdy', 'hicodqxymwev', 'qcweidyxo', 'ejdwqoxciy'], ['qeijgvszpdft', 'txsjyzipqgvfne'], ['ukictp', 'umsfpnic', 'brvzlgxoheucap'], ['ybdu', 'm', 'pd', 'cgwr'], ['rmaojwdfkulzsictxvehbq', 'idfwahsmrecjolbxvqtukz', 'sxvicwbaudtzekhqljmrof'], ['kewjqgnaoyizu', 'ygqkxejzitnuaop', 'nukoeazgyqij', 'gzjqlnuieokya', 'qnyugcojkeiza'], ['dctjbhpsqxofawnl', 'tljhdapboxqsfnc'], ['jqelifprvntodmbyz', 'pbtornfqvglkdey'], ['gq', 'qlgn', 'dqg', 'qghdy', 'wqg'], ['sxzfwoahiljrbvukqytpm', 'tfrlsjcvyzwkbpqmahx', 'sxrmwqayhlbtpzfkvj', 'tjywxfmlazhkvbprsq', 'vfbxryhgwszptklmqja'], ['zvdylkifjb', 'gdvkhcfzybjn', 'fjdynkbzhv'], ['tupnrivwjghcqf', 'vfmqwuokdabgseh'], ['ufhjyxznedlpr', 'hzldxeynkjf'], ['pngacuzedrmkvy', 'vkgjensmycrua', 'caurengzmvykd'], ['gq', 'l', 'l', 'i', 'p'], ['kpdnmf', 'dpnfmwk', 'fenjxpdqm'], ['rgc', 'kyj', 'mhk'], ['ajskowgdhfzenyubtclr', 'zrdjebhlovcuwstnga', 'mguajdnbrohslwctezq', 'oiecblhjzgwyasnrutd'], ['ebmntqlhvriof', 'qphonetbrguzdvcflma', 'sbvnltehqmofr', 'qtrbehlfjonkvms'], ['jnveyrixtkhqgawpuz', 'pkvzxunifwhtqgymer', 'ziuqpthndxlkervgyw', 'wsiqcvtyrnzkheugxp'], ['sbucfoavmxgnjiq', 'hjavnsblowqu', 'vjnsbuaqok', 'oasbjuezvqn'], ['vubdcqhmia', 'hsxuqzibvanmjed', 'qciwdabhuvmp'], ['knqedza', 'uakyol', 'jgvfpxibmrsc'], ['m', 'm', 'm', 'm', 'm'], ['nz', 'h', 'n', 'o'], ['z', 'a', 'z'], ['diyfo', 'od', 'do', 'do'], ['mlvtparjzqknseu', 'suyrzpmxenakj', 'eamxzkpursnj'], ['ihvq', 'qihjdv', 'hqiv', 'sqhvi', 'hvqi'], ['eitp', 'evji'], ['gcq', 'gqc'], ['agziqmcso', 'ngaobpmiz', 'masigzo'], ['klmgirjonfvyaqwuhzxtpsbdec', 'vejwyfqcudmraizhxontsgbp', 'virufxmenyphjacbgwdstqoz', 'bhapvumjrqosyfgziexwcdnt'], ['h', 'qtad', 'c'], ['hxlnkmop'], ['cyshewoa', 'zdsech', 'sxvecth', 'sehc'], ['wtghsjpa', 'awsjhtgfp', 'agtpjwsxh'], ['zlqph', 'lhqpz', 'lqzhp', 'lcpzqh', 'qplzh'], ['jdcqwmyfuilr', 'rmwfjiuytlqcd', 'wcidluyrmvqjf', 'iwqfjmulyrcd'], ['tqepgvliz', 'elgvqpz', 'zqpegcvln', 'ezupgqlv', 'lvqpengzs'], ['jrlqxdzvyw', 'gtjdyqzcwx', 'jmkqwxeihodnu', 'djbwqtx', 'rqgjwvxzyd'], ['khmnqvptdeuxyif', 'zcgjowsdpxalvbrut'], ['lujwhxqakodmg', 'luhjokazftdxgvwq', 'khlegqdauoxj', 'ahxjkgqudlo', 'juxkanqcyhdorgl'], ['ahz', 'zha', 'haz'], ['yaodktrq', 'tzdpckoan'], ['gstclfpkmo', 'agctslekfp'], ['hi', 'w'], ['rfgnkboymhltsaujcix', 'rufaniyxtmglbchpoj', 'bhonfylimcrdjtuagx', 'gmhjfanubyxtilcorv'], ['bzmctlexkswj', 'mwlkasxfbze'], ['dqpnelfgymboxrctuwzji', 'njqywifxrplgedmoztu', 'olxqejuafvwgzinmpyrtd', 'ynoejwxpzifrlgaqmudt'], ['vxeqdit', 'xtmd'], ['erwmnqks', 'zsrpjnmxik', 'mrspkitny', 'gvohdnamrskb'], ['vgck', 'gkvc', 'cvkg', 'vgrckm']]\n"
     ]
    }
   ],
   "source": [
    "# Load data\n",
    "from src.day_6 import load_day_6\n",
    "\n",
    "groups = load_day_6()\n",
    "print(groups)"
   ]
  },
  {
   "cell_type": "code",
   "execution_count": 3,
   "metadata": {},
   "outputs": [],
   "source": [
    "# Define function\n",
    "\n",
    "def count_yes(groups):\n",
    "    counts = [len(set(\"\".join(group))) for group in groups]\n",
    "    return sum(counts)"
   ]
  },
  {
   "cell_type": "code",
   "execution_count": 4,
   "metadata": {},
   "outputs": [
    {
     "name": "stderr",
     "output_type": "stream",
     "text": [
      "test_count_yes (__main__.TestDaySixPartOne) ... ok\n",
      "\n",
      "----------------------------------------------------------------------\n",
      "Ran 1 test in 0.001s\n",
      "\n",
      "OK\n"
     ]
    },
    {
     "data": {
      "text/plain": [
       "<unittest.main.TestProgram at 0x1aae7f677c0>"
      ]
     },
     "execution_count": 4,
     "metadata": {},
     "output_type": "execute_result"
    }
   ],
   "source": [
    "class TestDaySixPartOne(unittest.TestCase):\n",
    "    \n",
    "    def test_count_yes(self):\n",
    "        test_groups = [[\"abc\"], [\"a\",\"b\",\"c\"],\n",
    "                       [\"ab\",\"ac\"],[\"a\",\"a\",\"a\",\"a\"],[\"b\"]] \n",
    "        actual = count_yes(test_groups)\n",
    "        expected = 11\n",
    "        self.assertEqual(actual, expected)\n",
    "        \n",
    "\n",
    "unittest.main(argv=[''], verbosity=2, exit=False)"
   ]
  },
  {
   "cell_type": "code",
   "execution_count": 6,
   "metadata": {},
   "outputs": [
    {
     "name": "stdout",
     "output_type": "stream",
     "text": [
      "Total number of 'yes' answers: 6530\n"
     ]
    }
   ],
   "source": [
    "# Once the tests display OK, run the function on the data \n",
    "result = count_yes(groups)\n",
    "\n",
    "print(\"Total number of 'yes' answers:\", result)"
   ]
  },
  {
   "cell_type": "markdown",
   "metadata": {},
   "source": [
    "### Part Two\n",
    "\n",
    "\n",
    "As you finish the last group's customs declaration, you notice that you misread one word in the instructions:\n",
    "\n",
    "You don't need to identify the questions to which **anyone** answered \"yes\"; you need to identify the questions to which **everyone** answered \"yes\"!\n",
    "\n",
    "Using the same example as above:\n",
    "\n",
    "```\n",
    "abc\n",
    "\n",
    "a\n",
    "b\n",
    "c\n",
    "\n",
    "ab\n",
    "ac\n",
    "\n",
    "a\n",
    "a\n",
    "a\n",
    "a\n",
    "\n",
    "b\n",
    "```\n",
    "\n",
    "This list represents answers from five groups:\n",
    "\n",
    "* In the first group, everyone (all 1 person) answered \"yes\" to 3 questions: a, b, and c.\n",
    "* In the second group, there is no question to which everyone answered \"yes\".\n",
    "* In the third group, everyone answered yes to only 1 question, a. Since some people did not answer \"yes\" to b or c, they don't count.\n",
    "* In the fourth group, everyone answered yes to only 1 question, a.\n",
    "* In the fifth group, everyone (all 1 person) answered \"yes\" to 1 question, b.\n",
    "\n",
    "In this example, the sum of these counts is $3 + 0 + 1 + 1 + 1 = 6$.\n",
    "\n",
    "**For each group, count the number of questions to which everyone answered \"yes\". What is the sum of those counts?**"
   ]
  },
  {
   "cell_type": "code",
   "execution_count": 7,
   "metadata": {},
   "outputs": [],
   "source": [
    "# Define function\n",
    "\n",
    "def everyone_yes(groups):\n",
    "    count_yes = 0\n",
    "    for group in groups:\n",
    "        answers = list(set(\"\".join(group)))\n",
    "        for letter in answers:\n",
    "            if all([letter in person for person in group]):\n",
    "                count_yes += 1\n",
    "        \n",
    "        \n",
    "    return count_yes"
   ]
  },
  {
   "cell_type": "code",
   "execution_count": 8,
   "metadata": {},
   "outputs": [
    {
     "name": "stderr",
     "output_type": "stream",
     "text": [
      "test_count_yes (__main__.TestDaySixPartOne) ... ok\n",
      "test_everyone_yes (__main__.TestDaySixPartTwo) ... ok\n",
      "\n",
      "----------------------------------------------------------------------\n",
      "Ran 2 tests in 0.002s\n",
      "\n",
      "OK\n"
     ]
    },
    {
     "data": {
      "text/plain": [
       "<unittest.main.TestProgram at 0x14e4c9408c8>"
      ]
     },
     "execution_count": 8,
     "metadata": {},
     "output_type": "execute_result"
    }
   ],
   "source": [
    "class TestDaySixPartTwo(unittest.TestCase):\n",
    "    \n",
    "    def test_everyone_yes(self):\n",
    "        test_groups = [[\"abc\"], [\"a\",\"b\",\"c\"],\n",
    "                       [\"ab\",\"ac\"],[\"a\",\"a\",\"a\",\"a\"],[\"b\"]] \n",
    "        actual = everyone_yes(test_groups)\n",
    "        expected = 6\n",
    "        self.assertEqual(actual, expected)\n",
    "        \n",
    "\n",
    "unittest.main(argv=[''], verbosity=2, exit=False)"
   ]
  },
  {
   "cell_type": "code",
   "execution_count": 9,
   "metadata": {},
   "outputs": [
    {
     "name": "stdout",
     "output_type": "stream",
     "text": [
      "Total number of 'yes' answers for every person: 3323\n"
     ]
    }
   ],
   "source": [
    "# Once the tests display OK, run the function on the data \n",
    "result = everyone_yes(groups)\n",
    "\n",
    "print(\"Total number of 'yes' answers for every person:\", result)"
   ]
  },
  {
   "cell_type": "markdown",
   "metadata": {},
   "source": [
    "## Day 7: Handy Haversacks \n",
    "\n",
    "You land at the regional airport in time for your next flight. In fact, it looks like you'll even have time to grab some food: all flights are currently delayed due to issues in luggage processing.\n",
    "\n",
    "Due to recent aviation regulations, many rules (your puzzle input) are being enforced about bags and their contents; bags must be color-coded and must contain specific quantities of other color-coded bags. Apparently, nobody responsible for these regulations considered how long they would take to enforce!\n",
    "\n",
    "For example, consider the following rules:\n",
    "\n",
    "```\n",
    "light red bags contain 1 bright white bag, 2 muted yellow bags.\n",
    "dark orange bags contain 3 bright white bags, 4 muted yellow bags.\n",
    "bright white bags contain 1 shiny gold bag.\n",
    "muted yellow bags contain 2 shiny gold bags, 9 faded blue bags.\n",
    "shiny gold bags contain 1 dark olive bag, 2 vibrant plum bags.\n",
    "dark olive bags contain 3 faded blue bags, 4 dotted black bags.\n",
    "vibrant plum bags contain 5 faded blue bags, 6 dotted black bags.\n",
    "faded blue bags contain no other bags.\n",
    "dotted black bags contain no other bags.\n",
    "```\n",
    "\n",
    "These rules specify the required contents for 9 bag types. In this example, every faded blue bag is empty, every vibrant plum bag contains 11 bags (5 faded blue and 6 dotted black), and so on.\n",
    "\n",
    "You have a **shiny gold** bag. If you wanted to carry it in at least one other bag, how many different bag colors would be valid for the outermost bag? (In other words: how many colors can, eventually, contain at least one shiny gold bag?)\n",
    "\n",
    "In the above rules, the following options would be available to you:\n",
    "\n",
    "* A bright white bag, which can hold your shiny gold bag directly.\n",
    "* A muted yellow bag, which can hold your shiny gold bag directly, plus some other bags.\n",
    "* A dark orange bag, which can hold bright white and muted yellow bags, either of which could then hold your shiny gold bag.\n",
    "* A light red bag, which can hold bright white and muted yellow bags, either of which could then hold your shiny gold bag.\n",
    "\n",
    "So, in this example, the number of bag colors that can eventually contain at least one shiny gold bag is **4**.\n",
    "\n",
    "**How many bag colors can eventually contain at least one shiny gold bag?** (The list of rules is quite long; make sure you get all of it.)"
   ]
  },
  {
   "cell_type": "code",
   "execution_count": 5,
   "metadata": {},
   "outputs": [
    {
     "name": "stdout",
     "output_type": "stream",
     "text": [
      "['striped green bags contain 5 posh indigo bags.', 'light yellow bags contain 3 wavy turquoise bags.', 'bright lime bags contain 2 striped crimson bags, 3 dull red bags.', 'dull blue bags contain 4 posh coral bags, 3 mirrored coral bags, 2 striped fuchsia bags.', 'vibrant coral bags contain 2 shiny blue bags, 2 muted gray bags.', 'mirrored gold bags contain 2 dotted maroon bags.', 'drab lavender bags contain 4 pale turquoise bags, 5 faded lime bags, 2 bright aqua bags.', 'mirrored red bags contain 4 shiny tan bags, 4 muted aqua bags, 4 pale salmon bags, 5 bright violet bags.', 'clear gray bags contain 4 bright lavender bags, 2 dotted plum bags, 1 drab coral bag, 3 faded aqua bags.', 'dull aqua bags contain 2 wavy coral bags.', 'muted yellow bags contain 3 drab olive bags, 4 pale lime bags, 2 striped crimson bags, 3 wavy blue bags.', 'shiny chartreuse bags contain 5 bright yellow bags.', 'posh turquoise bags contain 3 dotted blue bags, 4 pale lime bags, 1 mirrored fuchsia bag.', 'faded maroon bags contain 5 striped indigo bags, 2 light aqua bags, 3 dim chartreuse bags, 4 vibrant tomato bags.', 'dotted lavender bags contain 3 pale crimson bags, 3 wavy gray bags, 2 plaid plum bags, 5 mirrored bronze bags.', 'striped olive bags contain 5 dull lime bags.', 'vibrant aqua bags contain 3 drab tan bags, 5 bright coral bags, 3 pale brown bags.', 'wavy aqua bags contain 4 dim lime bags, 4 dotted bronze bags, 1 bright gray bag.', 'pale green bags contain 1 shiny purple bag, 4 dim plum bags.', 'vibrant purple bags contain 2 pale gray bags, 2 dull crimson bags.', 'faded green bags contain 4 dotted plum bags, 1 light white bag.', 'posh orange bags contain 4 light blue bags.', 'drab tomato bags contain 1 dull salmon bag, 3 plaid orange bags, 3 posh gray bags.', 'vibrant beige bags contain 2 dull fuchsia bags.', 'wavy orange bags contain 2 bright tan bags, 5 light beige bags, 2 vibrant turquoise bags.', 'light salmon bags contain 1 dark blue bag, 2 bright orange bags.', 'light blue bags contain 3 clear chartreuse bags, 5 dull olive bags.', 'dull crimson bags contain 4 dim gold bags, 5 dark tan bags, 5 dark lavender bags.', 'dim teal bags contain 3 striped gray bags, 4 shiny fuchsia bags, 2 vibrant chartreuse bags, 2 drab plum bags.', 'striped crimson bags contain no other bags.', 'dark brown bags contain 1 dim plum bag.', 'dotted tan bags contain 1 striped fuchsia bag.', 'bright turquoise bags contain 3 light orange bags, 2 wavy bronze bags, 2 light beige bags.', 'drab salmon bags contain 4 wavy silver bags.', 'light brown bags contain 1 clear gold bag.', 'plaid aqua bags contain 4 shiny maroon bags, 2 mirrored gray bags.', 'posh chartreuse bags contain 3 clear maroon bags, 4 wavy black bags, 3 vibrant white bags.', 'wavy gray bags contain 3 shiny violet bags, 2 striped silver bags, 5 pale lime bags.', 'dim crimson bags contain 1 wavy blue bag, 1 dull red bag, 1 dotted plum bag.', 'wavy black bags contain 5 dim crimson bags, 5 dotted chartreuse bags.', 'faded gray bags contain 4 plaid white bags, 2 mirrored yellow bags.', 'muted violet bags contain 5 vibrant blue bags, 5 shiny beige bags.', 'dull white bags contain 1 dull olive bag, 5 clear chartreuse bags, 1 dull red bag, 1 wavy red bag.', 'light bronze bags contain 4 bright gray bags, 3 light tomato bags, 2 shiny white bags, 2 clear silver bags.', 'plaid violet bags contain 2 vibrant indigo bags, 2 dim turquoise bags.', 'posh purple bags contain 5 wavy purple bags.', 'bright olive bags contain 4 muted bronze bags, 4 mirrored green bags, 2 dim plum bags, 5 bright silver bags.', 'vibrant olive bags contain 1 vibrant beige bag, 4 striped gold bags, 4 shiny beige bags, 1 faded blue bag.', 'muted fuchsia bags contain 3 vibrant red bags.', 'plaid indigo bags contain 4 dull lime bags, 3 faded violet bags.', 'wavy chartreuse bags contain 3 dotted yellow bags.', 'posh magenta bags contain 4 bright gray bags, 4 dotted turquoise bags.', 'drab teal bags contain 5 dotted plum bags, 2 light white bags, 2 dark plum bags, 4 dim crimson bags.', 'dark coral bags contain 3 wavy chartreuse bags, 3 plaid bronze bags, 1 muted magenta bag.', 'posh white bags contain 4 dotted turquoise bags, 1 mirrored lime bag.', 'mirrored brown bags contain 2 shiny chartreuse bags, 1 light bronze bag, 4 bright bronze bags, 5 dotted crimson bags.', 'faded cyan bags contain 2 dull crimson bags, 4 light chartreuse bags, 4 light salmon bags.', 'bright maroon bags contain 3 dotted yellow bags, 1 bright gray bag, 2 dim yellow bags, 5 light fuchsia bags.', 'clear silver bags contain 4 faded green bags, 4 posh white bags, 4 dark plum bags.', 'shiny crimson bags contain 4 dark lavender bags, 3 dotted gold bags, 3 dark tan bags.', 'wavy olive bags contain 4 dotted cyan bags.', 'wavy coral bags contain 3 dim gold bags, 4 dim silver bags, 4 faded green bags, 2 muted purple bags.', 'striped chartreuse bags contain 4 mirrored plum bags, 4 dull tan bags, 5 muted gold bags.', 'bright blue bags contain 5 mirrored beige bags, 4 muted bronze bags, 1 dark tan bag, 5 dark cyan bags.', 'vibrant red bags contain 3 light chartreuse bags, 2 faded indigo bags, 3 drab teal bags, 1 striped indigo bag.', 'dim cyan bags contain 5 faded silver bags, 3 wavy coral bags.', 'muted gold bags contain 4 pale coral bags.', 'wavy violet bags contain 2 dotted gray bags, 1 clear tan bag, 5 plaid brown bags.', 'light maroon bags contain 5 faded silver bags.', 'light cyan bags contain 5 pale brown bags, 3 pale black bags, 3 light tomato bags, 2 faded violet bags.', 'pale turquoise bags contain 1 dull white bag, 1 muted tomato bag, 2 clear gold bags.', 'clear plum bags contain 2 dotted orange bags, 1 bright olive bag, 3 striped violet bags.', 'plaid silver bags contain 5 muted olive bags, 1 vibrant bronze bag, 5 dull lavender bags, 3 dark purple bags.', 'clear gold bags contain 1 dotted turquoise bag, 3 dark indigo bags.', 'muted indigo bags contain 1 mirrored orange bag, 3 dull beige bags.', 'light plum bags contain 3 drab brown bags, 4 wavy cyan bags, 3 vibrant lavender bags.', 'dim maroon bags contain 4 dull tan bags.', 'pale lime bags contain 4 dotted maroon bags, 2 faded silver bags, 5 shiny tomato bags.', 'shiny black bags contain 2 dull crimson bags.', 'wavy indigo bags contain 1 light fuchsia bag.', 'dull lime bags contain no other bags.', 'shiny fuchsia bags contain 2 drab fuchsia bags, 1 shiny cyan bag, 1 muted black bag, 2 dull aqua bags.', 'muted lavender bags contain 4 dull fuchsia bags, 1 dim chartreuse bag, 1 vibrant gold bag, 2 shiny beige bags.', 'bright cyan bags contain 5 dark gold bags, 2 vibrant cyan bags, 1 pale coral bag.', 'posh black bags contain 3 dull violet bags, 5 drab coral bags.', 'posh olive bags contain 3 muted magenta bags, 3 dark plum bags, 1 shiny violet bag.', 'dull coral bags contain 1 dark gold bag, 2 striped silver bags, 5 vibrant lavender bags, 2 light red bags.', 'clear bronze bags contain 4 striped cyan bags, 4 dotted chartreuse bags, 4 shiny maroon bags.', 'bright red bags contain 2 dark violet bags, 4 pale brown bags.', 'muted silver bags contain 3 bright blue bags, 1 shiny blue bag, 5 muted bronze bags, 1 bright tan bag.', 'dotted maroon bags contain 5 muted white bags, 4 dull lime bags, 2 dim gold bags, 2 faded fuchsia bags.', 'clear lime bags contain 4 striped gold bags, 2 vibrant purple bags, 5 dotted green bags, 2 light tomato bags.', 'shiny tan bags contain 5 dark lavender bags, 1 dull red bag, 4 vibrant turquoise bags, 5 faded fuchsia bags.', 'dark teal bags contain 2 dotted brown bags, 5 clear salmon bags, 5 wavy coral bags, 3 light fuchsia bags.', 'shiny cyan bags contain 1 mirrored gold bag, 1 mirrored aqua bag, 1 posh magenta bag.', 'pale red bags contain 1 vibrant turquoise bag.', 'drab coral bags contain 2 faded tomato bags, 3 plaid aqua bags.', 'clear white bags contain 1 dull white bag, 5 shiny tan bags, 1 mirrored yellow bag, 1 wavy chartreuse bag.', 'clear crimson bags contain 5 muted white bags, 1 vibrant yellow bag.', 'posh lavender bags contain 2 mirrored aqua bags, 4 faded aqua bags, 2 light red bags.', 'dim violet bags contain 4 dull orange bags, 5 dull turquoise bags, 5 dark purple bags.', 'pale beige bags contain 3 wavy indigo bags, 5 dark plum bags, 2 dark purple bags, 2 dim turquoise bags.', 'striped brown bags contain 4 bright lime bags, 5 wavy coral bags.', 'shiny blue bags contain 2 wavy coral bags, 2 dotted plum bags.', 'pale black bags contain 5 clear maroon bags, 4 striped crimson bags, 4 dark gold bags.', 'drab plum bags contain 3 clear gold bags.', 'posh beige bags contain 3 faded silver bags, 3 dim gold bags, 5 shiny gold bags.', 'clear lavender bags contain 1 clear white bag.', 'light lavender bags contain 4 dotted violet bags, 3 dull violet bags, 4 dark maroon bags, 2 striped violet bags.', 'plaid brown bags contain 4 dotted yellow bags.', 'dotted green bags contain 3 dull red bags, 2 faded green bags, 3 muted white bags, 1 dim turquoise bag.', 'muted olive bags contain 4 vibrant tan bags, 3 dotted black bags.', 'light turquoise bags contain 3 wavy blue bags, 4 dim plum bags, 4 dim chartreuse bags.', 'dim salmon bags contain 2 mirrored yellow bags.', 'shiny white bags contain 1 mirrored violet bag.', 'drab olive bags contain 3 striped crimson bags, 3 dotted maroon bags.', 'drab silver bags contain 5 shiny cyan bags, 1 dull teal bag, 4 dark lime bags.', 'vibrant turquoise bags contain 4 striped crimson bags, 5 dark plum bags, 3 dark lavender bags, 5 dark purple bags.', 'shiny purple bags contain 1 posh beige bag, 1 dark indigo bag, 4 plaid fuchsia bags, 5 dotted green bags.', 'bright brown bags contain 1 striped lavender bag, 5 light gold bags, 1 dim maroon bag.', 'dotted violet bags contain 3 striped blue bags.', 'bright crimson bags contain 2 muted gold bags, 3 vibrant turquoise bags, 3 wavy green bags, 5 dull white bags.', 'striped tan bags contain 2 wavy gray bags, 4 bright gray bags, 1 plaid cyan bag, 1 vibrant magenta bag.', 'dull green bags contain 1 bright brown bag, 5 posh beige bags, 5 mirrored crimson bags, 1 dark silver bag.', 'mirrored lime bags contain 4 muted tomato bags, 5 wavy chartreuse bags, 5 dotted plum bags.', 'striped beige bags contain 2 striped bronze bags, 2 shiny yellow bags, 4 pale gray bags, 2 vibrant tomato bags.', 'vibrant lime bags contain 4 striped crimson bags, 2 pale silver bags, 4 clear purple bags.', 'pale blue bags contain 1 bright cyan bag, 1 shiny fuchsia bag, 5 wavy turquoise bags, 5 dotted silver bags.', 'striped maroon bags contain 1 muted lime bag.', 'faded chartreuse bags contain 2 mirrored white bags.', 'mirrored crimson bags contain 2 dotted gold bags, 5 shiny red bags, 5 wavy red bags.', 'dull beige bags contain 2 posh red bags, 1 vibrant turquoise bag, 5 dark plum bags, 5 clear aqua bags.', 'wavy green bags contain 3 shiny crimson bags.', 'striped salmon bags contain 2 dim plum bags, 2 mirrored indigo bags.', 'faded coral bags contain 3 muted tomato bags, 1 light chartreuse bag.', 'dark blue bags contain 2 shiny violet bags.', 'shiny gold bags contain 1 dull lime bag, 2 pale coral bags, 1 wavy silver bag, 5 muted black bags.', 'clear turquoise bags contain 1 posh magenta bag.', 'dotted salmon bags contain 2 mirrored lime bags, 1 mirrored salmon bag.', 'pale gray bags contain 3 bright blue bags, 5 muted tan bags.', 'shiny teal bags contain 5 pale indigo bags.', 'drab beige bags contain 5 faded indigo bags, 5 vibrant bronze bags, 4 pale lime bags, 3 dark black bags.', 'vibrant white bags contain 5 striped violet bags, 3 bright blue bags, 2 dim gold bags.', 'posh aqua bags contain 5 plaid violet bags, 3 drab chartreuse bags.', 'plaid gray bags contain 5 dotted cyan bags, 2 mirrored silver bags.', 'clear indigo bags contain 1 bright tan bag, 2 dull yellow bags, 5 mirrored lavender bags, 2 mirrored fuchsia bags.', 'mirrored turquoise bags contain 3 faded chartreuse bags, 2 drab turquoise bags.', 'dark chartreuse bags contain 2 mirrored silver bags, 3 vibrant crimson bags, 4 shiny green bags, 1 pale brown bag.', 'pale tomato bags contain 2 light gold bags.', 'mirrored purple bags contain 1 light magenta bag, 3 shiny yellow bags, 4 striped lavender bags.', 'mirrored blue bags contain 3 posh magenta bags, 4 dark lavender bags, 5 striped crimson bags.', 'dull purple bags contain 4 mirrored indigo bags, 2 wavy bronze bags, 4 muted white bags, 4 shiny crimson bags.', 'mirrored teal bags contain 5 dim teal bags, 4 dark lime bags, 4 mirrored yellow bags, 3 mirrored turquoise bags.', 'drab gold bags contain 3 dark maroon bags, 2 plaid beige bags.', 'dotted gold bags contain 2 striped crimson bags, 3 clear red bags.', 'posh fuchsia bags contain 4 dim cyan bags, 4 vibrant turquoise bags, 4 dotted plum bags.', 'dim lime bags contain 4 posh indigo bags.', 'dim tan bags contain 3 pale indigo bags, 1 striped turquoise bag, 4 plaid coral bags.', 'plaid red bags contain 5 wavy gold bags, 1 muted plum bag, 2 vibrant plum bags, 1 dim brown bag.', 'light orange bags contain 4 dotted teal bags, 4 dotted yellow bags.', 'dark green bags contain 1 dull cyan bag.', 'posh coral bags contain 3 shiny green bags, 3 dotted red bags, 1 drab silver bag.', 'striped orange bags contain 3 plaid plum bags.', 'pale purple bags contain 1 vibrant coral bag, 2 shiny olive bags, 1 clear orange bag.', 'bright fuchsia bags contain 3 bright yellow bags.', 'striped red bags contain 2 bright orange bags, 3 mirrored yellow bags, 1 dotted coral bag, 3 clear aqua bags.', 'faded plum bags contain 2 shiny tan bags, 4 dull tan bags.', 'striped gold bags contain 1 shiny crimson bag.', 'faded olive bags contain 2 shiny lavender bags, 5 posh fuchsia bags, 3 pale gray bags.', 'pale aqua bags contain 3 posh beige bags.', 'dotted plum bags contain 4 clear red bags.', 'dotted chartreuse bags contain 1 light white bag, 5 drab turquoise bags.', 'striped tomato bags contain 4 dim plum bags, 1 striped black bag, 4 drab black bags.', 'shiny lime bags contain 3 drab coral bags, 1 drab green bag, 4 muted salmon bags.', 'dim orange bags contain 2 striped chartreuse bags.', 'plaid tan bags contain 5 light chartreuse bags, 1 dotted maroon bag, 2 clear silver bags.', 'dull olive bags contain 3 muted gold bags, 5 dotted gold bags, 4 muted white bags, 1 shiny violet bag.', 'dotted beige bags contain 1 clear tan bag.', 'dotted silver bags contain 2 faded crimson bags.', 'muted black bags contain 3 clear red bags, 3 dotted maroon bags.', 'clear purple bags contain 5 dotted plum bags.', 'striped indigo bags contain 5 mirrored blue bags, 2 striped violet bags, 3 striped yellow bags.', 'faded teal bags contain 2 light black bags, 1 vibrant maroon bag.', 'drab red bags contain 3 dark tan bags, 4 pale red bags, 5 faded salmon bags, 3 dotted tomato bags.', 'muted aqua bags contain 2 striped purple bags, 3 vibrant orange bags, 3 bright cyan bags.', 'mirrored black bags contain 4 muted yellow bags, 5 light fuchsia bags.', 'dark gold bags contain 2 dark indigo bags, 3 muted magenta bags, 3 dull white bags.', 'dotted lime bags contain 4 shiny blue bags, 3 striped fuchsia bags.', 'posh brown bags contain 2 muted beige bags.', 'muted green bags contain 5 bright white bags, 5 dim gold bags.', 'vibrant salmon bags contain 1 pale green bag, 5 light maroon bags, 4 striped violet bags.', 'drab white bags contain 2 drab fuchsia bags, 4 dull beige bags, 2 pale coral bags, 1 shiny tan bag.', 'light lime bags contain 4 dotted salmon bags, 5 dark fuchsia bags, 2 vibrant indigo bags.', 'shiny tomato bags contain 5 wavy green bags, 2 striped blue bags, 3 faded green bags, 3 muted tomato bags.', 'mirrored aqua bags contain 2 dark gold bags, 2 shiny green bags.', 'plaid cyan bags contain 5 shiny brown bags, 2 pale aqua bags, 3 striped turquoise bags, 5 plaid yellow bags.', 'light crimson bags contain 3 bright silver bags, 2 dark lime bags.', 'dull cyan bags contain 3 pale gray bags, 5 light beige bags, 3 striped blue bags.', 'muted plum bags contain 2 muted turquoise bags, 5 wavy lavender bags, 3 striped blue bags, 3 striped gray bags.', 'posh tan bags contain 4 dark brown bags, 1 drab crimson bag.', 'clear yellow bags contain 3 striped purple bags, 4 faded blue bags.', 'wavy fuchsia bags contain 2 light beige bags, 3 faded fuchsia bags.', 'pale gold bags contain 4 faded green bags, 5 clear bronze bags, 5 vibrant aqua bags, 3 muted cyan bags.', 'shiny gray bags contain 3 plaid chartreuse bags.', 'bright indigo bags contain 3 drab fuchsia bags.', 'drab black bags contain 3 shiny brown bags, 3 posh blue bags.', 'dark crimson bags contain 5 faded olive bags, 1 mirrored green bag.', 'vibrant silver bags contain 1 dark black bag, 2 drab tan bags.', 'shiny green bags contain 4 dark plum bags, 4 drab fuchsia bags, 3 dim plum bags, 3 mirrored gold bags.', 'plaid crimson bags contain 1 dim olive bag, 5 bright brown bags, 5 dull lavender bags.', 'dark salmon bags contain 2 light gold bags, 4 shiny blue bags.', 'faded blue bags contain 4 striped crimson bags, 1 muted tomato bag.', 'wavy magenta bags contain 5 wavy purple bags, 3 bright yellow bags, 3 shiny maroon bags, 1 wavy orange bag.', 'striped cyan bags contain 1 dotted plum bag, 1 bright coral bag.', 'faded crimson bags contain 5 pale aqua bags, 3 light blue bags.', 'muted gray bags contain 3 shiny tomato bags.', 'striped aqua bags contain 3 dim crimson bags.', 'wavy salmon bags contain 5 drab bronze bags, 4 light maroon bags.', 'drab fuchsia bags contain 3 faded black bags, 4 shiny crimson bags, 5 shiny tan bags.', 'clear black bags contain 4 dark crimson bags, 5 pale lavender bags.', 'dotted orange bags contain 1 dotted coral bag, 1 shiny gold bag, 3 wavy coral bags.', 'plaid tomato bags contain 4 wavy orange bags.', 'dark white bags contain 3 posh cyan bags.', 'wavy lime bags contain 4 faded silver bags, 3 vibrant gold bags, 3 vibrant coral bags.', 'faded tomato bags contain 1 striped bronze bag, 4 dotted green bags.', 'mirrored salmon bags contain 1 faded crimson bag, 3 muted gold bags, 4 clear aqua bags.', 'drab maroon bags contain 5 clear silver bags, 4 vibrant cyan bags, 5 faded gold bags.', 'dull violet bags contain 4 shiny tomato bags.', 'bright orange bags contain 4 bright tan bags.', 'plaid magenta bags contain 3 light fuchsia bags.', 'shiny turquoise bags contain 5 muted bronze bags, 4 bright lavender bags, 4 dark tan bags.', 'pale fuchsia bags contain 4 dull crimson bags, 3 wavy red bags, 5 dark gold bags.', 'plaid fuchsia bags contain 2 dim cyan bags, 5 bright coral bags.', 'dark indigo bags contain 3 dotted teal bags, 3 striped blue bags.', 'vibrant bronze bags contain 4 mirrored plum bags, 5 faded silver bags.', 'light tomato bags contain 3 posh fuchsia bags, 4 mirrored magenta bags, 1 muted gold bag, 3 dim green bags.', 'shiny silver bags contain 2 dim yellow bags, 1 wavy coral bag.', 'bright bronze bags contain 3 plaid coral bags, 2 wavy coral bags, 2 bright gray bags.', 'plaid turquoise bags contain 3 dim lime bags.', 'plaid teal bags contain 1 vibrant teal bag, 3 dark indigo bags, 4 plaid fuchsia bags.', 'striped purple bags contain 2 striped chartreuse bags, 2 clear chartreuse bags, 4 dark cyan bags, 5 striped salmon bags.', 'pale orange bags contain 5 muted green bags.', 'light green bags contain 2 plaid plum bags.', 'plaid purple bags contain 4 muted lime bags.', 'dark cyan bags contain no other bags.', 'wavy teal bags contain 5 dull black bags, 3 striped teal bags, 4 dotted cyan bags, 5 vibrant olive bags.', 'shiny indigo bags contain 3 dull lavender bags.', 'bright beige bags contain 1 bright bronze bag.', 'light white bags contain no other bags.', 'muted red bags contain 3 light tan bags, 4 clear cyan bags.', 'light coral bags contain 2 dull aqua bags, 1 bright beige bag, 4 wavy maroon bags, 3 posh tan bags.', 'bright violet bags contain 2 drab beige bags, 3 shiny fuchsia bags, 2 shiny cyan bags, 5 light gray bags.', 'striped fuchsia bags contain 1 striped black bag, 4 shiny white bags, 3 dim plum bags.', 'vibrant teal bags contain 1 faded tomato bag, 3 dim gray bags.', 'striped turquoise bags contain 3 wavy silver bags, 3 bright orange bags, 5 plaid coral bags, 1 clear red bag.', 'mirrored fuchsia bags contain 1 dotted green bag, 1 plaid cyan bag.', 'dim green bags contain 1 posh olive bag, 1 dim silver bag.', 'faded orange bags contain 4 drab beige bags, 1 vibrant salmon bag, 2 plaid orange bags.', 'bright tomato bags contain 4 dim aqua bags, 2 posh beige bags, 4 striped purple bags.', 'faded lime bags contain 1 bright tan bag.', 'mirrored indigo bags contain 4 shiny tan bags, 3 faded blue bags.', 'vibrant orange bags contain 3 vibrant olive bags, 2 bright olive bags, 3 wavy violet bags.', 'plaid beige bags contain 2 shiny violet bags, 3 faded violet bags.', 'muted purple bags contain 3 light beige bags, 3 bright tan bags.', 'mirrored orange bags contain 5 plaid lime bags, 4 dotted olive bags.', 'wavy purple bags contain 3 dim chartreuse bags.', 'wavy blue bags contain 5 striped blue bags, 5 posh olive bags.', 'dull black bags contain 3 dotted plum bags.', 'drab bronze bags contain 5 dim olive bags, 3 vibrant gray bags, 3 pale green bags, 1 dull cyan bag.', 'pale coral bags contain 5 dim gold bags, 1 vibrant bronze bag.', 'dull orange bags contain 1 shiny turquoise bag.', 'mirrored gray bags contain 1 mirrored plum bag, 5 dim silver bags.', 'drab cyan bags contain 1 dark fuchsia bag, 1 striped salmon bag, 4 plaid beige bags, 5 dim olive bags.', 'dark bronze bags contain 2 pale salmon bags, 5 dull magenta bags, 5 clear indigo bags, 3 wavy plum bags.', 'dim tomato bags contain 5 striped lavender bags.', 'faded white bags contain 3 striped lime bags, 4 dotted orange bags.', 'dull teal bags contain 4 vibrant yellow bags.', 'clear teal bags contain 4 wavy gold bags.', 'muted tan bags contain 3 faded green bags.', 'dim gold bags contain no other bags.', 'dim turquoise bags contain 3 mirrored plum bags, 3 bright orange bags, 1 muted tan bag.', 'striped silver bags contain 4 dull lime bags, 5 striped blue bags.', 'striped yellow bags contain 2 vibrant crimson bags.', 'striped violet bags contain 1 clear beige bag, 2 dim indigo bags, 3 muted lime bags.', 'posh cyan bags contain 4 faded blue bags, 2 vibrant magenta bags, 3 dull lime bags, 3 shiny blue bags.', 'vibrant brown bags contain 5 shiny violet bags.', 'pale chartreuse bags contain 1 wavy teal bag, 1 muted maroon bag, 5 clear turquoise bags.', 'vibrant indigo bags contain 5 drab teal bags, 1 bright aqua bag.', 'bright green bags contain 4 drab silver bags, 5 shiny gold bags.', 'dim black bags contain 1 faded violet bag.', 'muted orange bags contain 3 dull yellow bags, 1 vibrant blue bag, 3 plaid tan bags, 2 dotted teal bags.', 'muted crimson bags contain 4 muted silver bags, 5 shiny lavender bags, 3 posh beige bags, 2 shiny purple bags.', 'clear tomato bags contain 4 dotted teal bags, 2 vibrant olive bags, 5 plaid magenta bags, 4 bright chartreuse bags.', 'vibrant fuchsia bags contain 5 dim cyan bags, 4 light white bags, 1 dull orange bag, 5 dark gold bags.', 'muted magenta bags contain no other bags.', 'dim brown bags contain 1 striped red bag, 4 posh fuchsia bags, 3 mirrored gold bags.', 'dim plum bags contain 1 vibrant turquoise bag, 1 clear chartreuse bag, 3 faded brown bags.', 'plaid gold bags contain 5 drab tomato bags.', 'wavy tomato bags contain 3 dark gold bags, 1 light orange bag, 4 muted salmon bags, 2 muted olive bags.', 'pale olive bags contain 2 plaid cyan bags.', 'wavy plum bags contain 4 faded aqua bags, 5 dull olive bags, 3 bright lavender bags, 2 drab chartreuse bags.', 'posh tomato bags contain 5 drab blue bags.', 'dull gray bags contain 5 dull olive bags, 3 mirrored coral bags, 4 striped lavender bags.', 'posh plum bags contain 5 dull cyan bags, 2 dotted orange bags, 3 plaid indigo bags, 5 light beige bags.', 'striped plum bags contain 2 drab white bags, 2 mirrored yellow bags, 3 dim crimson bags, 2 pale salmon bags.', 'light beige bags contain 3 dark cyan bags, 3 striped crimson bags.', 'dark maroon bags contain 5 light tan bags, 5 faded green bags, 3 striped gold bags, 4 bright aqua bags.', 'faded brown bags contain 5 dotted gold bags, 3 striped turquoise bags, 4 bright tan bags, 3 clear chartreuse bags.', 'striped lime bags contain 4 dim gold bags, 5 pale coral bags, 4 mirrored plum bags.', 'light olive bags contain 1 shiny white bag, 3 dotted plum bags, 3 clear orange bags, 3 posh turquoise bags.', 'light magenta bags contain 2 shiny turquoise bags.', 'dotted turquoise bags contain 5 posh olive bags.', 'dark violet bags contain 1 faded blue bag, 1 shiny green bag.', 'shiny plum bags contain 2 dotted blue bags, 1 clear gold bag.', 'striped bronze bags contain 5 dim chartreuse bags, 1 shiny violet bag.', 'vibrant lavender bags contain 1 faded fuchsia bag, 2 shiny blue bags, 2 dotted plum bags.', 'dotted crimson bags contain 2 dark cyan bags, 1 dim chartreuse bag, 4 light red bags.', 'posh blue bags contain 2 bright silver bags, 4 drab beige bags, 2 dim salmon bags.', 'plaid orange bags contain 3 dark lime bags.', 'wavy gold bags contain 1 drab olive bag, 1 shiny cyan bag, 3 drab brown bags.', 'muted lime bags contain 2 dull teal bags.', 'vibrant magenta bags contain 3 muted gray bags.', 'posh silver bags contain 4 bright lavender bags, 5 light gold bags, 2 posh beige bags, 2 dull crimson bags.', 'shiny bronze bags contain 5 pale lavender bags, 3 plaid bronze bags, 3 mirrored blue bags, 4 bright olive bags.', 'dotted tomato bags contain 2 drab yellow bags.', 'posh violet bags contain 4 muted fuchsia bags, 1 dark blue bag, 1 shiny indigo bag.', 'wavy turquoise bags contain 5 shiny yellow bags.', 'plaid lavender bags contain 3 dim lavender bags, 3 dotted salmon bags.', 'striped teal bags contain 5 mirrored crimson bags, 1 mirrored violet bag, 1 dark violet bag, 5 dotted yellow bags.', 'faded black bags contain 5 posh red bags.', 'faded tan bags contain 1 mirrored violet bag, 4 dark lime bags, 4 dim green bags, 4 muted green bags.', 'clear brown bags contain 3 pale coral bags, 1 plaid coral bag, 4 pale gray bags.', 'light violet bags contain 5 dim plum bags, 4 muted violet bags, 3 drab teal bags.', 'dotted gray bags contain 4 mirrored white bags, 3 vibrant lavender bags, 4 dark lime bags, 5 vibrant coral bags.', 'faded yellow bags contain 2 plaid bronze bags, 1 dark purple bag, 5 shiny crimson bags, 3 shiny tan bags.', 'shiny violet bags contain 4 dull lime bags, 4 muted white bags, 2 dark cyan bags.', 'faded gold bags contain 5 plaid aqua bags.', 'bright salmon bags contain 2 shiny lavender bags, 5 plaid red bags.', 'clear violet bags contain 4 posh turquoise bags.', 'light silver bags contain 1 light salmon bag, 2 clear aqua bags, 4 mirrored plum bags, 2 striped silver bags.', 'pale cyan bags contain 4 vibrant orange bags, 3 light salmon bags, 4 striped cyan bags, 4 wavy gray bags.', 'wavy cyan bags contain 3 light orange bags, 1 bright yellow bag, 2 pale fuchsia bags.', 'clear maroon bags contain 1 dotted coral bag, 4 plaid yellow bags.', 'striped blue bags contain 5 light white bags, 2 dull lime bags, 1 shiny maroon bag.', 'clear red bags contain no other bags.', 'pale tan bags contain 5 light gold bags, 5 dark brown bags, 1 wavy black bag, 5 drab blue bags.', 'mirrored magenta bags contain 4 dotted plum bags, 3 posh beige bags.', 'dull maroon bags contain 1 mirrored fuchsia bag.', 'dim silver bags contain 5 striped crimson bags, 1 light beige bag.', 'plaid olive bags contain 3 shiny white bags, 2 bright lavender bags.', 'shiny magenta bags contain 3 dotted gray bags, 1 shiny blue bag, 3 faded silver bags, 2 dark tomato bags.', 'mirrored green bags contain 4 dim cyan bags, 2 bright tan bags.', 'faded silver bags contain 1 dark plum bag, 5 dotted plum bags, 1 dark cyan bag, 5 dull red bags.', 'vibrant cyan bags contain 5 vibrant lavender bags.', 'shiny brown bags contain 4 striped blue bags, 1 light beige bag, 1 muted tan bag, 5 bright orange bags.', 'wavy maroon bags contain 3 vibrant white bags, 1 pale red bag, 5 striped yellow bags, 4 plaid bronze bags.', 'shiny aqua bags contain 5 dotted salmon bags, 5 bright maroon bags, 1 wavy red bag.', 'clear cyan bags contain 2 striped red bags, 5 plaid coral bags, 2 dark fuchsia bags.', 'dotted red bags contain 5 dim orange bags, 4 striped tan bags.', 'vibrant green bags contain 1 dark plum bag.', 'striped black bags contain 5 dull white bags.', 'dotted indigo bags contain 2 vibrant orange bags, 5 vibrant lavender bags, 4 shiny bronze bags.', 'dark tan bags contain 1 muted tan bag.', 'dotted yellow bags contain 3 dark cyan bags, 2 shiny maroon bags.', 'dull chartreuse bags contain 4 vibrant red bags, 4 dim salmon bags, 5 drab salmon bags.', 'shiny beige bags contain 3 dotted yellow bags, 2 muted tomato bags, 4 wavy red bags.', 'faded indigo bags contain 4 faded green bags.', 'light chartreuse bags contain 1 mirrored violet bag, 5 striped lavender bags.', 'dark red bags contain 5 dark green bags, 3 clear beige bags, 5 wavy tan bags, 4 striped cyan bags.', 'muted blue bags contain 3 dark beige bags, 2 bright lavender bags, 5 dull teal bags.', 'mirrored olive bags contain 5 dark lavender bags, 1 clear blue bag.', 'pale yellow bags contain 2 dark chartreuse bags, 4 posh silver bags, 2 dim crimson bags, 3 wavy gold bags.', 'dull brown bags contain 1 light aqua bag, 2 pale aqua bags, 1 faded red bag, 1 wavy white bag.', 'clear chartreuse bags contain 2 wavy coral bags.', 'bright white bags contain 4 light fuchsia bags, 5 drab turquoise bags, 5 striped lime bags.', 'light gray bags contain 4 mirrored violet bags, 5 dotted maroon bags, 3 pale lime bags.', 'mirrored cyan bags contain 4 mirrored salmon bags, 2 drab olive bags.', 'dark orange bags contain 3 vibrant lavender bags.', 'drab chartreuse bags contain 2 wavy orange bags.', 'muted white bags contain no other bags.', 'dull red bags contain 1 faded fuchsia bag, 2 dark purple bags, 4 clear red bags.', 'shiny red bags contain 2 bright gray bags, 4 drab blue bags, 2 bright aqua bags.', 'vibrant gold bags contain 3 shiny tan bags, 5 mirrored gold bags.', 'wavy red bags contain 1 dark plum bag, 3 striped blue bags, 4 light white bags, 1 wavy silver bag.', 'mirrored coral bags contain 4 dark indigo bags.', 'mirrored beige bags contain 1 muted white bag.', 'faded bronze bags contain 5 bright aqua bags, 2 dotted chartreuse bags, 2 faded tomato bags.', 'bright plum bags contain 3 drab chartreuse bags.', 'shiny coral bags contain 2 dark yellow bags, 5 dark blue bags, 4 dotted green bags.', 'mirrored yellow bags contain 1 dotted plum bag.', 'faded fuchsia bags contain no other bags.', 'bright magenta bags contain 4 muted orange bags, 3 striped red bags, 5 light bronze bags.', 'drab aqua bags contain 5 dotted indigo bags, 3 dim gray bags.', 'faded violet bags contain 2 shiny gold bags.', 'dull lavender bags contain 1 drab chartreuse bag, 2 shiny plum bags, 4 vibrant tan bags, 5 dark tomato bags.', 'shiny lavender bags contain 2 light fuchsia bags.', 'dotted brown bags contain 5 shiny brown bags, 4 light fuchsia bags, 3 plaid cyan bags.', 'dark olive bags contain 2 wavy red bags, 5 striped lavender bags, 4 vibrant lavender bags, 2 shiny gold bags.', 'dotted black bags contain 1 dark lime bag.', 'faded aqua bags contain 2 dim turquoise bags, 3 muted green bags, 5 clear aqua bags.', 'plaid yellow bags contain 1 striped turquoise bag, 4 striped lime bags.', 'pale bronze bags contain 4 muted tan bags, 5 dotted fuchsia bags.', 'muted coral bags contain 2 striped bronze bags, 1 dark violet bag.', 'dim indigo bags contain 1 shiny red bag.', 'drab gray bags contain 3 posh white bags, 2 plaid indigo bags.', 'pale silver bags contain 1 faded coral bag, 5 shiny lavender bags, 5 wavy lime bags.', 'wavy silver bags contain 1 vibrant bronze bag.', 'wavy crimson bags contain 1 mirrored orange bag.', 'dotted aqua bags contain 4 drab plum bags, 5 faded indigo bags, 3 dark violet bags, 3 pale gray bags.', 'mirrored violet bags contain 5 mirrored white bags.', 'dotted white bags contain 3 muted plum bags, 3 bright bronze bags, 2 dark salmon bags.', 'bright coral bags contain 5 mirrored gray bags.', 'dim aqua bags contain 3 mirrored plum bags, 3 plaid olive bags, 1 light gold bag.', 'drab crimson bags contain 5 faded purple bags.', 'pale crimson bags contain 4 dotted orange bags, 2 faded silver bags.', 'mirrored tan bags contain 3 posh gray bags, 2 dark silver bags, 3 dim tan bags.', 'clear olive bags contain 1 dim yellow bag, 1 bright blue bag, 3 bright tomato bags.', 'dim blue bags contain 3 drab black bags, 1 light blue bag, 5 light orange bags, 5 bright white bags.', 'mirrored chartreuse bags contain 4 drab beige bags, 1 pale indigo bag.', 'dark turquoise bags contain 1 vibrant black bag, 1 light turquoise bag, 5 pale aqua bags.', 'posh yellow bags contain 4 dim teal bags, 2 dark black bags.', 'clear aqua bags contain 2 drab teal bags, 5 light gold bags, 4 dim crimson bags.', 'dotted purple bags contain 4 striped salmon bags.', 'light indigo bags contain 3 faded red bags, 2 shiny crimson bags, 3 wavy green bags, 2 striped coral bags.', 'vibrant yellow bags contain 1 dotted cyan bag, 3 posh silver bags.', 'faded lavender bags contain 5 dull cyan bags.', 'dull magenta bags contain 2 dotted green bags.', 'posh indigo bags contain 1 dull lime bag, 4 striped lavender bags, 1 faded silver bag.', 'light aqua bags contain 3 posh maroon bags, 3 dotted black bags, 4 muted tomato bags, 4 mirrored magenta bags.', 'mirrored maroon bags contain 3 light aqua bags.', 'dim red bags contain 2 muted green bags, 1 vibrant tan bag.', 'wavy yellow bags contain 3 dotted cyan bags.', 'bright aqua bags contain 1 dotted maroon bag, 1 muted white bag, 3 striped turquoise bags.', 'clear fuchsia bags contain 2 mirrored fuchsia bags, 4 bright white bags, 3 mirrored white bags, 1 bright coral bag.', 'dotted olive bags contain 3 pale aqua bags, 4 light gold bags, 5 dim yellow bags.', 'light black bags contain 4 clear tan bags, 5 wavy lime bags, 3 dim fuchsia bags, 3 pale indigo bags.', 'dark purple bags contain 5 dark cyan bags.', 'dim purple bags contain 2 wavy crimson bags, 2 dim chartreuse bags, 3 shiny yellow bags, 1 light black bag.', 'plaid salmon bags contain 1 faded lime bag.', 'dotted cyan bags contain 2 shiny tomato bags, 1 mirrored plum bag.', 'posh maroon bags contain 1 light bronze bag, 4 muted tan bags, 5 vibrant plum bags.', 'dim fuchsia bags contain 3 dim plum bags, 5 dark gray bags.', 'bright tan bags contain 1 shiny maroon bag, 1 light beige bag, 2 faded fuchsia bags.', 'plaid green bags contain 3 wavy cyan bags, 5 dark chartreuse bags, 5 dark blue bags.', 'plaid black bags contain 4 dull olive bags, 4 mirrored white bags, 4 plaid white bags.', 'clear beige bags contain 1 dull tan bag.', 'mirrored tomato bags contain 5 drab tomato bags, 1 plaid bronze bag.', 'dim yellow bags contain 4 dark indigo bags, 4 bright silver bags, 3 muted purple bags.', 'clear tan bags contain 4 light gold bags, 3 bright lavender bags, 2 mirrored fuchsia bags.', 'dim lavender bags contain 3 vibrant aqua bags.', 'striped white bags contain 3 posh tomato bags, 3 dark gold bags, 2 clear olive bags, 1 dotted bronze bag.', 'wavy bronze bags contain 1 plaid lime bag, 4 plaid yellow bags, 1 bright white bag.', 'shiny orange bags contain 3 drab chartreuse bags, 1 shiny gold bag.', 'dim coral bags contain 2 faded silver bags.', 'bright gold bags contain 5 dim aqua bags, 2 drab bronze bags.', 'vibrant black bags contain 4 dotted green bags, 2 light brown bags.', 'bright teal bags contain 1 light gold bag, 2 bright aqua bags.', 'drab brown bags contain 2 wavy blue bags, 5 wavy orange bags.', 'dull yellow bags contain 4 striped green bags, 4 bright lime bags, 2 faded tan bags, 5 dotted green bags.', 'vibrant maroon bags contain 4 mirrored fuchsia bags.', 'vibrant gray bags contain 3 faded turquoise bags, 5 pale black bags, 3 drab aqua bags.', 'pale white bags contain 3 shiny beige bags.', 'dim beige bags contain 1 pale fuchsia bag, 1 muted lime bag, 3 dotted plum bags.', 'drab blue bags contain 4 dim crimson bags, 4 shiny beige bags, 2 bright silver bags.', 'dark black bags contain 5 light beige bags, 5 muted gold bags.', 'plaid bronze bags contain 3 wavy indigo bags.', 'posh salmon bags contain 3 dark salmon bags, 2 posh purple bags, 5 dim yellow bags.', 'mirrored lavender bags contain 4 wavy chartreuse bags, 4 plaid bronze bags.', 'muted brown bags contain 1 drab magenta bag, 2 vibrant plum bags, 4 clear purple bags, 4 dark blue bags.', 'wavy white bags contain 2 striped red bags.', 'dark gray bags contain 5 bright blue bags, 2 light brown bags.', 'mirrored silver bags contain 2 dotted chartreuse bags, 1 dotted fuchsia bag, 4 mirrored lavender bags, 2 mirrored white bags.', 'wavy brown bags contain 5 posh teal bags, 4 drab white bags, 5 shiny chartreuse bags, 4 light maroon bags.', 'posh gray bags contain 1 striped turquoise bag, 4 muted crimson bags, 3 clear yellow bags, 3 striped crimson bags.', 'dull tomato bags contain 5 drab purple bags, 4 faded yellow bags.', 'dotted blue bags contain 2 dull cyan bags, 3 dim plum bags.', 'vibrant tomato bags contain 5 plaid coral bags, 5 pale fuchsia bags.', 'wavy beige bags contain 3 dull magenta bags, 3 dotted beige bags, 3 bright white bags, 2 striped fuchsia bags.', 'plaid lime bags contain 3 light blue bags, 3 drab brown bags, 1 drab teal bag.', 'dim white bags contain 5 wavy coral bags, 5 vibrant bronze bags, 2 dark cyan bags, 2 dark plum bags.', 'bright yellow bags contain 4 pale aqua bags, 2 dim turquoise bags, 4 faded brown bags.', 'plaid maroon bags contain 1 dark teal bag, 4 vibrant white bags, 5 striped coral bags, 4 shiny white bags.', 'pale lavender bags contain 2 shiny violet bags.', 'drab magenta bags contain 5 bright gray bags.', 'clear salmon bags contain 4 wavy purple bags, 1 bright olive bag, 1 clear yellow bag.', 'dark yellow bags contain 1 bright bronze bag, 3 striped plum bags.', 'posh bronze bags contain 1 shiny maroon bag, 4 drab olive bags, 2 mirrored green bags, 5 light silver bags.', 'drab green bags contain 3 dim orange bags, 5 vibrant chartreuse bags.', 'light fuchsia bags contain 2 wavy silver bags, 4 muted white bags, 5 muted black bags, 1 faded green bag.', 'dark plum bags contain 4 bright tan bags, 4 dull lime bags, 2 faded fuchsia bags, 4 shiny maroon bags.', 'light teal bags contain 4 light lavender bags.', 'vibrant tan bags contain 1 vibrant bronze bag.', 'muted teal bags contain 5 wavy green bags, 5 plaid turquoise bags.', 'bright chartreuse bags contain 2 muted gold bags, 5 posh olive bags, 1 vibrant tan bag, 2 faded salmon bags.', 'dotted fuchsia bags contain 3 pale lime bags.', 'pale teal bags contain 5 plaid silver bags, 4 shiny turquoise bags, 3 dim coral bags, 2 vibrant bronze bags.', 'drab orange bags contain 2 shiny silver bags, 2 vibrant indigo bags, 5 mirrored lavender bags, 5 dark yellow bags.', 'clear green bags contain 4 vibrant beige bags, 1 bright crimson bag, 5 muted gray bags.', 'shiny yellow bags contain 4 light fuchsia bags, 2 mirrored plum bags.', 'plaid blue bags contain 4 mirrored blue bags, 1 plaid olive bag.', 'mirrored plum bags contain 2 dull red bags, 3 muted magenta bags.', 'dim bronze bags contain 3 vibrant olive bags.', 'posh green bags contain 3 mirrored blue bags, 4 vibrant yellow bags, 5 bright yellow bags, 2 wavy fuchsia bags.', 'clear blue bags contain 5 mirrored yellow bags.', 'dotted teal bags contain 5 shiny brown bags, 2 faded silver bags, 3 plaid coral bags.', 'muted cyan bags contain 4 clear aqua bags.', 'dark fuchsia bags contain 1 shiny blue bag, 1 dull fuchsia bag, 2 dull lime bags, 5 drab salmon bags.', 'dark silver bags contain 2 dim salmon bags.', 'muted beige bags contain 1 shiny lavender bag, 1 striped chartreuse bag.', 'dull indigo bags contain 1 bright beige bag, 2 dark gold bags, 1 mirrored magenta bag.', 'bright silver bags contain 3 faded violet bags, 4 dim cyan bags, 5 faded indigo bags, 1 clear chartreuse bag.', 'dim olive bags contain 1 mirrored plum bag, 1 clear indigo bag, 2 striped crimson bags.', 'pale magenta bags contain 5 vibrant black bags, 3 muted salmon bags, 1 dotted fuchsia bag.', 'faded turquoise bags contain 2 light lavender bags, 3 clear lavender bags, 3 dull coral bags.', 'posh gold bags contain 5 clear blue bags.', 'muted maroon bags contain 5 dark fuchsia bags, 2 muted red bags, 5 dim salmon bags.', 'muted tomato bags contain 4 striped blue bags, 3 dark plum bags, 5 faded green bags, 4 bright tan bags.', 'dark lime bags contain 2 posh white bags, 4 dull crimson bags, 2 dark cyan bags, 4 mirrored plum bags.', 'posh lime bags contain 1 wavy violet bag, 3 dotted teal bags, 5 shiny cyan bags.', 'light tan bags contain 4 striped turquoise bags, 4 dim white bags, 4 shiny violet bags.', 'dull bronze bags contain 2 drab teal bags, 5 light red bags, 4 muted indigo bags.', 'plaid coral bags contain 5 dark purple bags, 5 striped crimson bags, 4 light beige bags.', 'wavy lavender bags contain 5 muted white bags.', 'drab indigo bags contain 4 dotted green bags, 1 striped silver bag.', 'dull silver bags contain 1 dark yellow bag, 2 light beige bags, 3 striped indigo bags, 4 wavy violet bags.', 'dark aqua bags contain 1 drab violet bag.', 'muted bronze bags contain 4 clear chartreuse bags, 4 drab turquoise bags, 3 pale coral bags.', 'striped coral bags contain 1 shiny red bag, 1 dark purple bag.', 'faded beige bags contain 2 bright fuchsia bags, 2 mirrored turquoise bags.', 'dull plum bags contain 5 dull aqua bags.', 'drab lime bags contain 3 clear aqua bags, 4 shiny cyan bags.', 'pale plum bags contain 5 shiny silver bags, 5 dull coral bags.', 'pale violet bags contain 1 wavy purple bag, 1 light plum bag, 3 striped silver bags, 3 drab teal bags.', 'clear magenta bags contain 2 dark plum bags, 2 striped tan bags, 4 posh plum bags, 4 dark turquoise bags.', 'vibrant plum bags contain 3 dotted teal bags, 5 vibrant gold bags.', 'bright gray bags contain 3 muted white bags, 2 striped crimson bags, 3 mirrored gray bags, 4 wavy silver bags.', 'clear coral bags contain 2 vibrant magenta bags, 2 dim orange bags, 3 dark black bags.', 'vibrant chartreuse bags contain 3 dark lime bags, 1 mirrored turquoise bag, 2 vibrant indigo bags, 1 dull gray bag.', 'faded purple bags contain 2 mirrored indigo bags, 3 dark indigo bags, 2 pale fuchsia bags, 5 muted olive bags.', 'drab violet bags contain 4 muted black bags, 1 clear maroon bag, 1 clear gold bag.', 'dim magenta bags contain 5 wavy tan bags.', 'clear orange bags contain 5 shiny tomato bags, 1 faded fuchsia bag.', 'mirrored white bags contain 5 dim plum bags, 3 mirrored magenta bags.', 'plaid white bags contain 1 pale tomato bag, 2 posh magenta bags, 5 vibrant maroon bags, 5 shiny fuchsia bags.', 'shiny olive bags contain 4 striped salmon bags, 2 mirrored gray bags, 5 plaid beige bags.', 'plaid plum bags contain 3 bright bronze bags.', 'dull salmon bags contain 3 bright white bags, 2 muted cyan bags.', 'pale maroon bags contain 3 muted tan bags, 1 bright gray bag.', 'faded salmon bags contain 1 bright silver bag.', 'striped magenta bags contain 5 dark plum bags, 5 faded bronze bags, 4 striped brown bags.', 'vibrant crimson bags contain 2 muted lime bags, 5 plaid indigo bags.', 'wavy tan bags contain 2 shiny yellow bags, 3 clear beige bags, 2 dotted gold bags.', 'posh teal bags contain 4 striped gold bags, 3 drab salmon bags, 3 shiny plum bags, 2 pale gray bags.', 'dotted coral bags contain 2 wavy chartreuse bags, 3 wavy blue bags.', 'light purple bags contain 1 mirrored lime bag.', 'bright lavender bags contain 5 faded brown bags.', 'muted turquoise bags contain 2 shiny maroon bags, 3 light purple bags, 2 striped tan bags, 4 plaid cyan bags.', 'posh red bags contain 2 striped lavender bags, 1 dark black bag, 5 dark purple bags, 3 drab olive bags.', 'bright black bags contain 3 dark brown bags, 4 clear olive bags, 4 plaid olive bags.', 'mirrored bronze bags contain 1 wavy turquoise bag.', 'vibrant violet bags contain 2 plaid indigo bags, 4 faded orange bags.', 'drab tan bags contain 3 clear crimson bags, 4 mirrored turquoise bags, 2 muted magenta bags.', 'dim gray bags contain 5 striped black bags, 5 muted silver bags, 1 dotted blue bag, 3 posh gray bags.', 'dull tan bags contain 1 clear maroon bag, 4 posh beige bags, 2 striped crimson bags, 5 dim gold bags.', 'vibrant blue bags contain 4 bright beige bags, 5 bright bronze bags, 2 plaid salmon bags.', 'posh crimson bags contain 2 mirrored purple bags, 1 striped silver bag, 2 bright magenta bags, 5 bright blue bags.', 'dotted bronze bags contain 2 wavy crimson bags, 5 muted purple bags, 5 light gold bags.', 'pale brown bags contain 1 drab coral bag, 2 mirrored lavender bags, 4 dark tomato bags, 3 plaid indigo bags.', 'shiny maroon bags contain 5 light beige bags, 3 light white bags.', 'dark tomato bags contain 5 shiny gold bags, 5 clear aqua bags, 2 dotted gold bags.', 'dark beige bags contain 2 bright gray bags, 3 light beige bags, 1 dull lime bag.', 'light red bags contain 5 mirrored magenta bags, 1 mirrored lime bag, 4 dotted teal bags.', 'faded magenta bags contain 1 dim maroon bag, 3 mirrored gray bags, 1 dotted beige bag.', 'drab turquoise bags contain no other bags.', 'shiny salmon bags contain 5 shiny tan bags, 2 posh magenta bags, 4 clear turquoise bags.', 'dark magenta bags contain 1 light fuchsia bag, 3 muted yellow bags, 5 dotted olive bags, 4 dark crimson bags.', 'light gold bags contain 5 clear red bags.', 'faded red bags contain 4 clear beige bags, 3 dim silver bags, 4 posh gray bags.', 'pale salmon bags contain 5 mirrored white bags.', 'striped lavender bags contain 2 striped blue bags.', 'dull fuchsia bags contain 1 bright orange bag.', 'dull turquoise bags contain 1 vibrant tomato bag, 3 clear tan bags, 3 bright teal bags, 1 drab maroon bag.', 'dotted magenta bags contain 5 drab gold bags, 2 muted beige bags.', 'pale indigo bags contain 4 plaid brown bags, 1 plaid cyan bag, 1 mirrored black bag, 5 drab magenta bags.', 'drab yellow bags contain 5 dark turquoise bags, 2 dotted beige bags, 5 clear red bags, 2 muted lavender bags.', 'striped gray bags contain 5 bright orange bags, 5 muted white bags, 2 clear chartreuse bags.', 'dark lavender bags contain 5 dim gold bags, 2 pale coral bags.', 'dull gold bags contain 1 dull beige bag.', 'muted chartreuse bags contain 3 muted bronze bags, 1 faded black bag, 4 bright tan bags.', 'plaid chartreuse bags contain 4 dim indigo bags, 4 mirrored gold bags, 4 dim lime bags.', 'muted salmon bags contain 4 faded brown bags, 1 dotted black bag, 5 muted black bags.', 'bright purple bags contain 5 shiny red bags, 5 vibrant cyan bags, 4 plaid cyan bags, 5 bright silver bags.', 'dim chartreuse bags contain 1 faded indigo bag.', 'drab purple bags contain 4 muted cyan bags, 3 wavy lavender bags, 2 dotted blue bags.']\n"
     ]
    }
   ],
   "source": [
    "# Load data\n",
    "from src.day_7 import load_day_7\n",
    "\n",
    "rules = load_day_7()\n",
    "print(rules)"
   ]
  },
  {
   "cell_type": "code",
   "execution_count": 6,
   "metadata": {},
   "outputs": [],
   "source": [
    "# Define function\n",
    "def bag_contents(rules, list_of_bags):\n",
    "    super_bags = []\n",
    "    for rule in rules:\n",
    "        target_bag, contents = [el.replace(\"bags\",\"\").strip() for el in rule.split(\"contain\")]\n",
    "        if any([bag in contents for bag in list_of_bags]):\n",
    "            super_bags.append(target_bag)\n",
    "    return super_bags\n",
    "\n",
    "def bag_holders(rules):\n",
    "    list_of_bags = [\"shiny gold\"]\n",
    "    total_bags = [\"shiny gold\"]\n",
    "    while list_of_bags:\n",
    "        list_of_bags = bag_contents(rules, list_of_bags)\n",
    "        if list_of_bags:\n",
    "            total_bags.extend(list_of_bags)\n",
    "            \n",
    "    return len(set(total_bags)) - 1\n",
    "        \n"
   ]
  },
  {
   "cell_type": "code",
   "execution_count": 7,
   "metadata": {},
   "outputs": [
    {
     "name": "stderr",
     "output_type": "stream",
     "text": [
      "test_bag_holders (__main__.TestDaySevenPartOne) ... ok\n",
      "test_count_yes (__main__.TestDaySixPartOne) ... ok\n",
      "\n",
      "----------------------------------------------------------------------\n",
      "Ran 2 tests in 0.002s\n",
      "\n",
      "OK\n"
     ]
    },
    {
     "data": {
      "text/plain": [
       "<unittest.main.TestProgram at 0x1aae7faa790>"
      ]
     },
     "execution_count": 7,
     "metadata": {},
     "output_type": "execute_result"
    }
   ],
   "source": [
    "class TestDaySevenPartOne(unittest.TestCase):\n",
    "    \n",
    "    def test_bag_holders(self):\n",
    "        test_bags = [\"light red bags contain 1 bright white bag, 2 muted yellow bags.\",\n",
    "                     \"dark orange bags contain 3 bright white bags, 4 muted yellow bags.\",\n",
    "                     \"bright white bags contain 1 shiny gold bag.\",\n",
    "                     \"muted yellow bags contain 2 shiny gold bags, 9 faded blue bags.\",\n",
    "                     \"shiny gold bags contain 1 dark olive bag, 2 vibrant plum bags.\",\n",
    "                     \"dark olive bags contain 3 faded blue bags, 4 dotted black bags.\",\n",
    "                     \"vibrant plum bags contain 5 faded blue bags, 6 dotted black bags.\",\n",
    "                     \"faded blue bags contain no other bags.\",\n",
    "                     \"dotted black bags contain no other bags.\"]\n",
    "        actual = bag_holders(test_bags)\n",
    "        expected = 4\n",
    "        self.assertEqual(actual, expected)\n",
    "        \n",
    "\n",
    "unittest.main(argv=[''], verbosity=2, exit=False)"
   ]
  },
  {
   "cell_type": "code",
   "execution_count": 8,
   "metadata": {},
   "outputs": [
    {
     "name": "stdout",
     "output_type": "stream",
     "text": [
      "N of bag colors: 268\n"
     ]
    }
   ],
   "source": [
    "# Once the tests display OK, run the function on the data \n",
    "n_of_bags = bag_holders(rules)\n",
    "\n",
    "print(\"N of bag colors:\", n_of_bags)"
   ]
  },
  {
   "cell_type": "markdown",
   "metadata": {},
   "source": [
    "### Part Two\n",
    "\n",
    "It's getting pretty expensive to fly these days - not because of ticket prices, but because of the ridiculous number of bags you need to buy!\n",
    "\n",
    "Consider again your shiny gold bag and the rules from the above example:\n",
    "\n",
    "* faded blue bags contain 0 other bags.\n",
    "* dotted black bags contain 0 other bags.\n",
    "* vibrant plum bags contain 11 other bags: 5 faded blue bags and 6 dotted black bags.\n",
    "* dark olive bags contain 7 other bags: 3 faded blue bags and 4 dotted black bags.\n",
    "\n",
    "So, a single shiny gold bag must contain 1 dark olive bag (and the 7 bags within it) plus 2 vibrant plum bags (and the **11** bags within each of those): $1 + 1*7 + 2 + 2*11 = 32$... **32** bags!\n",
    "\n",
    "Of course, the actual rules have a small chance of going several levels deeper than this example; be sure to count all of the bags, even if the nesting becomes topologically impractical!\n",
    "\n",
    "Here's another example:\n",
    "\n",
    "```\n",
    "shiny gold bags contain 2 dark red bags.\n",
    "dark red bags contain 2 dark orange bags.\n",
    "dark orange bags contain 2 dark yellow bags.\n",
    "dark yellow bags contain 2 dark green bags.\n",
    "dark green bags contain 2 dark blue bags.\n",
    "dark blue bags contain 2 dark violet bags.\n",
    "dark violet bags contain no other bags.\n",
    "```\n",
    "\n",
    "In this example, a single shiny gold bag must contain **126** other bags.\n",
    "\n",
    "**How many individual bags are required inside your single shiny gold bag?**"
   ]
  },
  {
   "cell_type": "code",
   "execution_count": 9,
   "metadata": {},
   "outputs": [],
   "source": [
    "# Define function\n",
    "def organize_bag_items(list_bags):\n",
    "    item_bags = {}\n",
    "    for bag in list_bags:\n",
    "        main_bag, contents = [el.replace(\"bags\",\"\").replace(\"bag\",\"\").strip() for el in bag[:-1].split(\"contain\")]\n",
    "        if \"no other\" in contents:\n",
    "            items = {}\n",
    "        else:\n",
    "            item_list = [el.strip() for el in contents.split(\",\")]\n",
    "            items = {\" \".join(item.split()[1:]): int(item.split()[0]) for item in item_list}\n",
    "        item_bags[main_bag] = items\n",
    "    return item_bags\n",
    "\n",
    "def pick_bags(items, query):\n",
    "    if not items[query]:\n",
    "        return 0\n",
    "    else:\n",
    "        return sum(list(items[query].values()) + [v * pick_bags(items,k) for k,v in items[query].items()])\n",
    "\n",
    "def bag_inside(bags):\n",
    "    item_bags = organize_bag_items(bags)\n",
    "    total_bags = pick_bags(item_bags, \"shiny gold\") \n",
    "    return total_bags"
   ]
  },
  {
   "cell_type": "code",
   "execution_count": 10,
   "metadata": {},
   "outputs": [
    {
     "name": "stderr",
     "output_type": "stream",
     "text": [
      "test_bag_holders (__main__.TestDaySevenPartOne) ... ok\n",
      "test_bag_inside_first (__main__.TestDaySevenPartTwo) ... ok\n",
      "test_bag_inside_second (__main__.TestDaySevenPartTwo) ... ok\n",
      "test_count_yes (__main__.TestDaySixPartOne) ... ok\n",
      "\n",
      "----------------------------------------------------------------------\n",
      "Ran 4 tests in 0.004s\n",
      "\n",
      "OK\n"
     ]
    },
    {
     "data": {
      "text/plain": [
       "<unittest.main.TestProgram at 0x1aae7fba670>"
      ]
     },
     "execution_count": 10,
     "metadata": {},
     "output_type": "execute_result"
    }
   ],
   "source": [
    "class TestDaySevenPartTwo(unittest.TestCase):\n",
    "    \n",
    "    def test_bag_inside_first(self):\n",
    "        test_bags = [\"light red bags contain 1 bright white bag, 2 muted yellow bags.\",\n",
    "                     \"dark orange bags contain 3 bright white bags, 4 muted yellow bags.\",\n",
    "                     \"bright white bags contain 1 shiny gold bag.\",\n",
    "                     \"muted yellow bags contain 2 shiny gold bags, 9 faded blue bags.\",\n",
    "                     \"shiny gold bags contain 1 dark olive bag, 2 vibrant plum bags.\",\n",
    "                     \"dark olive bags contain 3 faded blue bags, 4 dotted black bags.\",\n",
    "                     \"vibrant plum bags contain 5 faded blue bags, 6 dotted black bags.\",\n",
    "                     \"faded blue bags contain no other bags.\",\n",
    "                     \"dotted black bags contain no other bags.\"]\n",
    "        actual = bag_inside(test_bags)\n",
    "        expected = 32\n",
    "        self.assertEqual(actual, expected)\n",
    "        \n",
    "    def test_bag_inside_second(self):\n",
    "        test_bags = [\"shiny gold bags contain 2 dark red bags.\",\n",
    "                     \"dark red bags contain 2 dark orange bags.\",\n",
    "                     \"dark orange bags contain 2 dark yellow bags.\",\n",
    "                     \"dark yellow bags contain 2 dark green bags.\",\n",
    "                     \"dark green bags contain 2 dark blue bags.\",\n",
    "                     \"dark blue bags contain 2 dark violet bags.\",\n",
    "                     \"dark violet bags contain no other bags.\"]\n",
    "        actual = bag_inside(test_bags)\n",
    "        expected = 126\n",
    "        self.assertEqual(actual, expected)\n",
    "\n",
    "unittest.main(argv=[''], verbosity=2, exit=False)"
   ]
  },
  {
   "cell_type": "code",
   "execution_count": 11,
   "metadata": {},
   "outputs": [
    {
     "name": "stdout",
     "output_type": "stream",
     "text": [
      "N of bag colors: 7867\n"
     ]
    }
   ],
   "source": [
    "# Once the tests display OK, run the function on the data \n",
    "n_of_bags = bag_inside(rules)\n",
    "\n",
    "print(\"N of bag colors:\", n_of_bags)"
   ]
  },
  {
   "cell_type": "markdown",
   "metadata": {},
   "source": [
    "## Day 8: Handheld Halting \n",
    "\n",
    "Your flight to the major airline hub reaches cruising altitude without incident. While you consider checking the in-flight menu for one of those drinks that come with a little umbrella, you are interrupted by the kid sitting next to you.\n",
    "\n",
    "Their [handheld game console](https://en.wikipedia.org/wiki/Handheld_game_console) won't turn on! They ask if you can take a look.\n",
    "\n",
    "You narrow the problem down to a strange **infinite loop** in the boot code (your puzzle input) of the device. You should be able to fix it, but first you need to be able to run the code in isolation.\n",
    "\n",
    "The boot code is represented as a text file with one **instruction** per line of text. Each instruction consists of an **operation** (acc, jmp, or nop) and an **argument** (a signed number like +4 or -20).\n",
    "\n",
    "* `acc` increases or decreases a single global value called the **accumulator** by the value given in the argument. For example, acc +7 would increase the accumulator by 7. The accumulator starts at 0. After an acc instruction, the instruction immediately below it is executed next.\n",
    "* `jmp` **jumps** to a new instruction relative to itself. The next instruction to execute is found using the argument as an offset from the jmp instruction; for example, jmp +2 would skip the next instruction, jmp +1 would continue to the instruction immediately below it, and jmp -20 would cause the instruction 20 lines above to be executed next.\n",
    "* `nop` stands for **No OPeration** - it does nothing. The instruction immediately below it is executed next.\n",
    "\n",
    "For example, consider the following program:\n",
    "\n",
    "```\n",
    "nop +0\n",
    "acc +1\n",
    "jmp +4\n",
    "acc +3\n",
    "jmp -3\n",
    "acc -99\n",
    "acc +1\n",
    "jmp -4\n",
    "acc +6\n",
    "```\n",
    "\n",
    "These instructions are visited in this order:\n",
    "\n",
    "```\n",
    "nop +0  | 1\n",
    "acc +1  | 2, 8(!)\n",
    "jmp +4  | 3\n",
    "acc +3  | 6\n",
    "jmp -3  | 7\n",
    "acc -99 |\n",
    "acc +1  | 4\n",
    "jmp -4  | 5\n",
    "acc +6  |\n",
    "```\n",
    "\n",
    "First, the `nop +0` does nothing. Then, the accumulator is increased from 0 to 1 (`acc +1`) and `jmp +4` sets the next instruction to the other `acc +1` near the bottom. After it increases the accumulator from 1 to 2, `jmp -4` executes, setting the next instruction to the only `acc +3`. It sets the accumulator to 5, and `jmp -3` causes the program to continue back at the first `acc +1`.\n",
    "\n",
    "This is an **infinite loop**: with this sequence of jumps, the program will run forever. The moment the program tries to run any instruction a second time, you know it will never terminate.\n",
    "\n",
    "Immediately **before** the program would run an instruction a second time, the value in the accumulator is **5**.\n",
    "\n",
    "Run your copy of the boot code. Immediately before any instruction is executed a second time, **what value is in the accumulator?**"
   ]
  },
  {
   "cell_type": "code",
   "execution_count": 12,
   "metadata": {
    "scrolled": true
   },
   "outputs": [
    {
     "name": "stdout",
     "output_type": "stream",
     "text": [
      "[('jmp', 1), ('acc', -18), ('acc', 19), ('acc', 19), ('jmp', 202), ('acc', 15), ('acc', 42), ('acc', 30), ('acc', -7), ('jmp', 535), ('acc', 31), ('acc', 9), ('jmp', 581), ('nop', 501), ('acc', 44), ('acc', 18), ('acc', -4), ('jmp', 545), ('acc', 9), ('acc', 5), ('nop', -2), ('acc', 3), ('jmp', 475), ('acc', -10), ('acc', 14), ('acc', 29), ('nop', 471), ('jmp', 470), ('acc', 2), ('nop', 375), ('acc', 31), ('acc', 6), ('jmp', 420), ('acc', -1), ('acc', 2), ('nop', 185), ('jmp', 490), ('acc', 2), ('jmp', 317), ('nop', 282), ('jmp', 457), ('acc', 37), ('jmp', 254), ('acc', 19), ('jmp', 436), ('jmp', 458), ('acc', -7), ('acc', -2), ('acc', -17), ('jmp', 454), ('acc', 37), ('jmp', 212), ('acc', 6), ('acc', 5), ('acc', -7), ('jmp', 104), ('acc', 5), ('nop', 134), ('acc', 46), ('jmp', 541), ('acc', 4), ('acc', 46), ('acc', 18), ('jmp', -53), ('acc', 10), ('jmp', 285), ('acc', 39), ('acc', 34), ('nop', 109), ('acc', 47), ('jmp', 32), ('jmp', 1), ('jmp', 143), ('acc', 36), ('jmp', 429), ('acc', 45), ('acc', 22), ('jmp', -59), ('acc', 0), ('acc', 23), ('acc', 30), ('acc', -7), ('jmp', -45), ('acc', 46), ('acc', 31), ('jmp', 164), ('acc', 37), ('acc', 34), ('acc', 40), ('acc', -1), ('jmp', 246), ('nop', -46), ('acc', 2), ('acc', 31), ('jmp', 221), ('nop', 413), ('jmp', -51), ('acc', -14), ('jmp', 145), ('acc', 1), ('nop', 77), ('jmp', 131), ('jmp', 370), ('nop', 513), ('acc', 7), ('jmp', 476), ('acc', 22), ('acc', 37), ('acc', 44), ('jmp', 334), ('acc', 9), ('acc', -1), ('acc', 5), ('acc', 27), ('jmp', 351), ('acc', 31), ('jmp', 220), ('nop', -61), ('acc', 34), ('jmp', 504), ('nop', 471), ('acc', 6), ('acc', 48), ('jmp', -17), ('jmp', 217), ('acc', 13), ('acc', 0), ('acc', 25), ('jmp', 144), ('acc', -5), ('acc', 17), ('nop', 341), ('jmp', -26), ('acc', -10), ('acc', 34), ('jmp', 168), ('nop', -16), ('acc', -6), ('acc', -10), ('acc', 38), ('jmp', 30), ('acc', -2), ('acc', -14), ('jmp', 419), ('acc', 40), ('acc', -17), ('acc', 27), ('acc', 8), ('jmp', 101), ('nop', 370), ('acc', 2), ('acc', -10), ('acc', -7), ('jmp', 224), ('nop', 437), ('acc', 42), ('acc', 50), ('acc', 39), ('jmp', 81), ('jmp', 11), ('jmp', 143), ('acc', 6), ('acc', 46), ('jmp', -107), ('acc', 13), ('jmp', -109), ('acc', 5), ('jmp', 1), ('jmp', 467), ('jmp', -159), ('nop', 421), ('jmp', 243), ('acc', 44), ('nop', 412), ('acc', -6), ('acc', 13), ('jmp', 56), ('acc', -12), ('acc', 18), ('jmp', 313), ('nop', 151), ('acc', 5), ('acc', 49), ('jmp', 120), ('acc', 46), ('acc', 23), ('nop', -122), ('acc', 21), ('jmp', -55), ('acc', -15), ('jmp', -115), ('acc', 19), ('nop', 116), ('acc', 32), ('acc', 21), ('jmp', 16), ('acc', 27), ('acc', 32), ('jmp', 359), ('acc', 16), ('acc', 18), ('acc', 15), ('jmp', 54), ('nop', 182), ('acc', 4), ('jmp', 361), ('acc', 4), ('acc', 38), ('acc', 49), ('jmp', -94), ('jmp', 428), ('acc', 0), ('acc', 9), ('jmp', 224), ('jmp', 82), ('nop', 57), ('acc', 6), ('jmp', 1), ('jmp', 144), ('jmp', 20), ('jmp', 265), ('jmp', 402), ('nop', 114), ('acc', -12), ('acc', -11), ('acc', 1), ('jmp', 412), ('nop', -163), ('acc', 50), ('acc', 1), ('acc', -9), ('jmp', -20), ('acc', 10), ('acc', 6), ('jmp', 323), ('acc', 10), ('jmp', 1), ('acc', 42), ('jmp', 46), ('acc', 35), ('acc', 31), ('jmp', -139), ('jmp', 129), ('jmp', -193), ('acc', -4), ('nop', 247), ('nop', -163), ('acc', 25), ('jmp', -26), ('acc', 34), ('acc', 26), ('acc', 40), ('jmp', 220), ('acc', -6), ('acc', 6), ('jmp', 311), ('acc', 0), ('acc', 14), ('acc', 41), ('acc', 6), ('jmp', 284), ('acc', 32), ('jmp', -13), ('nop', 157), ('acc', -4), ('acc', 47), ('jmp', -146), ('acc', 34), ('acc', 6), ('nop', 196), ('acc', 5), ('jmp', 268), ('acc', -8), ('jmp', -176), ('acc', 34), ('acc', 17), ('jmp', 1), ('jmp', 114), ('acc', 32), ('acc', 39), ('nop', 313), ('acc', 38), ('jmp', -237), ('jmp', -273), ('acc', 21), ('acc', 26), ('acc', 31), ('jmp', -231), ('acc', 17), ('jmp', -105), ('nop', 333), ('nop', 17), ('jmp', 11), ('acc', -9), ('acc', 2), ('jmp', -162), ('acc', 3), ('acc', 0), ('nop', 318), ('jmp', 215), ('acc', 14), ('acc', 32), ('jmp', -196), ('jmp', 33), ('acc', -6), ('acc', 45), ('acc', 27), ('jmp', -166), ('acc', -1), ('jmp', -25), ('acc', 0), ('acc', 4), ('acc', -14), ('acc', 0), ('jmp', -115), ('nop', 118), ('acc', 28), ('nop', 175), ('acc', 45), ('jmp', -97), ('jmp', 78), ('jmp', -284), ('acc', 35), ('nop', -248), ('acc', -18), ('acc', -6), ('jmp', -308), ('jmp', -95), ('acc', -2), ('acc', 0), ('jmp', 255), ('acc', 7), ('jmp', -24), ('acc', 17), ('acc', 20), ('jmp', -220), ('jmp', 172), ('acc', 40), ('acc', 39), ('acc', 19), ('jmp', -238), ('nop', 44), ('nop', -99), ('nop', 238), ('jmp', 195), ('acc', -14), ('acc', 36), ('acc', 40), ('acc', -11), ('jmp', -65), ('nop', -54), ('nop', 47), ('acc', -11), ('jmp', 18), ('jmp', 98), ('jmp', 252), ('nop', -1), ('acc', 1), ('acc', 10), ('jmp', -4), ('jmp', -319), ('jmp', -46), ('acc', -8), ('acc', 50), ('acc', 43), ('jmp', -174), ('acc', 22), ('acc', 4), ('acc', 32), ('acc', -6), ('jmp', 73), ('acc', 8), ('jmp', -31), ('acc', 16), ('nop', 11), ('acc', 26), ('jmp', -98), ('acc', -11), ('acc', 40), ('jmp', 101), ('acc', 28), ('acc', 30), ('acc', -16), ('acc', 7), ('jmp', 239), ('jmp', -179), ('acc', 47), ('acc', 15), ('acc', 42), ('acc', 26), ('jmp', 30), ('acc', 17), ('acc', 3), ('acc', -5), ('nop', -98), ('jmp', -236), ('acc', 2), ('jmp', 196), ('acc', 39), ('acc', -14), ('acc', 36), ('acc', 49), ('jmp', 189), ('jmp', 235), ('acc', 27), ('acc', -2), ('acc', 16), ('acc', 40), ('jmp', -81), ('acc', -5), ('acc', 17), ('acc', -1), ('jmp', 1), ('jmp', -129), ('nop', -171), ('acc', 47), ('jmp', 169), ('acc', -16), ('acc', -5), ('jmp', 172), ('nop', -84), ('acc', 8), ('acc', 40), ('acc', 43), ('jmp', -33), ('acc', 39), ('nop', -12), ('jmp', 53), ('acc', 36), ('jmp', -270), ('acc', 17), ('acc', -1), ('jmp', -255), ('acc', 0), ('acc', -12), ('jmp', -371), ('jmp', -216), ('acc', 45), ('acc', -18), ('acc', 23), ('acc', -17), ('jmp', -37), ('jmp', -386), ('nop', -302), ('acc', -19), ('acc', -16), ('jmp', -297), ('acc', -18), ('acc', -7), ('acc', 17), ('acc', 17), ('jmp', -173), ('jmp', 114), ('acc', 4), ('acc', 19), ('nop', -296), ('jmp', -36), ('acc', -18), ('acc', -14), ('acc', 6), ('nop', -27), ('jmp', -101), ('acc', 15), ('nop', -407), ('jmp', 44), ('acc', -18), ('acc', -6), ('acc', 33), ('acc', 36), ('jmp', 80), ('acc', 43), ('jmp', 73), ('acc', -2), ('acc', 7), ('acc', 4), ('jmp', -10), ('acc', 46), ('nop', -49), ('acc', 7), ('jmp', 65), ('acc', 24), ('jmp', 144), ('acc', 13), ('acc', 26), ('jmp', -351), ('jmp', 1), ('acc', 34), ('nop', 62), ('jmp', -363), ('acc', -4), ('acc', -5), ('jmp', 23), ('jmp', 82), ('acc', -7), ('acc', -7), ('acc', 15), ('jmp', -468), ('acc', 7), ('nop', -423), ('jmp', -178), ('nop', -425), ('acc', 23), ('jmp', -181), ('acc', 6), ('acc', -11), ('jmp', -321), ('acc', 3), ('jmp', -122), ('acc', 12), ('jmp', 44), ('acc', -5), ('acc', -16), ('acc', 16), ('jmp', -281), ('acc', 33), ('acc', -4), ('acc', 15), ('jmp', 9), ('jmp', 63), ('acc', 35), ('nop', -12), ('acc', 25), ('acc', -10), ('jmp', -452), ('acc', 1), ('jmp', -148), ('acc', 8), ('acc', 40), ('acc', 48), ('jmp', 2), ('jmp', -315), ('nop', -325), ('acc', -4), ('acc', 16), ('acc', -4), ('jmp', -369), ('acc', 21), ('acc', 3), ('jmp', -153), ('nop', -25), ('acc', 0), ('jmp', -84), ('acc', 32), ('jmp', 19), ('acc', -18), ('acc', -1), ('jmp', -385), ('jmp', 1), ('jmp', -357), ('acc', -13), ('acc', -13), ('jmp', -360), ('jmp', -393), ('acc', 4), ('nop', -102), ('jmp', -316), ('jmp', -248), ('acc', 4), ('nop', -487), ('jmp', -339), ('acc', 3), ('jmp', -190), ('acc', 24), ('acc', 31), ('jmp', -166), ('jmp', -482), ('acc', 22), ('acc', 32), ('jmp', -290), ('acc', 22), ('acc', 48), ('acc', 5), ('acc', -6), ('jmp', -330), ('nop', -203), ('acc', 7), ('acc', 1), ('jmp', -287), ('acc', 15), ('acc', 3), ('jmp', -230), ('acc', 37), ('nop', -162), ('jmp', 33), ('jmp', -147), ('acc', 16), ('acc', 39), ('acc', 49), ('jmp', -560), ('acc', 26), ('jmp', 26), ('jmp', -283), ('jmp', -486), ('acc', -9), ('jmp', 1), ('acc', 25), ('acc', 1), ('jmp', -514), ('acc', 46), ('jmp', -166), ('acc', -5), ('acc', 35), ('nop', -204), ('jmp', -175), ('nop', -30), ('nop', 11), ('jmp', -400), ('acc', 15), ('acc', -7), ('acc', -1), ('jmp', 18), ('acc', 31), ('acc', 16), ('acc', 43), ('acc', 33), ('jmp', -260), ('acc', 1), ('acc', 23), ('acc', 25), ('acc', -1), ('jmp', -200), ('acc', -15), ('jmp', -314), ('jmp', -238), ('jmp', -75), ('jmp', -192), ('acc', 30), ('jmp', -525), ('acc', -14), ('jmp', 17), ('acc', 7), ('acc', 9), ('acc', -6), ('nop', -312), ('jmp', -559), ('acc', 28), ('jmp', -305), ('jmp', -239), ('acc', 0), ('acc', -5), ('acc', 9), ('jmp', -471), ('nop', -327), ('acc', -5), ('acc', -19), ('jmp', -496), ('acc', 17), ('jmp', 1), ('jmp', 1), ('acc', 29), ('jmp', 1)]\n"
     ]
    }
   ],
   "source": [
    "# Load data\n",
    "from src.day_8 import load_day_8\n",
    "\n",
    "instructions = load_day_8()\n",
    "print(instructions)"
   ]
  },
  {
   "cell_type": "code",
   "execution_count": 3,
   "metadata": {},
   "outputs": [],
   "source": [
    "# Define function\n",
    "\n",
    "def apply_instruction(instruction):\n",
    "    acc_inc = 0\n",
    "    ind_inc = 0\n",
    "    \n",
    "    if instruction[0]==\"acc\":\n",
    "        acc_inc += instruction[1]\n",
    "        ind_inc += 1\n",
    "    elif instruction[0]==\"jmp\":\n",
    "        ind_inc += instruction[1]\n",
    "    elif instruction[0]==\"nop\":\n",
    "        ind_inc += 1\n",
    "        \n",
    "    return acc_inc, ind_inc\n",
    "        \n",
    "\n",
    "def value_accumulator(instructions):\n",
    "    accumulator = 0\n",
    "    past_instructions_ind = []\n",
    "    i = 0\n",
    "    while i not in past_instructions_ind:\n",
    "        acc_inc, ind_inc = apply_instruction(instructions[i])\n",
    "        past_instructions_ind.append(i)\n",
    "        accumulator += acc_inc\n",
    "        i += ind_inc\n",
    "    return accumulator\n",
    "        \n",
    "    "
   ]
  },
  {
   "cell_type": "code",
   "execution_count": 4,
   "metadata": {},
   "outputs": [
    {
     "name": "stderr",
     "output_type": "stream",
     "text": [
      "test_value_accumulator (__main__.TestDayEightPartOne) ... ok\n",
      "\n",
      "----------------------------------------------------------------------\n",
      "Ran 1 test in 0.001s\n",
      "\n",
      "OK\n"
     ]
    },
    {
     "data": {
      "text/plain": [
       "<unittest.main.TestProgram at 0x253089af848>"
      ]
     },
     "execution_count": 4,
     "metadata": {},
     "output_type": "execute_result"
    }
   ],
   "source": [
    "class TestDayEightPartOne(unittest.TestCase):\n",
    "    \n",
    "    def test_value_accumulator(self):\n",
    "        test_instructions = [(\"nop\", 0),\n",
    "                             (\"acc\", 1),\n",
    "                             (\"jmp\", 4),\n",
    "                             (\"acc\", 3),\n",
    "                             (\"jmp\", -3),\n",
    "                             (\"acc\", -99),\n",
    "                             (\"acc\", 1),\n",
    "                             (\"jmp\", -4),\n",
    "                             (\"acc\", 6)]\n",
    "        actual = value_accumulator(test_instructions)\n",
    "        expected = 5\n",
    "        self.assertEqual(actual, expected)\n",
    "        \n",
    "\n",
    "unittest.main(argv=[''], verbosity=2, exit=False)"
   ]
  },
  {
   "cell_type": "code",
   "execution_count": 5,
   "metadata": {},
   "outputs": [
    {
     "name": "stdout",
     "output_type": "stream",
     "text": [
      "Value of the accumulator: 1610\n"
     ]
    }
   ],
   "source": [
    "# Once the tests display OK, run the function on the data \n",
    "accumulator_value = value_accumulator(instructions)\n",
    "\n",
    "print(\"Value of the accumulator:\", accumulator_value)"
   ]
  },
  {
   "cell_type": "markdown",
   "metadata": {},
   "source": [
    "### Part Two \n",
    "\n",
    "After some careful analysis, you believe that **exactly one instruction is corrupted**.\n",
    "\n",
    "Somewhere in the program, **either** a `jmp` is supposed to be a `nop`, or a `nop` is supposed to be a `jmp`. (No acc instructions were harmed in the corruption of this boot code.)\n",
    "\n",
    "The program is supposed to terminate by **attempting to execute an instruction immediately after the last instruction in the file**. By changing exactly one `jmp` or `nop`, you can repair the boot code and make it terminate correctly.\n",
    "\n",
    "For example, consider the same program from above:\n",
    "\n",
    "```\n",
    "nop +0\n",
    "acc +1\n",
    "jmp +4\n",
    "acc +3\n",
    "jmp -3\n",
    "acc -99\n",
    "acc +1\n",
    "jmp -4\n",
    "acc +6\n",
    "```\n",
    "\n",
    "If you change the first instruction from `nop +0` to `jmp +0`, it would create a single-instruction infinite loop, never leaving that instruction. If you change almost any of the `jmp` instructions, the program will still eventually find another jmp instruction and loop forever.\n",
    "\n",
    "However, if you change the second-to-last instruction (from `jmp -4` to `nop -4`), the program terminates! The instructions are visited in this order:\n",
    "\n",
    "```\n",
    "nop +0  | 1\n",
    "acc +1  | 2\n",
    "jmp +4  | 3\n",
    "acc +3  |\n",
    "jmp -3  |\n",
    "acc -99 |\n",
    "acc +1  | 4\n",
    "nop -4  | 5\n",
    "acc +6  | 6\n",
    "```\n",
    "\n",
    "After the last instruction (acc +6), the program terminates by attempting to run the instruction below the last instruction in the file. With this change, after the program terminates, the accumulator contains the value **8** (acc +1, acc +1, acc +6).\n",
    "\n",
    "Fix the program so that it terminates normally by changing exactly one jmp (to nop) or nop (to jmp). **What is the value of the accumulator after the program terminates?**"
   ]
  },
  {
   "cell_type": "code",
   "execution_count": 93,
   "metadata": {},
   "outputs": [],
   "source": [
    "# Define function\n",
    "\n",
    "def fix_kink(instructions, ind):\n",
    "    com, val = instructions[ind]\n",
    "    if com==\"nop\":\n",
    "        replacement = (\"jmp\", val)\n",
    "    elif com==\"jmp\":\n",
    "        replacement = (\"nop\", val)\n",
    "    else:\n",
    "        replacement = (com, val)\n",
    "    new_instructions = instructions.copy()\n",
    "    new_instructions[ind] = replacement\n",
    "    return new_instructions\n",
    "    \n",
    "def value_accumulator_fixed(instructions):\n",
    "    #Starting from the bottom as hinted by the problem\n",
    "    list_indexes = [i for i, v in enumerate(instructions) if v[0] in [\"nop\", \"jmp\"]][::-1]\n",
    "    counter = 0\n",
    "    accumulator = 0\n",
    "    past_instructions_ind = []\n",
    "    i = 0\n",
    "    fixed_ins = fix_kink(instructions, list_indexes[counter])\n",
    "    while i<len(instructions):\n",
    "        if i in past_instructions_ind:\n",
    "            counter += 1 \n",
    "            accumulator = 0\n",
    "            past_instructions_ind = []\n",
    "            i = 0\n",
    "            fixed_ins = fix_kink(instructions, list_indexes[counter])\n",
    "        acc_inc, ind_inc = apply_instruction(fixed_ins[i])\n",
    "        past_instructions_ind.append(i)\n",
    "        accumulator += acc_inc\n",
    "        i += ind_inc\n",
    "    return accumulator\n",
    "        \n",
    "    \n",
    "# First step: include a kink fixer taking the index and changing the instruction\n",
    "\n",
    "# Second: see if the modifications work by running a loop. If the snake bites its tail, abort and try at another index\n",
    "# The program should end if the index is superior to the length of instructions so keep that in mind!"
   ]
  },
  {
   "cell_type": "code",
   "execution_count": 94,
   "metadata": {},
   "outputs": [
    {
     "name": "stderr",
     "output_type": "stream",
     "text": [
      "test_value_accumulator (__main__.TestDayEightPartOne) ... ok\n",
      "test_fix_kink (__main__.TestDayEightPartTwo) ... ok\n",
      "test_value_accumulator_fixed (__main__.TestDayEightPartTwo) ... ok\n",
      "\n",
      "----------------------------------------------------------------------\n",
      "Ran 3 tests in 0.003s\n",
      "\n",
      "OK\n"
     ]
    },
    {
     "data": {
      "text/plain": [
       "<unittest.main.TestProgram at 0x25308b5bbc8>"
      ]
     },
     "execution_count": 94,
     "metadata": {},
     "output_type": "execute_result"
    }
   ],
   "source": [
    "class TestDayEightPartTwo(unittest.TestCase):\n",
    "    def test_fix_kink(self):\n",
    "        test_instructions = [(\"nop\", 0),\n",
    "                             (\"acc\", 1),\n",
    "                             (\"jmp\", 4),\n",
    "                             (\"acc\", 3),\n",
    "                             (\"jmp\", -3),\n",
    "                             (\"acc\", -99),\n",
    "                             (\"acc\", 1),\n",
    "                             (\"jmp\", -4),\n",
    "                             (\"acc\", 6)]\n",
    "        actual = fix_kink(test_instructions, -2)\n",
    "        expected = [(\"nop\", 0),\n",
    "                    (\"acc\", 1),\n",
    "                    (\"jmp\", 4),\n",
    "                    (\"acc\", 3),\n",
    "                    (\"jmp\", -3),\n",
    "                    (\"acc\", -99),\n",
    "                    (\"acc\", 1),\n",
    "                    (\"nop\", -4),\n",
    "                    (\"acc\", 6)]\n",
    "        self.assertEqual(actual, expected)\n",
    "    \n",
    "    def test_value_accumulator_fixed(self):\n",
    "        test_instructions = [(\"nop\", 0),\n",
    "                             (\"acc\", 1),\n",
    "                             (\"jmp\", 4),\n",
    "                             (\"acc\", 3),\n",
    "                             (\"jmp\", -3),\n",
    "                             (\"acc\", -99),\n",
    "                             (\"acc\", 1),\n",
    "                             (\"jmp\", -4),\n",
    "                             (\"acc\", 6)]\n",
    "        actual = value_accumulator_fixed(test_instructions)\n",
    "        expected = 8\n",
    "        self.assertEqual(actual, expected)\n",
    "        \n",
    "\n",
    "unittest.main(argv=[''], verbosity=2, exit=False)"
   ]
  },
  {
   "cell_type": "code",
   "execution_count": 95,
   "metadata": {},
   "outputs": [
    {
     "name": "stdout",
     "output_type": "stream",
     "text": [
      "Value of the accumulator (fixed): 1703\n"
     ]
    }
   ],
   "source": [
    "# Once the tests display OK, run the function on the data \n",
    "accumulator_value = value_accumulator_fixed(instructions)\n",
    "\n",
    "print(\"Value of the accumulator (fixed):\", accumulator_value)"
   ]
  },
  {
   "cell_type": "markdown",
   "metadata": {},
   "source": [
    "## Day 9: Encoding Error \n",
    "\n",
    "With your neighbor happily enjoying their video game, you turn your attention to an open data port on the little screen in the seat in front of you.\n",
    "\n",
    "Though the port is non-standard, you manage to connect it to your computer through the clever use of several paperclips. Upon connection, the port outputs a series of numbers (your puzzle input).\n",
    "\n",
    "The data appears to be encrypted with the eXchange-Masking Addition System (XMAS) which, conveniently for you, is an old cypher with an important weakness.\n",
    "\n",
    "XMAS starts by transmitting a **preamble** of 25 numbers. After that, each number you receive should be the sum of any two of the 25 immediately previous numbers. The two numbers will have different values, and there might be more than one such pair.\n",
    "\n",
    "For example, suppose your preamble consists of the numbers 1 through 25 in a random order. To be valid, the next number must be the sum of two of those numbers:\n",
    "\n",
    "* `26` would be a **valid** next number, as it could be 1 plus 25 (or many other pairs, like 2 and 24).\n",
    "* `49` would be a **valid** next number, as it is the sum of 24 and 25.\n",
    "* `100` would **not be valid**; no two of the previous 25 numbers sum to 100.\n",
    "* `50` would also **not be valid**; although 25 appears in the previous 25 numbers, the two numbers in the pair must be different.\n",
    "\n",
    "Suppose the 26th number is 45, and the first number (no longer an option, as it is more than 25 numbers ago) was 20. Now, for the next number to be valid, there needs to be some pair of numbers among 1-19, 21-25, or 45 that add up to it:\n",
    "\n",
    "* `26` would still be a **valid** next number, as 1 and 25 are still within the previous 25 numbers.\n",
    "* `65` would **not be valid**, as no two of the available numbers sum to it.\n",
    "* `64` and `66` would **both be valid**, as they are the result of `19+45` and `21+45` respectively.\n",
    "\n",
    "Here is a larger example which only considers the previous 5 numbers (and has a preamble of length 5):\n",
    "\n",
    "```\n",
    "35\n",
    "20\n",
    "15\n",
    "25\n",
    "47\n",
    "40\n",
    "62\n",
    "55\n",
    "65\n",
    "95\n",
    "102\n",
    "117\n",
    "150\n",
    "182\n",
    "127\n",
    "219\n",
    "299\n",
    "277\n",
    "309\n",
    "576\n",
    "```\n",
    "\n",
    "In this example, after the 5-number preamble, almost every number is the sum of two of the previous 5 numbers; the only number that does not follow this rule is **127**.\n",
    "\n",
    "The first step of attacking the weakness in the XMAS data is to find the first number in the list (after the preamble) which is not the sum of two of the 25 numbers before it. **What is the first number that does not have this property?**"
   ]
  },
  {
   "cell_type": "code",
   "execution_count": 2,
   "metadata": {
    "scrolled": true
   },
   "outputs": [
    {
     "name": "stdout",
     "output_type": "stream",
     "text": [
      "[11, 6, 42, 19, 23, 20, 26, 4, 2, 36, 35, 41, 18, 38, 28, 1, 48, 5, 17, 10, 32, 15, 46, 50, 24, 3, 7, 6, 8, 68, 83, 23, 11, 16, 4, 36, 9, 78, 12, 29, 13, 25, 42, 14, 84, 10, 17, 15, 18, 28, 19, 21, 20, 22, 35, 24, 45, 30, 67, 50, 23, 40, 27, 26, 31, 38, 33, 25, 42, 29, 32, 34, 57, 41, 70, 43, 44, 46, 65, 75, 47, 48, 89, 49, 51, 61, 60, 52, 54, 56, 99, 86, 90, 72, 104, 77, 78, 84, 85, 95, 87, 109, 132, 126, 96, 108, 101, 129, 233, 103, 106, 172, 153, 110, 128, 175, 149, 150, 155, 165, 161, 181, 222, 180, 242, 422, 238, 403, 204, 258, 209, 207, 213, 528, 216, 635, 303, 260, 259, 304, 482, 299, 693, 342, 326, 361, 435, 384, 467, 429, 607, 844, 420, 842, 474, 422, 762, 558, 475, 476, 564, 519, 620, 660, 625, 1100, 641, 668, 837, 745, 781, 804, 903, 1167, 851, 895, 894, 1587, 950, 1034, 897, 951, 1039, 994, 1221, 1083, 1285, 1245, 1429, 1472, 1309, 2061, 1413, 1695, 1933, 2423, 1698, 2172, 1745, 1985, 3242, 2738, 1847, 1848, 1891, 2239, 1945, 2328, 2077, 2304, 2368, 2530, 3490, 3170, 3260, 3004, 3108, 3111, 3393, 4313, 3876, 3443, 3592, 3593, 3695, 3738, 3739, 3968, 3793, 3836, 6901, 4249, 4381, 4445, 5476, 4898, 5534, 7871, 6447, 6112, 6836, 6219, 10428, 7132, 7035, 9857, 7629, 7185, 7288, 7477, 9272, 7532, 7761, 8042, 15962, 8630, 8694, 9279, 15391, 11981, 13011, 11646, 12331, 16304, 14124, 13404, 13254, 15049, 14167, 15293, 14473, 22034, 19178, 16756, 16107, 22515, 16391, 21025, 41212, 17324, 35498, 17973, 20925, 23627, 23977, 24657, 24900, 66112, 27571, 27421, 26658, 27727, 29460, 28640, 29766, 30580, 32498, 33147, 32863, 35297, 34364, 37316, 38249, 38898, 44895, 41600, 41950, 44552, 57155, 48634, 49557, 100476, 61022, 60590, 54079, 54385, 89653, 58100, 62629, 67227, 74813, 70463, 67511, 102190, 83550, 124017, 118177, 80498, 172562, 112063, 91507, 99105, 108464, 98191, 129198, 103636, 160127, 112179, 181160, 112485, 117014, 120729, 125327, 130140, 224664, 166320, 137974, 254988, 172005, 164048, 195143, 178689, 192561, 367051, 189698, 190612, 197296, 298162, 315872, 215815, 242341, 229193, 394504, 354826, 552122, 250869, 263301, 255467, 268114, 304294, 856416, 526831, 414346, 336053, 342737, 385755, 369301, 426489, 380310, 386994, 465410, 448165, 740581, 585078, 458156, 648424, 480062, 506336, 518768, 518983, 514170, 523581, 559761, 572408, 640347, 678790, 705354, 729731, 1212755, 712038, 749611, 756295, 905977, 999045, 1275063, 906321, 962335, 1104061, 938218, 964492, 986398, 994232, 1066097, 1037751, 1033153, 1384144, 1083342, 1638505, 1284446, 1319137, 1839637, 1441769, 1461649, 1468333, 2096182, 1787362, 2030589, 2121093, 2024149, 1844539, 1870813, 1900553, 2501486, 1902710, 2248938, 1980630, 2027385, 4054738, 3299767, 2317599, 2845793, 2525111, 2603583, 2726215, 4065232, 2903418, 3717271, 2929982, 4438692, 3631901, 3658175, 3715352, 4051534, 4427821, 4008015, 4276323, 3881183, 6900531, 3883340, 5975774, 5327152, 4552496, 5656197, 4842710, 8257134, 6609555, 5128694, 5329798, 6995214, 7206305, 7357803, 7541515, 13604769, 7598692, 17236670, 9180228, 7596535, 10656950, 7764523, 24261719, 8157506, 12670209, 8435836, 16021657, 9395206, 9681190, 9882294, 9971404, 17277725, 10458492, 12325012, 12334999, 12536103, 27934675, 21716331, 17240097, 15138050, 17646817, 15195227, 20089535, 15361058, 16991741, 17838696, 17552712, 40470778, 16593342, 22296416, 30163708, 19076396, 19366610, 19563484, 22418397, 38708072, 24861115, 22783504, 55699813, 27473049, 34437454, 30333277, 54069130, 30499108, 32747939, 30556285, 31788569, 31954400, 32352799, 33585083, 34146054, 35669738, 38889758, 35959952, 38443006, 43937511, 38639880, 71456011, 56003480, 45201901, 50256553, 47644619, 53116781, 57806326, 57972157, 60832385, 60889562, 64141368, 61055393, 70231575, 77529638, 63742969, 94640476, 93932109, 89139412, 69815792, 83841781, 74402958, 116169518, 77082886, 102781248, 86284499, 92846520, 105616776, 120072345, 97901172, 144897174, 111088938, 115778483, 118861719, 121721947, 166922616, 194475303, 179912487, 191833281, 162662312, 133558761, 144218750, 146898678, 151485844, 158244739, 189065747, 358755897, 163367385, 169929406, 231181673, 329584928, 295690970, 203517948, 208990110, 288791125, 229950657, 232810885, 331398331, 240583666, 255280708, 277777511, 285044605, 307586135, 280457439, 291117428, 291803500, 442589648, 298384522, 328174145, 321612124, 433468605, 491541530, 569581011, 504681080, 847358522, 473394551, 649786269, 653010455, 764201772, 462761542, 470534323, 488091593, 741054740, 1183644388, 533058219, 562822116, 755578928, 571574867, 572260939, 590188022, 613415624, 626558667, 961486144, 784373666, 1216746689, 896230147, 1040115334, 933295865, 936156093, 943928874, 950853135, 1980948461, 958625916, 1033356439, 1211589063, 2173075207, 1508417032, 1189380783, 1968018054, 1153010138, 1134396983, 1143835806, 1184990491, 1720529759, 2070553076, 1869451958, 1410932333, 1884149000, 1717669531, 1847083282, 1829526012, 1877224739, 1880084967, 1887009228, 1894782009, 1909479051, 2982536150, 1991982355, 3712512114, 2278232789, 2600313116, 4155457528, 1930745883, 2287407121, 2296845944, 5589736853, 2328826297, 2595922824, 3128601864, 3258015615, 3240458345, 3295081333, 3547195543, 3789564018, 3709610979, 3774866976, 4158317756, 7084645351, 3781791237, 7877143974, 3840224934, 6006456923, 3922728238, 4208978672, 4218153004, 4227591827, 4259572180, 4526668707, 4584253065, 6553096948, 6169051231, 7504060005, 5724524688, 7163186583, 7098240549, 6535539678, 7697595214, 8366893641, 7491402216, 8041363417, 10164774679, 7622016171, 7704519475, 8802406069, 10938465483, 10458267916, 9933503360, 13228584693, 12268955244, 8445744831, 11062208385, 8786240887, 9110921772, 10308777753, 11893575919, 13873570706, 12260064366, 12822765237, 13633780227, 14157555849, 16071413116, 15113418387, 15532765633, 15195921691, 15326535646, 16067761002, 16150264306, 16490760362, 17248150900, 17231985718, 17556666603, 17897162659, 18754522584, 29701541229, 19419699525, 27791336076, 27089497610, 25082829603, 30364331068, 24153640285, 60065872297, 28018686928, 28960315873, 32562173478, 29270974236, 55108184538, 30309340078, 30522457337, 34904786890, 33706930909, 33398415206, 49121240754, 33722746080, 34788652321, 48261493727, 35453829262, 36651685243, 43837352187, 43573339810, 58231290109, 49236469888, 92958592941, 52172327213, 53113956158, 62667246782, 63865102763, 56979002801, 145130920154, 62871513556, 62977905145, 60831797415, 84025122209, 63920872543, 79291181449, 112998112358, 176983715150, 68511398401, 104405137225, 94882975352, 72105514505, 137139078367, 80225025053, 93073822075, 106240586592, 107467759997, 101408797101, 113004124628, 167383042370, 110092958959, 117810800216, 250143202995, 119850516357, 167072384007, 125849418701, 126898777688, 289987839778, 132432270944, 197478959300, 151396695954, 140616912906, 148736423454, 165179336580, 152330539558, 193229149681, 173298847128, 274707644229, 181633822154, 194482619176, 312293419392, 273049183850, 211501756060, 266466331607, 227903759175, 229943475316, 237661316573, 320127927369, 297611607524, 252748196389, 258281689645, 316576032534, 281168694398, 426104340183, 300133119408, 376116441330, 289353336360, 346813158734, 380234298733, 462802516552, 354932669282, 367781466304, 646700630340, 393135578214, 405984375236, 439405515235, 441445231376, 584876144598, 518830010971, 457847234491, 467604791889, 490409512962, 558414809053, 684386029828, 570522030758, 747200570851, 581301813806, 657285135728, 773765841540, 589486455768, 636166495094, 865643169705, 701745828016, 735166968015, 858190979266, 722714135586, 799119953450, 832541093449, 834580809590, 1028891971003, 1028369265249, 1266030581822, 948256747453, 925452026380, 1413842907255, 958014304851, 1048824322015, 1320552524922, 1539316118657, 1371333463109, 1776092541854, 1293451630822, 1225652950862, 1588357305291, 1660618994395, 1501809664799, 1424459963602, 1580905114852, 1457881103601, 1521834089036, 1555255229035, 1724571979830, 2550633986814, 2251465935673, 1997081069468, 1873708773833, 1883466331231, 1906271052304, 1974276348395, 2006838626866, 2183667255713, 2342275952837, 3057064893834, 3496110437431, 4275205966644, 2683534054463, 3405300420267, 2650112914464, 4057376029546, 2926269628401, 2882341067203, 2946294052638, 3305477094682, 3077089318071, 4867201310176, 3857742679626, 3598280753663, 5740598948297, 3757175105064, 3779979826137, 3880547400699, 6187818161885, 3913109679170, 3981114975261, 6362541988516, 4525943208550, 5333646968927, 6507855594090, 5532453981667, 5828635119841, 5565875121666, 5576382542865, 10354578328391, 7134465347617, 5808610695604, 5959430385274, 6023383370709, 6382566412753, 7637722505763, 8406490609249, 10420965273260, 7355455858727, 8283118313614, 7894224654431, 7660527226836, 7793657079869, 12745108401269, 9246756648097, 10102325751415, 9859590177477, 10549326579259, 10866100950594, 14242548698888, 11098329103333, 17740048257178, 23489305346985, 13982873152114, 11831994066313, 13378839229436, 28838377360511, 11982813755983, 14306501684323, 18827455882509, 24791875278147, 15149112938596, 20725691128071, 17904782437986, 15454184306705, 17653247257346, 16907283874933, 17040413727966, 20651652330674, 19106346825574, 22848914706577, 27599638434655, 21964430053927, 40791885936436, 22930323169646, 23081142859316, 23814807822296, 25210833295749, 40665017602454, 25361652985419, 26289315440306, 27131926694579, 29023227483949, 29455614622919, 32802360195942, 30603297245301, 33053895376582, 34693660985312, 32361468181638, 32494598034671, 33947697602899, 36013630700507, 58164013181361, 52385937792565, 41070776879501, 44813344760504, 44894753223573, 55984218546228, 70174997745923, 62509509999501, 46895950681612, 50572486281168, 52342759990328, 51650968425725, 54817267608338, 53421242134885]\n"
     ]
    }
   ],
   "source": [
    "# Load data\n",
    "from py.load_data import load_day_9\n",
    "\n",
    "numbers = load_day_9()\n",
    "print(numbers)"
   ]
  },
  {
   "cell_type": "code",
   "execution_count": 8,
   "metadata": {},
   "outputs": [],
   "source": [
    "def show_first_intruder(numbers, size_preamble):\n",
    "    for i in range(len(numbers)-size_preamble):\n",
    "        preamble = numbers[0+i:size_preamble+i]\n",
    "        next_num = numbers[size_preamble+i]\n",
    "        pairs = [(n,next_num - n) for i, n in enumerate(preamble) if next_num-n in preamble[:i]+preamble[i+1:]]\n",
    "        if not pairs:\n",
    "            return next_num"
   ]
  },
  {
   "cell_type": "code",
   "execution_count": 9,
   "metadata": {},
   "outputs": [
    {
     "name": "stderr",
     "output_type": "stream",
     "text": [
      "test_show_first_intruder (__main__.TestDayNinePartOne) ... ok\n",
      "\n",
      "----------------------------------------------------------------------\n",
      "Ran 1 test in 0.002s\n",
      "\n",
      "OK\n"
     ]
    },
    {
     "data": {
      "text/plain": [
       "<unittest.main.TestProgram at 0x1f026202048>"
      ]
     },
     "execution_count": 9,
     "metadata": {},
     "output_type": "execute_result"
    }
   ],
   "source": [
    "class TestDayNinePartOne(unittest.TestCase):\n",
    "    \n",
    "    def test_show_first_intruder(self):\n",
    "        test_numbers = [35,20,15,25,47,40,62,55,65,95,\n",
    "                        102,117,150,182,127,219,299,277,309,576]\n",
    "        actual = show_first_intruder(test_numbers, 5)\n",
    "        expected = 127\n",
    "        self.assertEqual(actual, expected)\n",
    "        \n",
    "\n",
    "unittest.main(argv=[''], verbosity=2, exit=False)"
   ]
  },
  {
   "cell_type": "code",
   "execution_count": 10,
   "metadata": {},
   "outputs": [
    {
     "name": "stdout",
     "output_type": "stream",
     "text": [
      "First number that doesn't fit: 1930745883\n"
     ]
    }
   ],
   "source": [
    "# Once the tests display OK, run the function on the data \n",
    "first_number = show_first_intruder(numbers, 25)\n",
    "\n",
    "print(\"First number that doesn't fit:\", first_number)"
   ]
  },
  {
   "cell_type": "markdown",
   "metadata": {},
   "source": [
    "### Part Two \n",
    "The final step in breaking the XMAS encryption relies on the invalid number you just found: you must **find a contiguous set of at least two numbers** in your list which sum to the invalid number from step 1.\n",
    "\n",
    "Again consider the above example:\n",
    "\n",
    "```\n",
    "35\n",
    "20\n",
    "15\n",
    "25\n",
    "47\n",
    "40\n",
    "62\n",
    "55\n",
    "65\n",
    "95\n",
    "102\n",
    "117\n",
    "150\n",
    "182\n",
    "127\n",
    "219\n",
    "299\n",
    "277\n",
    "309\n",
    "576\n",
    "```\n",
    "\n",
    "In this list, adding up all of the numbers from **15 through 40** produces the invalid number from step 1, 127. (Of course, the contiguous set of numbers in your actual list might be much longer.)\n",
    "\n",
    "To find the **encryption weakness**, add together the **smallest and largest number** in this contiguous range; in this example, these are 15 and 47, producing **62**.\n",
    "\n",
    "**What is the encryption weakness in your XMAS-encrypted list of numbers?**"
   ]
  },
  {
   "cell_type": "code",
   "execution_count": 11,
   "metadata": {},
   "outputs": [],
   "source": [
    "def find_encryption_weakness(numbers, intruder):\n",
    "    ind = numbers.index(intruder)\n",
    "    list_subset = numbers[:ind] \n",
    "    for i in range(len(list_subset)):\n",
    "        list_portion = list_subset[i:]\n",
    "        for j in range(len(list_portion)):\n",
    "            if sum(list_portion[:j]) == intruder:\n",
    "                encryption_list = list_portion[:j]\n",
    "    return max(encryption_list) + min(encryption_list)"
   ]
  },
  {
   "cell_type": "code",
   "execution_count": 12,
   "metadata": {},
   "outputs": [
    {
     "name": "stderr",
     "output_type": "stream",
     "text": [
      "test_show_first_intruder (__main__.TestDayNinePartOne) ... ok\n",
      "test_find_encryption_weakness (__main__.TestDayNinePartTwo) ... ok\n",
      "\n",
      "----------------------------------------------------------------------\n",
      "Ran 2 tests in 0.002s\n",
      "\n",
      "OK\n"
     ]
    },
    {
     "data": {
      "text/plain": [
       "<unittest.main.TestProgram at 0x1f0261e1cc8>"
      ]
     },
     "execution_count": 12,
     "metadata": {},
     "output_type": "execute_result"
    }
   ],
   "source": [
    "class TestDayNinePartTwo(unittest.TestCase):\n",
    "    \n",
    "    def test_find_encryption_weakness(self):\n",
    "        test_numbers = [35,20,15,25,47,40,62,55,65,95,\n",
    "                        102,117,150,182,127,219,299,277,309,576]\n",
    "        actual = find_encryption_weakness(test_numbers, 127)\n",
    "        expected = 62\n",
    "        self.assertEqual(actual, expected)\n",
    "        \n",
    "\n",
    "unittest.main(argv=[''], verbosity=2, exit=False)"
   ]
  },
  {
   "cell_type": "code",
   "execution_count": 13,
   "metadata": {},
   "outputs": [
    {
     "name": "stdout",
     "output_type": "stream",
     "text": [
      "Encryption weakness: 268878261\n"
     ]
    }
   ],
   "source": [
    "# Once the tests display OK, run the function on the data \n",
    "encryption_weakness = find_encryption_weakness(numbers, show_first_intruder(numbers, 25))\n",
    "\n",
    "print(\"Encryption weakness:\", encryption_weakness)"
   ]
  },
  {
   "cell_type": "markdown",
   "metadata": {},
   "source": [
    "## Day 10: Adapter Array \n",
    "\n",
    "Patched into the aircraft's data port, you discover weather forecasts of a massive tropical storm. Before you can figure out whether it will impact your vacation plans, however, your device suddenly turns off!\n",
    "\n",
    "Its battery is dead.\n",
    "\n",
    "You'll need to plug it in. There's only one problem: the charging outlet near your seat produces the wrong number of **jolts**. Always prepared, you make a list of all of the joltage adapters in your bag.\n",
    "\n",
    "Each of your joltage adapters is rated for a specific **output joltage** (your puzzle input). Any given adapter can take an input 1, 2, or 3 jolts **lower** than its rating and still produce its rated output joltage.\n",
    "\n",
    "In addition, your device has a built-in joltage adapter rated for **3 jolts higher** than the highest-rated adapter in your bag. (If your adapter list were 3, 9, and 6, your device's built-in adapter would be rated for 12 jolts.)\n",
    "\n",
    "Treat the charging outlet near your seat as having an effective joltage rating of 0.\n",
    "\n",
    "Since you have some time to kill, you might as well test all of your adapters. Wouldn't want to get to your resort and realize you can't even charge your device!\n",
    "\n",
    "If you **use every adapter in your bag** at once, what is the distribution of joltage differences between the charging outlet, the adapters, and your device?\n",
    "\n",
    "For example, suppose that in your bag, you have adapters with the following joltage ratings:\n",
    "\n",
    "```\n",
    "16\n",
    "10\n",
    "15\n",
    "5\n",
    "1\n",
    "11\n",
    "7\n",
    "19\n",
    "6\n",
    "12\n",
    "4\n",
    "```\n",
    "\n",
    "With these adapters, your device's built-in joltage adapter would be rated for $19 + 3 = 22$ jolts, 3 higher than the highest-rated adapter.\n",
    "\n",
    "Because adapters can only connect to a source 1-3 jolts lower than its rating, in order to use every adapter, you'd need to choose them like this:\n",
    "\n",
    "* The charging outlet has an effective rating of 0 jolts, so the only adapters that could connect to it directly would need to have a joltage rating of 1, 2, or 3 jolts. Of these, only one you have is an adapter rated 1 jolt **(difference of 1)**.\n",
    "* From your 1-jolt rated adapter, the only choice is your 4-jolt rated adapter **(difference of 3)**.\n",
    "* From the 4-jolt rated adapter, the adapters rated 5, 6, or 7 are valid choices. However, in order to not skip any adapters, you have to pick the adapter rated 5 jolts **(difference of 1)**.\n",
    "* Similarly, the next choices would need to be the adapter rated 6 and then the adapter rated 7 **(with difference of 1 and 1)**.\n",
    "* The only adapter that works with the 7-jolt rated adapter is the one rated 10 jolts **(difference of 3)**.\n",
    "* From 10, the choices are 11 or 12; choose 11 **(difference of 1)** and then 12 **(difference of 1)**.\n",
    "* After 12, only valid adapter has a rating of 15 **(difference of 3)**, then 16 **(difference of 1)**, then 19 **(difference of 3)**.\n",
    "* Finally, your device's built-in adapter is always 3 higher than the highest adapter, so its rating is 22 jolts **(always a difference of 3)**.\n",
    "\n",
    "In this example, when using every adapter, there are **7** differences of 1 jolt and **5** differences of 3 jolts.\n",
    "\n",
    "Here is a larger example:\n",
    "\n",
    "```\n",
    "28\n",
    "33\n",
    "18\n",
    "42\n",
    "31\n",
    "14\n",
    "46\n",
    "20\n",
    "48\n",
    "47\n",
    "24\n",
    "23\n",
    "49\n",
    "45\n",
    "19\n",
    "38\n",
    "39\n",
    "11\n",
    "1\n",
    "32\n",
    "25\n",
    "35\n",
    "8\n",
    "17\n",
    "7\n",
    "9\n",
    "4\n",
    "2\n",
    "34\n",
    "10\n",
    "3\n",
    "```\n",
    "\n",
    "In this larger example, in a chain that uses all of the adapters, there are 22 differences of 1 jolt and 10 differences of 3 jolts.\n",
    "\n",
    "Find a chain that uses all of your adapters to connect the charging outlet to your device's built-in adapter and count the joltage differences between the charging outlet, the adapters, and your device. **What is the number of 1-jolt differences multiplied by the number of 3-jolt differences?**"
   ]
  },
  {
   "cell_type": "code",
   "execution_count": 15,
   "metadata": {},
   "outputs": [
    {
     "name": "stdout",
     "output_type": "stream",
     "text": [
      "[70, 102, 148, 9, 99, 63, 40, 52, 91, 39, 55, 28, 54, 22, 95, 61, 118, 35, 14, 21, 129, 82, 137, 45, 7, 87, 81, 25, 3, 108, 41, 11, 145, 18, 65, 80, 115, 29, 136, 42, 97, 104, 117, 141, 62, 121, 23, 96, 24, 128, 48, 1, 112, 8, 34, 144, 134, 116, 58, 147, 51, 84, 17, 126, 64, 68, 135, 10, 77, 105, 127, 73, 111, 90, 16, 103, 109, 98, 146, 123, 130, 69, 133, 110, 30, 122, 15, 74, 33, 38, 83, 92, 2, 53, 140, 4]\n"
     ]
    }
   ],
   "source": [
    "# Load data\n",
    "from py.load_data import load_day_10\n",
    "\n",
    "joltage_ratings = load_day_10()\n",
    "print(joltage_ratings)"
   ]
  },
  {
   "cell_type": "code",
   "execution_count": 37,
   "metadata": {},
   "outputs": [],
   "source": [
    "def count_joltage_diff(joltage_r):\n",
    "    eff_rating = 0\n",
    "    results = {\"1\": 0, \"3\": 0}\n",
    "    while eff_rating<max(joltage_r):\n",
    "        if 1+eff_rating in joltage_r:\n",
    "            eff_rating += 1\n",
    "            results['1'] += 1\n",
    "        elif 3+eff_rating in joltage_r:\n",
    "            eff_rating += 3\n",
    "            results['3'] += 1\n",
    "          \n",
    "    results['3'] += 1\n",
    "    return results"
   ]
  },
  {
   "cell_type": "code",
   "execution_count": 38,
   "metadata": {},
   "outputs": [
    {
     "name": "stderr",
     "output_type": "stream",
     "text": [
      "test_show_first_intruder (__main__.TestDayNinePartOne) ... ok\n",
      "test_find_encryption_weakness (__main__.TestDayNinePartTwo) ... ok\n",
      "test_count_joltage_diff (__main__.TestDayTenPartOne) ... ok\n",
      "test_count_joltage_diff_2 (__main__.TestDayTenPartOne) ... ok\n",
      "\n",
      "----------------------------------------------------------------------\n",
      "Ran 4 tests in 0.003s\n",
      "\n",
      "OK\n"
     ]
    },
    {
     "data": {
      "text/plain": [
       "<unittest.main.TestProgram at 0x1f0262aeb88>"
      ]
     },
     "execution_count": 38,
     "metadata": {},
     "output_type": "execute_result"
    }
   ],
   "source": [
    "class TestDayTenPartOne(unittest.TestCase):\n",
    "    \n",
    "    def test_count_joltage_diff(self):\n",
    "        test_jolts = [16,10,15,5,1,11,7,19,6,12,4]\n",
    "        actual = count_joltage_diff(test_jolts)\n",
    "        expected = {'1': 7, '3': 5}\n",
    "        self.assertEqual(actual, expected)\n",
    "        \n",
    "    def test_count_joltage_diff_2(self):\n",
    "        test_jolts = [28,33,18,42,31,14,46,20,48,47,24,23,49,45,19,38,39,11,1,32,25,35,8,17,7,9,4,2,34,10,3]\n",
    "        actual = count_joltage_diff(test_jolts)\n",
    "        expected = {'1': 22, '3': 10}\n",
    "        self.assertEqual(actual, expected)\n",
    "        \n",
    "\n",
    "unittest.main(argv=[''], verbosity=2, exit=False)"
   ]
  },
  {
   "cell_type": "code",
   "execution_count": 42,
   "metadata": {},
   "outputs": [
    {
     "name": "stdout",
     "output_type": "stream",
     "text": [
      "Number of joltage differences: {'1': 70, '3': 27} / product: 1890\n"
     ]
    }
   ],
   "source": [
    "# Once the tests display OK, run the function on the data \n",
    "diff_joltage = count_joltage_diff(joltage_ratings)\n",
    "\n",
    "print(\"Number of joltage differences:\", diff_joltage, \"/ product:\", diff_joltage['1']*diff_joltage['3'])"
   ]
  },
  {
   "cell_type": "markdown",
   "metadata": {},
   "source": [
    "### Part Two \n",
    "\n",
    "\n",
    "To completely determine whether you have enough adapters, you'll need to figure out how many different ways they can be arranged. Every arrangement needs to connect the charging outlet to your device. The previous rules about when adapters can successfully connect still apply.\n",
    "\n",
    "The first example above (the one that starts with 16, 10, 15) supports the following arrangements:\n",
    "\n",
    "```\n",
    "(0), 1, 4, 5, 6, 7, 10, 11, 12, 15, 16, 19, (22)\n",
    "(0), 1, 4, 5, 6, 7, 10, 12, 15, 16, 19, (22)\n",
    "(0), 1, 4, 5, 7, 10, 11, 12, 15, 16, 19, (22)\n",
    "(0), 1, 4, 5, 7, 10, 12, 15, 16, 19, (22)\n",
    "(0), 1, 4, 6, 7, 10, 11, 12, 15, 16, 19, (22)\n",
    "(0), 1, 4, 6, 7, 10, 12, 15, 16, 19, (22)\n",
    "(0), 1, 4, 7, 10, 11, 12, 15, 16, 19, (22)\n",
    "(0), 1, 4, 7, 10, 12, 15, 16, 19, (22)\n",
    "```\n",
    "\n",
    "(The charging outlet and your device's built-in adapter are shown in parentheses.) Given the adapters from the first example, the total number of arrangements that connect the charging outlet to your device is **8**.\n",
    "\n",
    "The second example above (the one that starts with 28, 33, 18) has many arrangements. Here are a few:\n",
    "\n",
    "```\n",
    "(0), 1, 2, 3, 4, 7, 8, 9, 10, 11, 14, 17, 18, 19, 20, 23, 24, 25, 28, 31,\n",
    "32, 33, 34, 35, 38, 39, 42, 45, 46, 47, 48, 49, (52)\n",
    "\n",
    "(0), 1, 2, 3, 4, 7, 8, 9, 10, 11, 14, 17, 18, 19, 20, 23, 24, 25, 28, 31,\n",
    "32, 33, 34, 35, 38, 39, 42, 45, 46, 47, 49, (52)\n",
    "\n",
    "(0), 1, 2, 3, 4, 7, 8, 9, 10, 11, 14, 17, 18, 19, 20, 23, 24, 25, 28, 31,\n",
    "32, 33, 34, 35, 38, 39, 42, 45, 46, 48, 49, (52)\n",
    "\n",
    "(0), 1, 2, 3, 4, 7, 8, 9, 10, 11, 14, 17, 18, 19, 20, 23, 24, 25, 28, 31,\n",
    "32, 33, 34, 35, 38, 39, 42, 45, 46, 49, (52)\n",
    "\n",
    "(0), 1, 2, 3, 4, 7, 8, 9, 10, 11, 14, 17, 18, 19, 20, 23, 24, 25, 28, 31,\n",
    "32, 33, 34, 35, 38, 39, 42, 45, 47, 48, 49, (52)\n",
    "\n",
    "(0), 3, 4, 7, 10, 11, 14, 17, 20, 23, 25, 28, 31, 34, 35, 38, 39, 42, 45,\n",
    "46, 48, 49, (52)\n",
    "\n",
    "(0), 3, 4, 7, 10, 11, 14, 17, 20, 23, 25, 28, 31, 34, 35, 38, 39, 42, 45,\n",
    "46, 49, (52)\n",
    "\n",
    "(0), 3, 4, 7, 10, 11, 14, 17, 20, 23, 25, 28, 31, 34, 35, 38, 39, 42, 45,\n",
    "47, 48, 49, (52)\n",
    "\n",
    "(0), 3, 4, 7, 10, 11, 14, 17, 20, 23, 25, 28, 31, 34, 35, 38, 39, 42, 45,\n",
    "47, 49, (52)\n",
    "\n",
    "(0), 3, 4, 7, 10, 11, 14, 17, 20, 23, 25, 28, 31, 34, 35, 38, 39, 42, 45,\n",
    "48, 49, (52)\n",
    "```\n",
    "\n",
    "In total, this set of adapters can connect the charging outlet to your device in **19208** distinct arrangements.\n",
    "\n",
    "You glance back down at your bag and try to remember why you brought so many adapters; there must be **more than a trillion** valid ways to arrange them! Surely, there must be an efficient way to count the arrangements.\n",
    "\n",
    "**What is the total number of distinct ways you can arrange the adapters to connect the charging outlet to your device?**"
   ]
  },
  {
   "cell_type": "code",
   "execution_count": 6,
   "metadata": {},
   "outputs": [
    {
     "name": "stdout",
     "output_type": "stream",
     "text": [
      "[1, 2, 3, 4, 7, 8, 9, 10, 11, 14, 17, 18, 19, 20, 23, 24, 25, 28, 31, 32, 33, 34, 35, 38, 39, 42, 45, 46, 47, 48, 49]\n",
      "40\n"
     ]
    }
   ],
   "source": [
    "# test_jolts = [16,10,15,5,1,11,7,19,6,12,4]\n",
    "test_jolts = [28,33,18,42,31,14,46,20,48,47,24,23,49,45,19,38,39,11,1,32,25,35,8,17,7,9,4,2,34,10,3]\n",
    "print(sorted(test_jolts))\n",
    "\n",
    "\n",
    "def count_routes(joltage_r):\n",
    "    eff_rating = 0\n",
    "    n_routes = 1\n",
    "    while eff_rating<max(joltage_r):\n",
    "        n_p = [eff_rating+i for i in range(1,4) if eff_rating+i in joltage_r]\n",
    "        if len(n_p) > 1:\n",
    "            n_routes += len(n_p)\n",
    "        eff_rating = min(n_p)\n",
    "        \n",
    "    return n_routes\n",
    "\n",
    "# FInd a way to count the number of routes possible\n",
    "# The number of jumps is either 1, 2 or 3\n",
    "print(count_routes(test_jolts))"
   ]
  },
  {
   "cell_type": "code",
   "execution_count": null,
   "metadata": {},
   "outputs": [],
   "source": [
    "(0), 1, 4, 5, 6, 7, 10, 11, 12, 15, 16, 19, (22)\n",
    "(0), 1, 4, 5, 6, 7, 10, 12, 15, 16, 19, (22)\n",
    "(0), 1, 4, 5, 7, 10, 11, 12, 15, 16, 19, (22)\n",
    "(0), 1, 4, 5, 7, 10, 12, 15, 16, 19, (22)\n",
    "(0), 1, 4, 6, 7, 10, 11, 12, 15, 16, 19, (22)\n",
    "(0), 1, 4, 6, 7, 10, 12, 15, 16, 19, (22)\n",
    "(0), 1, 4, 7, 10, 11, 12, 15, 16, 19, (22)\n",
    "(0), 1, 4, 7, 10, 12, 15, 16, 19, (22)"
   ]
  }
 ],
 "metadata": {
  "kernelspec": {
   "display_name": "Python 3",
   "language": "python",
   "name": "python3"
  },
  "language_info": {
   "codemirror_mode": {
    "name": "ipython",
    "version": 3
   },
   "file_extension": ".py",
   "mimetype": "text/x-python",
   "name": "python",
   "nbconvert_exporter": "python",
   "pygments_lexer": "ipython3",
   "version": "3.9.2"
  },
  "varInspector": {
   "cols": {
    "lenName": 16,
    "lenType": 16,
    "lenVar": 40
   },
   "kernels_config": {
    "python": {
     "delete_cmd_postfix": "",
     "delete_cmd_prefix": "del ",
     "library": "var_list.py",
     "varRefreshCmd": "print(var_dic_list())"
    },
    "r": {
     "delete_cmd_postfix": ") ",
     "delete_cmd_prefix": "rm(",
     "library": "var_list.r",
     "varRefreshCmd": "cat(var_dic_list()) "
    }
   },
   "types_to_exclude": [
    "module",
    "function",
    "builtin_function_or_method",
    "instance",
    "_Feature"
   ],
   "window_display": false
  }
 },
 "nbformat": 4,
 "nbformat_minor": 4
}

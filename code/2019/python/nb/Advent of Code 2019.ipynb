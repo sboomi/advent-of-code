{
 "cells": [
  {
   "cell_type": "markdown",
   "metadata": {},
   "source": [
    "# Advent of code 2019\n",
    "\n",
    "Challenges for Christmas 2019 🎇"
   ]
  },
  {
   "cell_type": "code",
   "execution_count": 1,
   "metadata": {},
   "outputs": [],
   "source": [
    "# Always load this cell!\n",
    "\n",
    "import unittest"
   ]
  },
  {
   "cell_type": "code",
   "execution_count": 2,
   "metadata": {},
   "outputs": [],
   "source": [
    "# Always load this cell!\n",
    "# Function msg\n",
    "\n",
    "def generate_msg(assumed, true):\n",
    "    return f\"The answer was {true}. Your answer was {assumed}\""
   ]
  },
  {
   "cell_type": "markdown",
   "metadata": {},
   "source": [
    "## Day 1: The Tyranny of the Rocket Equation\n",
    "\n",
    "### Part 1\n",
    "\n",
    "\n",
    "Santa has become stranded at the edge of the Solar System while delivering presents to other planets! To accurately calculate his position in space, safely align his warp drive, and return to Earth in time to save Christmas, he needs you to bring him measurements from fifty stars.\n",
    "\n",
    "Collect stars by solving puzzles. Two puzzles will be made available on each day in the Advent calendar; the second puzzle is unlocked when you complete the first. Each puzzle grants one star. Good luck!\n",
    "\n",
    "The Elves quickly load you into a spacecraft and prepare to launch.\n",
    "\n",
    "At the first Go / No Go poll, every Elf is Go until the Fuel Counter-Upper. They haven't determined the amount of fuel required yet.\n",
    "\n",
    "Fuel required to launch a given module is based on its mass. **Specifically, to find the fuel required for a module, take its mass, divide by three, round down, and subtract 2.**\n",
    "\n",
    "For example:\n",
    "\n",
    "* For a mass of 12, divide by 3 and round down to get 4, then subtract 2 to get 2.\n",
    "* For a mass of 14, dividing by 3 and rounding down still yields 4, so the fuel required is also 2.\n",
    "* For a mass of 1969, the fuel required is 654.\n",
    "* For a mass of 100756, the fuel required is 33583.\n",
    "\n",
    "The Fuel Counter-Upper needs to know the total fuel requirement. To find it, individually calculate the fuel needed for the mass of each module (your puzzle input), then add together all the fuel values.\n",
    "\n",
    "What is the sum of the fuel requirements for all of the modules on your spacecraft? **Edit the function below**"
   ]
  },
  {
   "cell_type": "code",
   "execution_count": 4,
   "metadata": {},
   "outputs": [],
   "source": [
    "def fuel_requirement(mass):\n",
    "    fuel = mass // 3 - 2\n",
    "    return fuel\n",
    "\n",
    "def fuel_requirements_sum(mass_list):\n",
    "    return sum([fuel_requirement(mass) for mass in mass_list])"
   ]
  },
  {
   "cell_type": "markdown",
   "metadata": {},
   "source": [
    "**Test case**\n",
    "\n",
    "Once the function is completed, launch the test module!"
   ]
  },
  {
   "cell_type": "code",
   "execution_count": 5,
   "metadata": {},
   "outputs": [
    {
     "name": "stderr",
     "output_type": "stream",
     "text": [
      "test_fuel_requirement (__main__.TestDayOne) ... ok\n",
      "test_fuel_sum (__main__.TestDayOne) ... ok\n",
      "\n",
      "----------------------------------------------------------------------\n",
      "Ran 2 tests in 0.004s\n",
      "\n",
      "OK\n"
     ]
    },
    {
     "data": {
      "text/plain": [
       "<unittest.main.TestProgram at 0x2026e33cdc8>"
      ]
     },
     "execution_count": 5,
     "metadata": {},
     "output_type": "execute_result"
    }
   ],
   "source": [
    "from py.load_data import load_day_1\n",
    "\n",
    "class TestDayOnePartOne(unittest.TestCase):\n",
    "    \n",
    "    def test_fuel_requirement(self):\n",
    "        self.assertEqual(fuel_requirement(12), 2)\n",
    "        self.assertEqual(fuel_requirement(14), 2)\n",
    "        self.assertEqual(fuel_requirement(1969), 654)\n",
    "        self.assertEqual(fuel_requirement(100756), 33583)\n",
    "        \n",
    "    def test_fuel_sum(self):\n",
    "        mass_list = load_day_1()\n",
    "        self.assertEqual(fuel_requirements_sum(mass_list), 3511949)\n",
    "        \n",
    "\n",
    "unittest.main(argv=[''], verbosity=2, exit=False)"
   ]
  },
  {
   "cell_type": "markdown",
   "metadata": {},
   "source": [
    "### Part 2\n",
    "\n",
    "During the second Go / No Go poll, the Elf in charge of the Rocket Equation Double-Checker stops the launch sequence. Apparently, you forgot to include additional fuel for the fuel you just added.\n",
    "\n",
    "Fuel itself requires fuel just like a module - take its mass, divide by three, round down, and subtract 2. However, that fuel also requires fuel, and that fuel requires fuel, and so on. Any mass that would require negative fuel should instead be treated as if it requires zero fuel; the remaining mass, if any, is instead handled by wishing really hard, which has no mass and is outside the scope of this calculation.\n",
    "\n",
    "**So, for each module mass, calculate its fuel and add it to the total. Then, treat the fuel amount you just calculated as the input mass and repeat the process, continuing until a fuel requirement is zero or negative.** For example:\n",
    "\n",
    "* A module of mass 14 requires 2 fuel. This fuel requires no further fuel (2 divided by 3 and rounded down is 0, which would call for a negative fuel), so the total fuel required is still just 2.\n",
    "* At first, a module of mass 1969 requires 654 fuel. Then, this fuel requires 216 more fuel (654 / 3 - 2). 216 then requires 70 more fuel, which requires 21 fuel, which requires 5 fuel, which requires no further fuel. So, the total fuel required for a module of mass 1969 is 654 + 216 + 70 + 21 + 5 = 966.\n",
    "* The fuel required by a module of mass 100756 and its fuel is: 33583 + 11192 + 3728 + 1240 + 411 + 135 + 43 + 12 + 2 = 50346.\n",
    "\n",
    "What is the sum of the fuel requirements for all of the modules on your spacecraft when also taking into account the mass of the added fuel? (Calculate the fuel requirements for each module separately, then add them all up at the end.)"
   ]
  },
  {
   "cell_type": "code",
   "execution_count": 17,
   "metadata": {},
   "outputs": [],
   "source": [
    "# Requires fuel_requirements_sum to be complete and functional\n",
    "\n",
    "def additional_fuel(req_fuel):\n",
    "    total_fuel = req_fuel\n",
    "    while fuel_requirement(req_fuel) > 0:\n",
    "        req_fuel = fuel_requirement(req_fuel)\n",
    "        total_fuel += req_fuel \n",
    "    return total_fuel\n",
    "\n",
    "def additional_fuel_total(mass_list):\n",
    "    total_fuel = 0\n",
    "    for mass in mass_list:\n",
    "        total_fuel += additional_fuel(fuel_requirement(mass))\n",
    "    return total_fuel"
   ]
  },
  {
   "cell_type": "markdown",
   "metadata": {},
   "source": [
    "**Test module**\n",
    "\n",
    "Complete Part 1 before launching this one"
   ]
  },
  {
   "cell_type": "code",
   "execution_count": 18,
   "metadata": {},
   "outputs": [
    {
     "name": "stderr",
     "output_type": "stream",
     "text": [
      "test_fuel_requirement (__main__.TestDayOne) ... ok\n",
      "test_fuel_sum (__main__.TestDayOne) ... ok\n",
      "test_additional_fuel (__main__.TestDayOnePartTwo) ... ok\n",
      "test_additional_fuel_total (__main__.TestDayOnePartTwo) ... ok\n",
      "\n",
      "----------------------------------------------------------------------\n",
      "Ran 4 tests in 0.007s\n",
      "\n",
      "OK\n"
     ]
    },
    {
     "data": {
      "text/plain": [
       "<unittest.main.TestProgram at 0x2026e3c8888>"
      ]
     },
     "execution_count": 18,
     "metadata": {},
     "output_type": "execute_result"
    }
   ],
   "source": [
    "from py.load_data import load_day_1\n",
    "\n",
    "class TestDayOnePartTwo(unittest.TestCase):\n",
    "    def mtf(self, mass):\n",
    "        return fuel_requirement(mass)\n",
    "    \n",
    "    def setUp(self):\n",
    "        self.mass_list = load_day_1()\n",
    "    \n",
    "    def test_additional_fuel(self):\n",
    "        self.assertEqual(additional_fuel(self.mtf(14)), 2, \n",
    "                         msg=f\"The result should be 2. Your result was {additional_fuel(self.mtf(14))}\")\n",
    "        self.assertEqual(additional_fuel(self.mtf(1969)), 966, \n",
    "                         msg=f\"The result should be 966. Your result was {additional_fuel(self.mtf(654))}\")\n",
    "        self.assertEqual(additional_fuel(self.mtf(100756)), 50346, \n",
    "                         msg=f\"The result should be 50346. Your result was {additional_fuel(self.mtf(100756))}\")\n",
    "    \n",
    "    def test_additional_fuel_total(self):\n",
    "        mass_list = self.mass_list\n",
    "        self.assertEqual(additional_fuel_total(mass_list), 5265045)\n",
    "        \n",
    "        \n",
    "\n",
    "unittest.main(argv=[''], verbosity=2, exit=False)"
   ]
  },
  {
   "cell_type": "markdown",
   "metadata": {},
   "source": [
    "## Day 2: 1202 Program Alarm\n",
    "\n",
    "### Part 1\n",
    "\n",
    "On the way to your [gravity assist](https://en.wikipedia.org/wiki/Gravity_assist) around the Moon, your ship computer beeps angrily about a [\"1202 program alarm\"](https://www.hq.nasa.gov/alsj/a11/a11.landing.html#1023832). On the radio, an Elf is already explaining how to handle the situation: _\"Don't worry, that's perfectly norma--\"_ The ship computer [bursts into flames](https://en.wikipedia.org/wiki/Halt_and_Catch_Fire).\n",
    "\n",
    "You notify the Elves that the computer's [magic smoke](https://en.wikipedia.org/wiki/Magic_smoke) seems to have escaped. _\"That computer ran **Intcode** programs like the gravity assist program it was working on; surely there are enough spare parts up there to build a new Intcode computer!\"_\n",
    "\n",
    "An Intcode program is a list of [integers](https://en.wikipedia.org/wiki/Integer) separated by commas (like 1,0,0,3,99). To run one, start by looking at the first integer (called position 0). Here, you will find an **opcode** - either **1, 2, or 99**. The opcode indicates what to do; for example, **99** means that the program is finished and should immediately *halt*. Encountering an unknown opcode means something went wrong.\n",
    "\n",
    "**Opcode 1** *adds* together numbers read from two positions and stores the result in a third position. The three integers immediately after the opcode tell you these three positions \n",
    "\n",
    "1. the first two indicate the positions from which you should read the input values\n",
    "2. the third indicates the position at which the output should be stored.\n",
    "\n",
    "For example, if your Intcode computer encounters `1,10,20,30`, it should read the values at positions 10 and 20, add those values, and then overwrite the value at position 30 with their sum.\n",
    "\n",
    "**Opcode 2** works exactly like opcode 1, except it *multiplies* the two inputs instead of adding them. Again, the three integers after the opcode indicate where the inputs and outputs are, not their values.\n",
    "\n",
    "Once you're done processing an opcode, move to the next one by stepping forward 4 positions.\n",
    "\n",
    "**Example**\n",
    "\n",
    "For example, suppose you have the following program:\n",
    "\n",
    "```\n",
    "1,9,10,3,2,3,11,0,99,30,40,50\n",
    "```\n",
    "\n",
    "For the purposes of illustration, here is the same program split into multiple lines:\n",
    "\n",
    "```\n",
    "1,9,10,3,\n",
    "2,3,11,0,\n",
    "99,\n",
    "30,40,50\n",
    "```\n",
    "\n",
    "The first four integers, `1,9,10,3`, are at positions 0, 1, 2, and 3. Together, they represent the first opcode (1, addition), the positions of the two inputs (9 and 10), and the position of the output (3). To handle this opcode, you first need to get the values at the input positions: position 9 contains 30, and position 10 contains 40. Add these numbers together to get 70. Then, store this value at the output position; here, the output position (3) is at position 3, so it overwrites itself. Afterward, the program looks like this:\n",
    "\n",
    "```\n",
    "1,9,10,70,\n",
    "2,3,11,0,\n",
    "99,\n",
    "30,40,50\n",
    "```\n",
    "\n",
    "Step forward 4 positions to reach the next opcode, 2. This opcode works just like the previous, but it multiplies instead of adding. The inputs are at positions 3 and 11; these positions contain 70 and 50 respectively. Multiplying these produces 3500; this is stored at position 0:\n",
    "\n",
    "```\n",
    "3500,9,10,70,\n",
    "2,3,11,0,\n",
    "99,\n",
    "30,40,50\n",
    "```\n",
    "\n",
    "Stepping forward 4 more positions arrives at opcode 99, halting the program.\n",
    "\n",
    "Here are the initial and final states of a few more small programs:\n",
    "\n",
    "\n",
    "* `1,0,0,0,99` becomes `2,0,0,0,99` $(1 + 1 = 2)$.\n",
    "* `2,3,0,3,99` becomes `2,3,0,6,99` $(3 \\times 2 = 6)$.\n",
    "* `2,4,4,5,99,0` becomes `2,4,4,5,99,9801` $(99 \\times 99 = 9801)$.\n",
    "* `1,1,1,4,99,5,6,0,99` becomes `30,1,1,4,2,5,6,0,99`\n",
    "\n",
    "Once you have a working computer, the first step is to restore the gravity assist program (your puzzle input) to the \"1202 program alarm\" state it had just before the last computer caught fire. To do this, **before running the program**, replace position 1 with the value 12 and replace position 2 with the value 2. **What value is left at position 0 after the program halts?**\n",
    "\n"
   ]
  },
  {
   "cell_type": "code",
   "execution_count": 4,
   "metadata": {},
   "outputs": [],
   "source": [
    "def translate_intcode(intcode):\n",
    "    translated_code = intcode.copy()\n",
    "    i = 0\n",
    "    while translated_code[i]!=99:\n",
    "        if translated_code[i]==1:\n",
    "            sum_nums = translated_code[translated_code[i+1]] + translated_code[translated_code[i+2]]\n",
    "            translated_code[translated_code[i+3]] = sum_nums\n",
    "        elif translated_code[i]==2:\n",
    "            product_nums = translated_code[translated_code[i+1]] * translated_code[translated_code[i+2]]\n",
    "            translated_code[translated_code[i+3]] = product_nums\n",
    "        i += 4\n",
    "    return translated_code\n",
    "\n",
    "\n",
    "def retrieve_first_value(intcode_entry):\n",
    "    intcode_entry[1] = 12\n",
    "    intcode_entry[2] = 2\n",
    "    translated_code = translate_intcode(intcode_entry)\n",
    "    return translated_code[0]"
   ]
  },
  {
   "cell_type": "code",
   "execution_count": 13,
   "metadata": {},
   "outputs": [
    {
     "name": "stderr",
     "output_type": "stream",
     "text": [
      "test_retrieve_first_value (__main__.TestDayTwoPartOne) ... ok\n",
      "test_translated_code (__main__.TestDayTwoPartOne) ... ok\n",
      "\n",
      "----------------------------------------------------------------------\n",
      "Ran 2 tests in 0.003s\n",
      "\n",
      "OK\n"
     ]
    },
    {
     "data": {
      "text/plain": [
       "<unittest.main.TestProgram at 0x1cb24245608>"
      ]
     },
     "execution_count": 13,
     "metadata": {},
     "output_type": "execute_result"
    }
   ],
   "source": [
    "from py.load_data import load_day_2\n",
    "\n",
    "class TestDayTwoPartOne(unittest.TestCase):\n",
    "    def setUp(self):\n",
    "        self.intcode = load_day_2()\n",
    "    \n",
    "    def test_translated_code(self):\n",
    "        self.assertEqual(translate_intcode([1,0,0,0,99]), [2,0,0,0,99], \n",
    "                         msg=generate_msg(translate_intcode([1,0,0,0,99]), [2,0,0,0,99]))\n",
    "        self.assertEqual(translate_intcode([2,3,0,3,99]), [2,3,0,6,99], \n",
    "                         msg=generate_msg(translate_intcode([2,3,0,3,99]), [2,3,0,6,99]))\n",
    "        self.assertEqual(translate_intcode([2,4,4,5,99,0]), [2,4,4,5,99,9801], \n",
    "                         msg=generate_msg(translate_intcode([2,4,4,5,99,0]), [2,4,4,5,99,9801]))\n",
    "        self.assertEqual(translate_intcode([1,1,1,4,99,5,6,0,99]), [30,1,1,4,2,5,6,0,99], \n",
    "                         msg=generate_msg(translate_intcode([1,1,1,4,99,5,6,0,99]), [30,1,1,4,2,5,6,0,99]))\n",
    "        \n",
    "    def test_retrieve_first_value(self):\n",
    "        intcode_entry = self.intcode\n",
    "        self.assertEqual(retrieve_first_value(intcode_entry), 6627023)\n",
    "                \n",
    "\n",
    "unittest.main(argv=[''], verbosity=2, exit=False)"
   ]
  },
  {
   "cell_type": "markdown",
   "metadata": {},
   "source": [
    "### Part 2\n",
    "\n",
    "_-\"Good, the new computer seems to be working correctly! Keep it nearby during this mission - you'll probably use it again. Real Intcode computers support many more features than your new one, but we'll let you know what they are as you need them.\"_\n",
    "\n",
    "_-\"However, your current priority should be to complete your gravity assist around the Moon. For this mission to succeed, we should settle on some terminology for the parts you've already built.\"_\n",
    "\n",
    "Intcode programs are given as a list of integers; these values are used as the initial state for the computer's memory. When you run an Intcode program, make sure to start by initializing memory to the program's values. A position in memory is called an **address** (for example, the first value in memory is at \"address 0\").\n",
    "\n",
    "Opcodes (like 1, 2, or 99) mark the beginning of an instruction. The values used immediately after an opcode, if any, are called the instruction's **parameters**. For example, in the instruction `1,2,3,4`, 1 is the opcode; 2, 3, and 4 are the parameters. The instruction 99 contains only an opcode and has no parameters.\n",
    "\n",
    "The address of the current instruction is called the instruction pointer; it starts at 0. After an instruction finishes, the instruction pointer increases by the number of values in the instruction; until you add more instructions to the computer, this is always 4 (1 opcode + 3 parameters) for the add and multiply instructions. (The halt instruction would increase the instruction pointer by 1, but it halts the program instead.)\n",
    "\n",
    "_\"With terminology out of the way, we're ready to proceed. To complete the gravity assist, you need to determine what pair of inputs produces the output `19690720`.\"_\n",
    "\n",
    "The inputs should still be provided to the program by replacing the values at addresses 1 and 2, just like before. In this program, the value placed in address 1 is called the **noun**, and the value placed in address 2 is called the **verb**. Each of the two input values will be between 0 and 99, inclusive.\n",
    "\n",
    "Once the program has halted, its output is available at address 0, also just like before. Each time you try a pair of inputs, make sure you first reset the computer's memory to the values in the program (your puzzle input) - in other words, don't reuse memory from a previous attempt.\n",
    "\n",
    "**Find the input noun and verb that cause the program to produce the output `19690720`. What is 100 * noun + verb? (For example, if noun=12 and verb=2, the answer would be 1202.)**"
   ]
  },
  {
   "cell_type": "code",
   "execution_count": 7,
   "metadata": {},
   "outputs": [],
   "source": [
    "def get_intcode_output(intcode_entry, noun, verb):\n",
    "    intcode_entry[1] = noun\n",
    "    intcode_entry[2] = verb\n",
    "    translated_code = translate_intcode(intcode_entry)\n",
    "    return translated_code[0]\n",
    "\n",
    "def find_noun_verb(intcode):\n",
    "    for noun in range(100):\n",
    "        for verb in range(100):\n",
    "            output = get_intcode_output(intcode, noun, verb)\n",
    "            if output==19690720:\n",
    "                return 100 * noun + verb"
   ]
  },
  {
   "cell_type": "code",
   "execution_count": 8,
   "metadata": {},
   "outputs": [
    {
     "name": "stdout",
     "output_type": "stream",
     "text": [
      "4019\n"
     ]
    }
   ],
   "source": [
    "from py.load_data import load_day_2\n",
    "intcode = load_day_2()\n",
    "\n",
    "print(find_noun_verb(intcode))"
   ]
  },
  {
   "cell_type": "markdown",
   "metadata": {},
   "source": [
    "## Day 3: Crossed Wires\n",
    "\n",
    "### Part 1\n",
    "\n",
    "The gravity assist was successful, and you're well on your way to the Venus refuelling station. During the rush back on Earth, the fuel management system wasn't completely installed, so that's next on the priority list.\n",
    "\n",
    "Opening the front panel reveals a jumble of wires. Specifically, two wires are connected to a central port and extend outward on a grid. You trace the path each wire takes as it leaves the central port, one wire per line of text (your puzzle input).\n",
    "\n",
    "The wires twist and turn, but the two wires occasionally cross paths. To fix the circuit, you need to find the intersection point closest to the central port. Because the wires are on a grid, use the Manhattan distance for this measurement. While the wires do technically cross right at the central port where they both start, this point does not count, nor does a wire count as crossing with itself.\n",
    "\n",
    "For example, if the first wire's path is `R8,U5,L5,D3`, then starting from the central port `(o)`, it goes **right 8, up 5, left 5, and finally down 3**:\n",
    "\n",
    "```\n",
    "...........\n",
    "...........\n",
    "...........\n",
    "....+----+.\n",
    "....|....|.\n",
    "....|....|.\n",
    "....|....|.\n",
    ".........|.\n",
    ".o-------+.\n",
    "...........\n",
    "```\n",
    "\n",
    "Then, if the second wire's path is `U7,R6,D4,L4`, it goes **up 7, right 6, down 4, and left 4**:\n",
    "\n",
    "```\n",
    "...........\n",
    ".+-----+...\n",
    ".|.....|...\n",
    ".|..+--X-+.\n",
    ".|..|..|.|.\n",
    ".|.-X--+.|.\n",
    ".|..|....|.\n",
    ".|.......|.\n",
    ".o-------+.\n",
    "...........\n",
    "```\n",
    "\n",
    "These wires cross at two locations (marked X), but the lower-left one is closer to the central port: its distance is 3 + 3 = 6.\n",
    "\n",
    "Here are a few more examples:\n",
    "\n",
    "* `[R75,D30,R83,U83,L12,D49,R71,U7,L72], [U62,R66,U55,R34,D71,R55,D58,R83]` = distance 159\n",
    "* `[R98,U47,R26,D63,R33,U87,L62,D20,R33,U53,R51], [U98,R91,D20,R16,D67,R40,U7,R15,U6,R7]` = distance 135\n",
    "\n",
    "**What is the Manhattan distance from the central port to the closest intersection?**"
   ]
  },
  {
   "cell_type": "code",
   "execution_count": 12,
   "metadata": {},
   "outputs": [],
   "source": [
    "def write_trajectory(list_directions):\n",
    "    trajectory = []\n",
    "    curr_point = (0,0)\n",
    "    for instru in list_directions:\n",
    "        direction, steps = (instru[0], int(instru[1:]))\n",
    "        if direction==\"R\":\n",
    "            trajectory.extend([(curr_point[0]+i, curr_point[1]) for i in range(1,steps+1)])\n",
    "        elif direction==\"L\":\n",
    "            trajectory.extend([(curr_point[0]-i, curr_point[1]) for i in range(1,steps+1)])\n",
    "        elif direction==\"U\":\n",
    "            trajectory.extend([(curr_point[0], curr_point[1]+i) for i in range(1,steps+1)])\n",
    "        elif direction==\"D\":\n",
    "            trajectory.extend([(curr_point[0], curr_point[1]-i) for i in range(1,steps+1)])\n",
    "        curr_point = trajectory[-1]\n",
    "        \n",
    "    return set(trajectory)\n",
    "        \n",
    "\n",
    "def manhattan_distance(wires):\n",
    "    intersections = list(wires[0].intersection(wires[1]))\n",
    "    distance = abs(intersections[0][0]) + abs(intersections[0][1])\n",
    "    for point in intersections[1:]:\n",
    "        distance = min(distance, abs(point[0]) + abs(point[1]))\n",
    "    return distance\n",
    "\n",
    "def find_distance_intersection(list_directions):\n",
    "    wires = [write_trajectory(list_direction) for list_direction in list_directions]\n",
    "    distance = manhattan_distance(wires)\n",
    "    return distance\n",
    "    "
   ]
  },
  {
   "cell_type": "code",
   "execution_count": 16,
   "metadata": {},
   "outputs": [
    {
     "name": "stderr",
     "output_type": "stream",
     "text": [
      "test_find_distance_intersection (__main__.TestDayThreePartOne) ... ok\n",
      "test_find_distance_intersection (__main__.TestDayTwoPartOne) ... ok\n",
      "\n",
      "----------------------------------------------------------------------\n",
      "Ran 2 tests in 0.006s\n",
      "\n",
      "OK\n"
     ]
    },
    {
     "data": {
      "text/plain": [
       "<unittest.main.TestProgram at 0x175de0dad08>"
      ]
     },
     "execution_count": 16,
     "metadata": {},
     "output_type": "execute_result"
    }
   ],
   "source": [
    "from py.load_data import load_day_3\n",
    "\n",
    "class TestDayThreePartOne(unittest.TestCase):\n",
    "    def setUp(self):\n",
    "        self.list_wires = load_day_3()\n",
    "    \n",
    "    def test_find_distance_intersection(self):\n",
    "        self.assertEqual(find_distance_intersection([[\"R8\",\"U5\",\"L5\",\"D3\"], \n",
    "                                                     [\"U7\",\"R6\",\"D4\",\"L4\"]]), \n",
    "                         6, \n",
    "                         msg=generate_msg(find_distance_intersection([[\"R8\",\"U5\",\"L5\",\"D3\"], \n",
    "                                                     [\"U7\",\"R6\",\"D4\",\"L4\"]]), 6))\n",
    "        self.assertEqual(find_distance_intersection([[\"R75\",\"D30\",\"R83\",\"U83\",\"L12\",\"D49\",\"R71\",\"U7\",\"L72\"], \n",
    "                                                     [\"U62\",\"R66\",\"U55\",\"R34\",\"D71\",\"R55\",\"D58\",\"R83\"]]), \n",
    "                         159, \n",
    "                         msg=generate_msg(find_distance_intersection([[\"R75\",\"D30\",\"R83\",\"U83\",\"L12\",\"D49\",\"R71\",\"U7\",\"L72\"], \n",
    "                                                     [\"U62\",\"R66\",\"U55\",\"R34\",\"D71\",\"R55\",\"D58\",\"R83\"]]), 159))\n",
    "        self.assertEqual(find_distance_intersection([[\"R98\",\"U47\",\"R26\",\"D63\",\"R33\",\"U87\",\"L62\",\"D20\",\"R33\",\"U53\",\"R51\"], \n",
    "                                                     [\"U98\",\"R91\",\"D20\",\"R16\",\"D67\",\"R40\",\"U7\",\"R15\",\"U6\",\"R7\"]]), \n",
    "                         135, \n",
    "                         msg=generate_msg(find_distance_intersection([[\"R98\",\"U47\",\"R26\",\"D63\",\"R33\",\"U87\",\"L62\",\"D20\",\"R33\",\"U53\",\"R51\"], \n",
    "                                                     [\"U98\",\"R91\",\"D20\",\"R16\",\"D67\",\"R40\",\"U7\",\"R15\",\"U6\",\"R7\"]]), 135))\n",
    "                \n",
    "\n",
    "unittest.main(argv=[''], verbosity=2, exit=False)"
   ]
  },
  {
   "cell_type": "code",
   "execution_count": 15,
   "metadata": {},
   "outputs": [
    {
     "name": "stdout",
     "output_type": "stream",
     "text": [
      "1983\n"
     ]
    }
   ],
   "source": [
    "list_wires = load_day_3()\n",
    "\n",
    "print(find_distance_intersection(list_wires))\n",
    "    "
   ]
  },
  {
   "cell_type": "markdown",
   "metadata": {},
   "source": [
    "### Part 2\n",
    "\n",
    "It turns out that this circuit is very timing-sensitive; you actually need to minimize the signal delay.\n",
    "\n",
    "To do this, **calculate the number of steps each wire takes to reach each intersection**; choose the intersection where the sum of both wires' steps is lowest. If a wire visits a position on the grid multiple times, use the steps value from the first time it visits that position when calculating the total value of a specific intersection.\n",
    "\n",
    "The number of steps a wire takes is the total number of grid squares the wire has entered to get to that location, including the intersection being considered. Again consider the example from above:\n",
    "\n",
    "```\n",
    "...........\n",
    ".+-----+...\n",
    ".|.....|...\n",
    ".|..+--X-+.\n",
    ".|..|..|.|.\n",
    ".|.-X--+.|.\n",
    ".|..|....|.\n",
    ".|.......|.\n",
    ".o-------+.\n",
    "...........\n",
    "```\n",
    "\n",
    "\n",
    "In the above example, the intersection closest to the central port is reached after $8+5+5+2 = 20$ steps by the first wire and $7+6+4+3 = 20$ steps by the second wire for a total of $20+20 = 40$ steps.\n",
    "\n",
    "However, the top-right intersection is better: the first wire takes only $8+5+2 = 15$ and the second wire takes only $7+6+2 = 15$, a total of $15+15 = 30$ steps.\n",
    "\n",
    "Here are the best steps for the extra examples from above:\n",
    "\n",
    "* `[R75,D30,R83,U83,L12,D49,R71,U7,L72], [U62,R66,U55,R34,D71,R55,D58,R83]` = 610 steps\n",
    "* `[R98,U47,R26,D63,R33,U87,L62,D20,R33,U53,R51], [U98,R91,D20,R16,D67,R40,U7,R15,U6,R7]` = 410 steps\n",
    "\n",
    "What is the fewest combined steps the wires must take to reach an intersection?"
   ]
  },
  {
   "cell_type": "code",
   "execution_count": 73,
   "metadata": {},
   "outputs": [],
   "source": [
    "def get_intersections(list_directions):\n",
    "    wires = [write_trajectory(list_direction) for list_direction in list_directions]\n",
    "    return list(wires[0].intersection(wires[1]))\n",
    "\n",
    "def count_move(starting_point,direction,steps,stop_point):\n",
    "    count = 0\n",
    "    curr_point = (starting_point[0], starting_point[1])\n",
    "    if direction==\"R\":\n",
    "        for i in range(1,steps+1):\n",
    "            curr_point = (curr_point[0]+1, curr_point[1])\n",
    "            count += 1\n",
    "            if curr_point==stop_point:\n",
    "                return count, curr_point\n",
    "    elif direction==\"L\":\n",
    "        for i in range(1,steps+1):\n",
    "            curr_point = (curr_point[0]-1, curr_point[1])\n",
    "            count += 1\n",
    "            if curr_point==stop_point:\n",
    "                return count, curr_point\n",
    "            \n",
    "    elif direction==\"U\":\n",
    "        for i in range(1,steps+1):\n",
    "            curr_point = (curr_point[0], curr_point[1]+1)\n",
    "            count += 1\n",
    "            if curr_point==stop_point:\n",
    "                return count, curr_point\n",
    "            \n",
    "    elif direction==\"D\":\n",
    "        for i in range(1,steps+1):\n",
    "            curr_point = (curr_point[0], curr_point[1]-1)\n",
    "            count += 1\n",
    "            if curr_point==stop_point:\n",
    "                return count, curr_point\n",
    "            \n",
    "    return count, curr_point\n",
    "\n",
    "def count_steps(wire, intersection):\n",
    "    curr_point = (0,0)\n",
    "    counter = 0\n",
    "    for instructions in wire:\n",
    "        \n",
    "        direction, steps = (instructions[0], int(instructions[1:]))\n",
    "        count, curr_point = count_move(curr_point,direction,steps,intersection)\n",
    "        counter += count\n",
    "        if curr_point==intersection:\n",
    "            break\n",
    "    return counter\n",
    "\n",
    "def count_total_steps(wire, intersections):\n",
    "    return [count_steps(wire, intersection) for intersection in intersections]\n",
    " \n",
    "    \n",
    "def find_few_steps(list_directions):\n",
    "    intersections = get_intersections(list_directions)\n",
    "    steps_wire_one = count_total_steps(list_directions[0], intersections)\n",
    "    steps_wire_two = count_total_steps(list_directions[1], intersections)\n",
    "    return min([step_1 + step_2 for step_1, step_2 in zip(steps_wire_one, steps_wire_two)])"
   ]
  },
  {
   "cell_type": "code",
   "execution_count": 75,
   "metadata": {},
   "outputs": [
    {
     "name": "stderr",
     "output_type": "stream",
     "text": [
      "test_find_distance_intersection (__main__.TestDayThreePartOne) ... ok\n",
      "test_find_find_few_steps (__main__.TestDayThreePartTwo) ... ok\n",
      "test_find_distance_intersection (__main__.TestDayTwoPartOne) ... ok\n",
      "\n",
      "----------------------------------------------------------------------\n",
      "Ran 3 tests in 0.012s\n",
      "\n",
      "OK\n"
     ]
    },
    {
     "data": {
      "text/plain": [
       "<unittest.main.TestProgram at 0x175de0b1148>"
      ]
     },
     "execution_count": 75,
     "metadata": {},
     "output_type": "execute_result"
    }
   ],
   "source": [
    "from py.load_data import load_day_3\n",
    "\n",
    "class TestDayThreePartTwo(unittest.TestCase):\n",
    "    def setUp(self):\n",
    "        self.list_wires = load_day_3()\n",
    "    \n",
    "    def test_find_find_few_steps(self):\n",
    "        self.assertEqual(find_few_steps([[\"R8\",\"U5\",\"L5\",\"D3\"], \n",
    "                                                     [\"U7\",\"R6\",\"D4\",\"L4\"]]), 30, \n",
    "                         msg=generate_msg(find_few_steps([[\"R8\",\"U5\",\"L5\",\"D3\"], \n",
    "                                                     [\"U7\",\"R6\",\"D4\",\"L4\"]]), 30))\n",
    "        self.assertEqual(find_few_steps([[\"R75\",\"D30\",\"R83\",\"U83\",\"L12\",\"D49\",\"R71\",\"U7\",\"L72\"], \n",
    "                                                     [\"U62\",\"R66\",\"U55\",\"R34\",\"D71\",\"R55\",\"D58\",\"R83\"]]), \n",
    "                         610, \n",
    "                         msg=generate_msg(find_few_steps([[\"R75\",\"D30\",\"R83\",\"U83\",\"L12\",\"D49\",\"R71\",\"U7\",\"L72\"], \n",
    "                                                     [\"U62\",\"R66\",\"U55\",\"R34\",\"D71\",\"R55\",\"D58\",\"R83\"]]), 610))\n",
    "        self.assertEqual(find_few_steps([[\"R98\",\"U47\",\"R26\",\"D63\",\"R33\",\"U87\",\"L62\",\"D20\",\"R33\",\"U53\",\"R51\"], \n",
    "                                                     [\"U98\",\"R91\",\"D20\",\"R16\",\"D67\",\"R40\",\"U7\",\"R15\",\"U6\",\"R7\"]]), \n",
    "                         410, \n",
    "                         msg=generate_msg(find_few_steps([[\"R98\",\"U47\",\"R26\",\"D63\",\"R33\",\"U87\",\"L62\",\"D20\",\"R33\",\"U53\",\"R51\"], \n",
    "                                                     [\"U98\",\"R91\",\"D20\",\"R16\",\"D67\",\"R40\",\"U7\",\"R15\",\"U6\",\"R7\"]]), 410))\n",
    "                \n",
    "\n",
    "unittest.main(argv=[''], verbosity=2, exit=False)"
   ]
  },
  {
   "cell_type": "code",
   "execution_count": 76,
   "metadata": {},
   "outputs": [
    {
     "name": "stdout",
     "output_type": "stream",
     "text": [
      "107754\n"
     ]
    }
   ],
   "source": [
    "list_wires = load_day_3()\n",
    "\n",
    "print(find_few_steps(list_wires))"
   ]
  },
  {
   "cell_type": "markdown",
   "metadata": {},
   "source": [
    "## Day 4: Secure Container \n",
    "\n",
    "### Part 1\n",
    "\n",
    "You arrive at the Venus fuel depot only to discover it's protected by a password. The Elves had written the password on a sticky note, but someone threw it out.\n",
    "\n",
    "However, they do remember a few key facts about the password:\n",
    "\n",
    "* It is a six-digit number.\n",
    "* The value is within the range given in your puzzle input.\n",
    "* Two adjacent digits are the same (like 22 in 122345).\n",
    "* Going from left to right, the digits never decrease; they only ever increase or stay the same (like 111123 or 135679).\n",
    "\n",
    "Other than the range rule, the following are true:\n",
    "\n",
    "* `111111` meets these criteria (double 11, never decreases).\n",
    "* `223450` does not meet these criteria (decreasing pair of digits 50).\n",
    "* `123789` does not meet these criteria (no double).\n",
    "\n",
    "**How many different passwords within the range given in your puzzle input meet these criteria?**"
   ]
  },
  {
   "cell_type": "code",
   "execution_count": 16,
   "metadata": {},
   "outputs": [],
   "source": [
    "def find_password(text_input):\n",
    "    password_count = 0\n",
    "    lower_r, upper_r = [int(i) for i in text_input.split(\"-\")]\n",
    "    for i in range(lower_r,upper_r):\n",
    "        if valid_password(str(i)):\n",
    "            password_count += 1\n",
    "    return password_count\n",
    "\n",
    "def valid_password(password):\n",
    "    if len(password)!=6:\n",
    "        return False\n",
    "    \n",
    "    if len(set(password))==len(password):\n",
    "        return False\n",
    "    \n",
    "    for i in range(1,len(password)):\n",
    "        if int(password[i]) < int(password[i-1]):\n",
    "            return False\n",
    "        \n",
    "    return True\n",
    "            \n",
    "        "
   ]
  },
  {
   "cell_type": "code",
   "execution_count": 14,
   "metadata": {},
   "outputs": [
    {
     "name": "stderr",
     "output_type": "stream",
     "text": [
      "test_valid_password (__main__.TestDayFourPartOne) ... ok\n",
      "\n",
      "----------------------------------------------------------------------\n",
      "Ran 1 test in 0.001s\n",
      "\n",
      "OK\n"
     ]
    },
    {
     "data": {
      "text/plain": [
       "<unittest.main.TestProgram at 0x17d410f92c8>"
      ]
     },
     "execution_count": 14,
     "metadata": {},
     "output_type": "execute_result"
    }
   ],
   "source": [
    "from py.load_data import load_day_4\n",
    "\n",
    "class TestDayFourPartOne(unittest.TestCase):\n",
    "    def setUp(self):\n",
    "        self.input = load_day_4\n",
    "    \n",
    "    def test_valid_password(self):\n",
    "        self.assertTrue(valid_password(\"111111\"))\n",
    "        self.assertFalse(valid_password(\"223450\"))\n",
    "        self.assertFalse(valid_password(\"123789\"))\n",
    "        \n",
    "\n",
    "unittest.main(argv=[''], verbosity=2, exit=False)"
   ]
  },
  {
   "cell_type": "code",
   "execution_count": 17,
   "metadata": {},
   "outputs": [
    {
     "name": "stdout",
     "output_type": "stream",
     "text": [
      "128392-643281\n",
      "2050\n"
     ]
    }
   ],
   "source": [
    "from py.load_data import load_day_4\n",
    "\n",
    "puzzle_input = load_day_4()\n",
    "print(puzzle_input)\n",
    "print(find_password(puzzle_input))"
   ]
  },
  {
   "cell_type": "markdown",
   "metadata": {},
   "source": [
    "### Part 2\n",
    "\n",
    "An Elf just remembered one more important detail: **the two adjacent matching digits** are not part of a larger group of matching digits.\n",
    "\n",
    "Given this additional criterion, but still ignoring the range rule, the following are now true:\n",
    "\n",
    "* `112233` meets these criteria because the digits never decrease and all repeated digits are exactly two digits long.\n",
    "* `123444` no longer meets the criteria (the repeated 44 is part of a larger group of 444).\n",
    "* `111122` meets the criteria (even though 1 is repeated more than twice, it still contains a double 22).\n",
    "\n",
    "How many different passwords within the range given in your puzzle input meet all of the criteria?"
   ]
  },
  {
   "cell_type": "code",
   "execution_count": 26,
   "metadata": {},
   "outputs": [],
   "source": [
    "from collections import Counter\n",
    "\n",
    "def valid_password_new_rule(password):\n",
    "    if valid_password(password):\n",
    "        c = Counter(password)\n",
    "        for v in c.values():\n",
    "            if v==2:\n",
    "                return True\n",
    "        return False\n",
    "    return False\n",
    "\n",
    "def find_password_new_rule(text_input):\n",
    "    password_count = 0\n",
    "    lower_r, upper_r = [int(i) for i in text_input.split(\"-\")]\n",
    "    for i in range(lower_r,upper_r):\n",
    "        if valid_password_new_rule(str(i)):\n",
    "            password_count += 1\n",
    "    return password_count"
   ]
  },
  {
   "cell_type": "code",
   "execution_count": 25,
   "metadata": {},
   "outputs": [
    {
     "name": "stderr",
     "output_type": "stream",
     "text": [
      "test_valid_password (__main__.TestDayFourPartOne) ... ok\n",
      "test_valid_password_new_rule (__main__.TestDayFourPartTwo) ... ok\n",
      "\n",
      "----------------------------------------------------------------------\n",
      "Ran 2 tests in 0.002s\n",
      "\n",
      "OK\n"
     ]
    },
    {
     "data": {
      "text/plain": [
       "<unittest.main.TestProgram at 0x17d4115c448>"
      ]
     },
     "execution_count": 25,
     "metadata": {},
     "output_type": "execute_result"
    }
   ],
   "source": [
    "from py.load_data import load_day_4\n",
    "\n",
    "class TestDayFourPartTwo(unittest.TestCase):\n",
    "    def setUp(self):\n",
    "        self.input = load_day_4\n",
    "    \n",
    "    def test_valid_password_new_rule(self):\n",
    "        self.assertTrue(valid_password_new_rule(\"112233\"))\n",
    "        self.assertFalse(valid_password_new_rule(\"123444\"))\n",
    "        self.assertTrue(valid_password_new_rule(\"111122\"))\n",
    "        \n",
    "\n",
    "unittest.main(argv=[''], verbosity=2, exit=False)"
   ]
  },
  {
   "cell_type": "code",
   "execution_count": 27,
   "metadata": {},
   "outputs": [
    {
     "name": "stdout",
     "output_type": "stream",
     "text": [
      "128392-643281\n",
      "1390\n"
     ]
    }
   ],
   "source": [
    "from py.load_data import load_day_4\n",
    "\n",
    "puzzle_input = load_day_4()\n",
    "print(puzzle_input)\n",
    "print(find_password_new_rule(puzzle_input))"
   ]
  },
  {
   "cell_type": "markdown",
   "metadata": {},
   "source": [
    "## Day 5: Sunny with a Chance of Asteroids\n",
    "\n",
    "### Part 1\n",
    "\n",
    "You're starting to sweat as the ship makes its way toward Mercury. The Elves suggest that you get the air conditioner working by upgrading your ship computer to support the Thermal Environment Supervision Terminal.\n",
    "\n",
    "The Thermal Environment Supervision Terminal (TEST) starts by running a **diagnostic program** (your puzzle input). The TEST diagnostic program will run on your existing Intcode computer after a few modifications:\n",
    "\n",
    "_First_, you'll need to add two new instructions:\n",
    "\n",
    "* Opcode 3 takes a single integer as **input** and saves it to the position given by its only parameter. For example, the instruction `3,50` would take an input value and store it at address 50.\n",
    "* Opcode 4 **outputs** the value of its only parameter. For example, the instruction `4,50` would output the value at address 50.\n",
    "\n",
    "Programs that use these instructions will come with documentation that explains what should be connected to the input and output. The program 3,0,4,0,99 outputs whatever it gets as input, then halts.\n",
    "\n",
    "_Second_, you'll need to add support for **parameter modes**:\n",
    "\n",
    "Each parameter of an instruction is handled based on its parameter mode. Right now, your ship computer already understands parameter mode 0, **position mode**, which causes the parameter to be interpreted as a position - if the parameter is 50, its value is the value stored at address 50 in memory. Until now, all parameters have been in position mode.\n",
    "\n",
    "Now, your ship computer will also need to handle parameters in mode 1, **immediate mode**. In immediate mode, a parameter is interpreted as a value - if the parameter is 50, its value is simply 50.\n",
    "\n",
    "Parameter modes are stored in the same value as the instruction's opcode. The opcode is a two-digit number based only on the ones and tens digit of the value, that is, the opcode is the rightmost two digits of the first value in an instruction. Parameter modes are **single digits**, one per parameter, read right-to-left from the opcode: the first parameter's mode is in the hundreds digit, the second parameter's mode is in the thousands digit, the third parameter's mode is in the ten-thousands digit, and so on. Any missing modes are 0.\n",
    "\n",
    "For example, consider the program `1002,4,3,4,33`.\n",
    "\n",
    "The first instruction, `1002,4,3,4`, is a multiply instruction - the rightmost two digits of the first value, 02, indicate opcode 2, multiplication. Then, going right to left, the parameter modes are 0 (hundreds digit), 1 (thousands digit), and 0 (ten-thousands digit, not present and therefore zero):\n",
    "\n",
    "```\n",
    "ABCDE\n",
    " 1002\n",
    "\n",
    "DE - two-digit opcode,      02 == opcode 2\n",
    " C - mode of 1st parameter,  0 == position mode\n",
    " B - mode of 2nd parameter,  1 == immediate mode\n",
    " A - mode of 3rd parameter,  0 == position mode,\n",
    "                                  omitted due to being a leading zero\n",
    "```           \n",
    "           \n",
    "This instruction multiplies its first two parameters. The first parameter, 4 in position mode, works like it did before - its value is the value stored at address 4 (33). The second parameter, 3 in immediate mode, simply has value 3. The result of this operation, 33 * 3 = 99, is written according to the third parameter, 4 in position mode, which also works like it did before - 99 is written to address 4.\n",
    "\n",
    "**Parameters that an instruction writes to will never be in immediate mode.**\n",
    "\n",
    "Finally, some notes:\n",
    "\n",
    "* It is important to remember that the instruction pointer should increase by the number of values in the instruction after the instruction finishes. Because of the new instructions, this amount is no longer always 4.\n",
    "* Integers can be negative: 1101,100,-1,4,0 is a valid program (find 100 + -1, store the result in position 4).\n",
    "\n",
    "The TEST diagnostic program will start by requesting from the user the ID of the system to test by running an input instruction - provide it 1, the ID for the ship's air conditioner unit.\n",
    "\n",
    "It will then perform a series of diagnostic tests confirming that various parts of the Intcode computer, like parameter modes, function correctly. For each test, it will run an output instruction indicating how far the result of the test was from the expected value, where 0 means the test was successful. Non-zero outputs mean that a function is not working correctly; check the instructions that were run before the output instruction to see which one failed.\n",
    "\n",
    "Finally, the program will output a **diagnostic code** and immediately halt. This final output isn't an error; an output followed immediately by a halt means the program finished. If all outputs were zero except the diagnostic code, the diagnostic program ran successfully.\n",
    "\n",
    "**After providing 1 to the only input instruction and passing all the tests, what diagnostic code does the program produce?**"
   ]
  },
  {
   "cell_type": "code",
   "execution_count": 24,
   "metadata": {},
   "outputs": [],
   "source": [
    "def test_diagnostic_program(intcode):\n",
    "    output = []\n",
    "    i=0\n",
    "    while intcode[i]!=99:\n",
    "        if intcode[i] > 100:\n",
    "            para_modes, opcode = (str(intcode[i])[:-2], int(str(intcode[i])[-2:]))\n",
    "        else:\n",
    "            para_modes = \"\"\n",
    "            opcode = intcode[i]\n",
    "        \n",
    "        if opcode==1:\n",
    "            if len(para_modes) < 3:\n",
    "                para_modes = \"0\" * (3-len(para_modes)) + para_modes\n",
    "                \n",
    "            first_num = intcode[i+1] if para_modes[-1]==\"1\" else intcode[intcode[i+1]]\n",
    "            second_num = intcode[i+2] if para_modes[-2]==\"1\" else intcode[intcode[i+2]]\n",
    "            \n",
    "            if para_modes[-3]==\"1\":\n",
    "                intcode[i+3] = first_num + second_num\n",
    "            else:\n",
    "                intcode[intcode[i+3]] = first_num + second_num\n",
    "            i += 4\n",
    "            \n",
    "        elif opcode==2:\n",
    "            if len(para_modes) < 3:\n",
    "                para_modes = \"0\" * (3-len(para_modes)) + para_modes\n",
    "                \n",
    "            first_num = intcode[i+1] if para_modes[-1]==\"1\" else intcode[intcode[i+1]]\n",
    "            second_num = intcode[i+2] if para_modes[-2]==\"1\" else intcode[intcode[i+2]]\n",
    "            \n",
    "            if para_modes[-3]==\"1\":\n",
    "                intcode[i+3] = first_num * second_num\n",
    "            else:\n",
    "                intcode[intcode[i+3]] = first_num * second_num\n",
    "            i += 4\n",
    "            \n",
    "        elif opcode==3:\n",
    "            user_input = int(input(\"Enter System User ID\\n\"))\n",
    "            intcode[intcode[i+1]] = user_input\n",
    "            i += 2\n",
    "            \n",
    "        elif opcode==4:\n",
    "            n_out = intcode[intcode[i+1]]\n",
    "            output.append(n_out)\n",
    "            i += 2\n",
    "            \n",
    "            \n",
    "    return output"
   ]
  },
  {
   "cell_type": "code",
   "execution_count": 25,
   "metadata": {},
   "outputs": [
    {
     "name": "stdout",
     "output_type": "stream",
     "text": [
      "Enter System User ID\n",
      "1\n",
      "[3, 0, 0, 0, 0, 0, 0, 0, 0, 16489636]\n"
     ]
    }
   ],
   "source": [
    "from py.load_data import load_day_5\n",
    "\n",
    "list_input = load_day_5()\n",
    "#print(list_input)\n",
    "output = test_diagnostic_program(list_input)\n",
    "print(output)"
   ]
  },
  {
   "cell_type": "markdown",
   "metadata": {},
   "source": [
    "### Part 2\n",
    "\n",
    "The air conditioner comes online! Its cold air feels good for a while, but then the TEST alarms start to go off. Since the air conditioner can't vent its heat anywhere but back into the spacecraft, it's actually making the air inside the ship warmer.\n",
    "\n",
    "Instead, you'll need to use the TEST to extend the thermal radiators. Fortunately, the diagnostic program (your puzzle input) is already equipped for this. Unfortunately, your Intcode computer is not.\n",
    "\n",
    "Your computer is only missing a few opcodes:\n",
    "\n",
    "* Opcode 5 is **jump-if-true**: if the first parameter is non-zero, it sets the instruction pointer to the value from the second parameter. Otherwise, it does nothing.\n",
    "* Opcode 6 is **jump-if-false**: if the first parameter is zero, it sets the instruction pointer to the value from the second parameter. Otherwise, it does nothing.\n",
    "* Opcode 7 is **less than**: if the first parameter is less than the second parameter, it stores 1 in the position given by the third parameter. Otherwise, it stores 0.\n",
    "* Opcode 8 is **equals**: if the first parameter is equal to the second parameter, it stores 1 in the position given by the third parameter. Otherwise, it stores 0.\n",
    "\n",
    "Like all instructions, these instructions need to support **parameter modes** as described above.\n",
    "\n",
    "Normally, after an instruction is finished, the instruction pointer increases by the number of values in that instruction. _However_, if the instruction modifies the instruction pointer, that value is used and the instruction pointer is **not automatically increased**.\n",
    "\n",
    "For example, here are several programs that take one input, compare it to the value 8, and then produce one output:\n",
    "\n",
    "* `3,9,8,9,10,9,4,9,99,-1,8` - Using **position mode**, consider whether the input is **equal to 8**; output 1 (if it is) or 0 (if it is not).\n",
    "* `3,9,7,9,10,9,4,9,99,-1,8` - Using **position mode**, consider whether the input is **less than 8**; output 1 (if it is) or 0 (if it is not).\n",
    "* `3,3,1108,-1,8,3,4,3,99` - Using **immediate mode**, consider whether the input is **equal to 8**; output 1 (if it is) or 0 (if it is not).\n",
    "* `3,3,1107,-1,8,3,4,3,99` - Using **immediate mode**, consider whether the input is **less than 8**; output 1 (if it is) or 0 (if it is not).\n",
    "\n",
    "Here are some jump tests that take an input, then output 0 if the input was zero or 1 if the input was non-zero:\n",
    "\n",
    "* `3,12,6,12,15,1,13,14,13,4,13,99,-1,0,1,9` (using **position mode**)\n",
    "* `3,3,1105,-1,9,1101,0,0,12,4,12,99,1` (using ***immediate mode**)\n",
    "\n",
    "Here's a larger example:\n",
    "\n",
    "```\n",
    "3,21,1008,21,8,20,1005,20,22,107,8,21,20,1006,20,31,\n",
    "1106,0,36,98,0,0,1002,21,125,20,4,20,1105,1,46,104,\n",
    "999,1105,1,46,1101,1000,1,20,4,20,1105,1,46,98,99\n",
    "```\n",
    "\n",
    "The above example program uses an input instruction to ask for a single number. The program will then output 999 if the input value is below 8, output 1000 if the input value is equal to 8, or output 1001 if the input value is greater than 8.\n",
    "\n",
    "This time, when the TEST diagnostic program runs its input instruction to get the ID of the system to test, **provide it 5**, the ID for the ship's thermal radiator controller. This diagnostic test suite only outputs one number, **the diagnostic code**.\n",
    "\n",
    "**What is the diagnostic code for system ID 5?**"
   ]
  },
  {
   "cell_type": "code",
   "execution_count": 5,
   "metadata": {},
   "outputs": [],
   "source": [
    "def test_diagnostic_program_new(intcode):\n",
    "    output = []\n",
    "    i=0\n",
    "    while intcode[i]!=99:\n",
    "        if intcode[i] > 100:\n",
    "            para_modes, opcode = (str(intcode[i])[:-2], int(str(intcode[i])[-2:]))\n",
    "        else:\n",
    "            para_modes = \"\"\n",
    "            opcode = intcode[i]\n",
    "        \n",
    "        if opcode==1:\n",
    "            if len(para_modes) < 3:\n",
    "                para_modes = \"0\" * (3-len(para_modes)) + para_modes\n",
    "                \n",
    "            first_num = intcode[i+1] if para_modes[-1]==\"1\" else intcode[intcode[i+1]]\n",
    "            second_num = intcode[i+2] if para_modes[-2]==\"1\" else intcode[intcode[i+2]]\n",
    "            \n",
    "            if para_modes[-3]==\"1\":\n",
    "                intcode[i+3] = first_num + second_num\n",
    "            else:\n",
    "                intcode[intcode[i+3]] = first_num + second_num\n",
    "            i += 4\n",
    "            \n",
    "        elif opcode==2:\n",
    "            if len(para_modes) < 3:\n",
    "                para_modes = \"0\" * (3-len(para_modes)) + para_modes\n",
    "                \n",
    "            first_num = intcode[i+1] if para_modes[-1]==\"1\" else intcode[intcode[i+1]]\n",
    "            second_num = intcode[i+2] if para_modes[-2]==\"1\" else intcode[intcode[i+2]]\n",
    "            \n",
    "            if para_modes[-3]==\"1\":\n",
    "                intcode[i+3] = first_num * second_num\n",
    "            else:\n",
    "                intcode[intcode[i+3]] = first_num * second_num\n",
    "            i += 4\n",
    "            \n",
    "        elif opcode==3:\n",
    "            user_input = int(input(\"Enter System User ID\\n\"))\n",
    "            intcode[intcode[i+1]] = user_input\n",
    "            i += 2\n",
    "            \n",
    "        elif opcode==4:\n",
    "            n_out = intcode[intcode[i+1]]\n",
    "            output.append(n_out)\n",
    "            i += 2\n",
    "            \n",
    "        elif opcode==5:\n",
    "            if len(para_modes) < 2:\n",
    "                para_modes = \"0\" * (3-len(para_modes)) + para_modes\n",
    "                \n",
    "            first_num = intcode[i+1] if para_modes[-1]==\"1\" else intcode[intcode[i+1]]\n",
    "            new_pointer_value = intcode[i+2] if para_modes[-2]==\"1\" else intcode[intcode[i+2]]\n",
    "            if first_num:\n",
    "                i = new_pointer_value\n",
    "            else:\n",
    "                i += 3\n",
    "                \n",
    "        elif opcode==6:\n",
    "            if len(para_modes) < 2:\n",
    "                para_modes = \"0\" * (3-len(para_modes)) + para_modes\n",
    "            \n",
    "            first_num = intcode[i+1] if para_modes[-1]==\"1\" else intcode[intcode[i+1]]\n",
    "            new_pointer_value = intcode[i+2] if para_modes[-2]==\"1\" else intcode[intcode[i+2]]\n",
    "            if not first_num:\n",
    "                i = new_pointer_value\n",
    "            else:\n",
    "                i += 3\n",
    "                \n",
    "        elif opcode==7:\n",
    "            if len(para_modes) < 3:\n",
    "                para_modes = \"0\" * (3-len(para_modes)) + para_modes\n",
    "                \n",
    "            first_num = intcode[i+1] if para_modes[-1]==\"1\" else intcode[intcode[i+1]]\n",
    "            second_num = intcode[i+2] if para_modes[-2]==\"1\" else intcode[intcode[i+2]]\n",
    "            intcode[intcode[i+3]] = int(first_num<second_num)\n",
    "            i += 4\n",
    "            \n",
    "        elif opcode==8:\n",
    "            if len(para_modes) < 3:\n",
    "                para_modes = \"0\" * (3-len(para_modes)) + para_modes\n",
    "            \n",
    "            first_num = intcode[i+1] if para_modes[-1]==\"1\" else intcode[intcode[i+1]]\n",
    "            second_num = intcode[i+2] if para_modes[-2]==\"1\" else intcode[intcode[i+2]]\n",
    "            intcode[intcode[i+3]] = int(first_num==second_num)\n",
    "            i += 4\n",
    "            \n",
    "            \n",
    "    return output"
   ]
  },
  {
   "cell_type": "code",
   "execution_count": 6,
   "metadata": {},
   "outputs": [
    {
     "name": "stdout",
     "output_type": "stream",
     "text": [
      "Enter System User ID\n",
      "5\n",
      "[9386583]\n"
     ]
    }
   ],
   "source": [
    "from py.load_data import load_day_5\n",
    "\n",
    "list_input = load_day_5()\n",
    "#print(list_input)\n",
    "output = test_diagnostic_program_new(list_input)\n",
    "print(output)"
   ]
  },
  {
   "cell_type": "markdown",
   "metadata": {},
   "source": [
    "## Day 6: Universal Orbit Map \n",
    "\n",
    "### Part 1\n",
    "\n",
    "You've landed at the Universal Orbit Map facility on Mercury. Because navigation in space often involves transferring between orbits, the orbit maps here are useful for finding efficient routes between, for example, you and Santa. You download a map of the local orbits (your puzzle input).\n",
    "\n",
    "Except for the universal Center of Mass (COM), every object in space is in orbit around exactly one other object. An [orbit](https://en.wikipedia.org/wiki/Orbit) looks roughly like this:\n",
    "\n",
    "```\n",
    "                  \\\n",
    "                   \\\n",
    "                    |\n",
    "                    |\n",
    "AAA--> o            o <--BBB\n",
    "                    |\n",
    "                    |\n",
    "                   /\n",
    "                  /\n",
    "```                  \n",
    "               \n",
    "In this diagram, the object BBB is in orbit around AAA. The path that BBB takes around AAA (drawn with lines) is only partly shown. In the map data, this orbital relationship is written `AAA)BBB`, which means \"BBB is in orbit around AAA\".\n",
    "\n",
    "Before you use your map data to plot a course, you need to make sure it wasn't corrupted during the download. To verify maps, the Universal Orbit Map facility uses **orbit count checksums** - the total number of direct orbits (like the one shown above) and **indirect orbits**.\n",
    "\n",
    "Whenever A orbits B and B orbits C, then **A indirectly orbits C**. This chain can be any number of objects long: if A orbits B, B orbits C, and C orbits D, then **A indirectly orbits D**.\n",
    "\n",
    "For example, suppose you have the following map:\n",
    "\n",
    "```\n",
    "COM)B\n",
    "B)C\n",
    "C)D\n",
    "D)E\n",
    "E)F\n",
    "B)G\n",
    "G)H\n",
    "D)I\n",
    "E)J\n",
    "J)K\n",
    "K)L\n",
    "```\n",
    "\n",
    "Visually, the above map of orbits looks like this:\n",
    "\n",
    "```\n",
    "        G - H       J - K - L\n",
    "       /           /\n",
    "COM - B - C - D - E - F\n",
    "               \\\n",
    "                I\n",
    "```\n",
    "\n",
    "In this visual representation, when two objects are connected by a line, the one on the right directly orbits the one on the left.\n",
    "\n",
    "Here, we can count the total number of orbits as follows:\n",
    "\n",
    "* D directly orbits C and indirectly orbits B and COM, a total of 3 orbits.\n",
    "* L directly orbits K and indirectly orbits J, E, D, C, B, and COM, a total of 7 orbits.\n",
    "* COM orbits nothing.\n",
    "\n",
    "The total number of direct and indirect orbits in this example is 42.\n",
    "\n",
    "**What is the total number of direct and indirect orbits in your map data?**"
   ]
  },
  {
   "cell_type": "code",
   "execution_count": 40,
   "metadata": {},
   "outputs": [],
   "source": [
    "from collections import defaultdict\n",
    "\n",
    "def count_orbits(orbit_map):\n",
    "    n_orbits = 0\n",
    "    orbits_dict = defaultdict(str)\n",
    "    list_objects = set()\n",
    "    for orbit in orbit_map:\n",
    "        space_object, orbiter = orbit.split(')')\n",
    "        orbits_dict[orbiter] = space_object\n",
    "        list_objects.add(space_object)\n",
    "        list_objects.add(orbiter)\n",
    "    for obj in list(list_objects):\n",
    "        main_obj = obj\n",
    "        while main_obj in orbits_dict:\n",
    "            n_orbits += 1\n",
    "            main_obj = orbits_dict[main_obj]\n",
    "    return n_orbits"
   ]
  },
  {
   "cell_type": "code",
   "execution_count": 41,
   "metadata": {},
   "outputs": [
    {
     "name": "stderr",
     "output_type": "stream",
     "text": [
      "test_count_orbits (__main__.TestDaySixPartOne) ... ok\n",
      "\n",
      "----------------------------------------------------------------------\n",
      "Ran 1 test in 0.001s\n",
      "\n",
      "OK\n"
     ]
    },
    {
     "data": {
      "text/plain": [
       "<unittest.main.TestProgram at 0x249f1dceac8>"
      ]
     },
     "execution_count": 41,
     "metadata": {},
     "output_type": "execute_result"
    }
   ],
   "source": [
    "from py.load_data import load_day_6\n",
    "\n",
    "class TestDaySixPartOne(unittest.TestCase):\n",
    "    \n",
    "    def test_count_orbits(self):\n",
    "        self.assertEqual(count_orbits([\"COM)B\", \"B)C\", \"C)D\", \"D)E\", \"E)F\", \"B)G\", \"G)H\", \"D)I\", \"E)J\", \"J)K\", \"K)L\"]), 42)\n",
    "        \n",
    "\n",
    "unittest.main(argv=[''], verbosity=2, exit=False)"
   ]
  },
  {
   "cell_type": "code",
   "execution_count": 42,
   "metadata": {},
   "outputs": [
    {
     "name": "stdout",
     "output_type": "stream",
     "text": [
      "158090\n"
     ]
    }
   ],
   "source": [
    "orbit_map = load_day_6()\n",
    "print(count_orbits(orbit_map))"
   ]
  },
  {
   "cell_type": "markdown",
   "metadata": {},
   "source": [
    "### Part 2\n",
    "\n",
    "Now, you just need to figure out how many orbital transfers you (YOU) need to take to get to Santa (SAN).\n",
    "\n",
    "You start at the object YOU are orbiting; your destination is the object SAN is orbiting. An orbital transfer lets you move from any object to an object orbiting or orbited by that object.\n",
    "\n",
    "For example, suppose you have the following map:\n",
    "\n",
    "```\n",
    "COM)B\n",
    "B)C\n",
    "C)D\n",
    "D)E\n",
    "E)F\n",
    "B)G\n",
    "G)H\n",
    "D)I\n",
    "E)J\n",
    "J)K\n",
    "K)L\n",
    "K)YOU\n",
    "I)SAN\n",
    "```\n",
    "\n",
    "Visually, the above map of orbits looks like this:\n",
    "\n",
    "```\n",
    "                          YOU\n",
    "                         /\n",
    "        G - H       J - K - L\n",
    "       /           /\n",
    "COM - B - C - D - E - F\n",
    "               \\\n",
    "                I - SAN\n",
    "```\n",
    "In this example, YOU are in orbit around K, and SAN is in orbit around I. To move from K to I, a minimum of 4 orbital transfers are required:\n",
    "\n",
    "* K to J\n",
    "* J to E\n",
    "* E to D\n",
    "* D to I\n",
    "\n",
    "Afterward, the map of orbits looks like this:\n",
    "\n",
    "```\n",
    "        G - H       J - K - L\n",
    "       /           /\n",
    "COM - B - C - D - E - F\n",
    "               \\\n",
    "                I - SAN\n",
    "                 \\\n",
    "                  YOU\n",
    "```\n",
    "\n",
    "**What is the minimum number of orbital transfers required to move from the object YOU are orbiting to the object SAN is orbiting?** (Between the objects they are orbiting - not between YOU and SAN.)"
   ]
  },
  {
   "cell_type": "code",
   "execution_count": 79,
   "metadata": {},
   "outputs": [],
   "source": [
    "def minimum_orbital_transfers(orbit_map):\n",
    "    n_orbits = 0\n",
    "    orbits_dict = defaultdict(str)\n",
    "    for orbit in orbit_map:\n",
    "        space_object, orbiter = orbit.split(')')\n",
    "        orbits_dict[orbiter] = space_object\n",
    "    \n",
    "    routes = [[],[]]\n",
    "    for route, main_obj in zip(routes, [\"YOU\", \"SAN\"]):\n",
    "        while main_obj in orbits_dict:\n",
    "            route.append(main_obj)\n",
    "            main_obj = orbits_dict[main_obj]\n",
    "    for route in routes:\n",
    "        n_orbits += sum([1 for obj in route if obj not in set(routes[0]).intersection(set(routes[1])) and obj not in [\"YOU\", \"SAN\"]])\n",
    "    \n",
    "    return n_orbits"
   ]
  },
  {
   "cell_type": "code",
   "execution_count": 80,
   "metadata": {},
   "outputs": [
    {
     "name": "stderr",
     "output_type": "stream",
     "text": [
      "test_count_orbits (__main__.TestDaySixPartOne) ... ok\n",
      "test_minimum_orbital_transfers (__main__.TestDaySixPartTwo) ... ok\n",
      "\n",
      "----------------------------------------------------------------------\n",
      "Ran 2 tests in 0.003s\n",
      "\n",
      "OK\n"
     ]
    },
    {
     "data": {
      "text/plain": [
       "<unittest.main.TestProgram at 0x249f1e4fdc8>"
      ]
     },
     "execution_count": 80,
     "metadata": {},
     "output_type": "execute_result"
    }
   ],
   "source": [
    "from py.load_data import load_day_6\n",
    "\n",
    "class TestDaySixPartTwo(unittest.TestCase):\n",
    "    \n",
    "    def test_minimum_orbital_transfers(self):\n",
    "        self.assertEqual(minimum_orbital_transfers([\"COM)B\",\"B)C\",\"C)D\",\"D)E\",\"E)F\",\"B)G\",\"G)H\",\"D)I\",\n",
    "                                                    \"E)J\",\"J)K\",\"K)L\",\"K)YOU\",\"I)SAN\"]), 4)\n",
    "        \n",
    "\n",
    "unittest.main(argv=[''], verbosity=2, exit=False)"
   ]
  },
  {
   "cell_type": "code",
   "execution_count": 81,
   "metadata": {},
   "outputs": [
    {
     "name": "stdout",
     "output_type": "stream",
     "text": [
      "241\n"
     ]
    }
   ],
   "source": [
    "orbit_map = load_day_6()\n",
    "print(minimum_orbital_transfers(orbit_map))"
   ]
  },
  {
   "cell_type": "markdown",
   "metadata": {},
   "source": [
    "<h2>Day 7: Amplification Circuit</h2>\n",
    "\n",
    "### Part 1\n",
    "\n",
    "<p>Based on the navigational maps, you're going to need to send more power to your ship's thrusters to reach Santa in time. To do this, you'll need to configure a series of <a href=\"https://en.wikipedia.org/wiki/Amplifier\">amplifiers</a> already installed on the ship.</p>\n",
    "<p>There are five <span title=\"As you can see, I know exactly how rockets work.\">amplifiers connected in series</span>; each one receives an input signal and produces an output signal.  They are connected such that the first amplifier's output leads to the second amplifier's input, the second amplifier's output leads to the third amplifier's input, and so on.  The first amplifier's input value is <code>0</code>, and the last amplifier's output leads to your ship's thrusters.</p>\n",
    "<pre><code>    O-------O  O-------O  O-------O  O-------O  O-------O\n",
    "0 -&gt;| Amp A |-&gt;| Amp B |-&gt;| Amp C |-&gt;| Amp D |-&gt;| Amp E |-&gt; (to thrusters)\n",
    "    O-------O  O-------O  O-------O  O-------O  O-------O\n",
    "</code></pre>\n",
    "<p>The Elves have sent you some <em>Amplifier Controller Software</em> (your puzzle input), a program that should run on your <a href=\"5\">existing Intcode computer</a>. Each amplifier will need to run a copy of the program.</p>\n",
    "<p>When a copy of the program starts running on an amplifier, it will first use an input instruction to ask the amplifier for its current <em>phase setting</em> (an integer from <code>0</code> to <code>4</code>). Each phase setting is used <em>exactly once</em>, but the Elves can't remember which amplifier needs which phase setting.</p>\n",
    "<p>The program will then call another input instruction to get the amplifier's input signal, compute the correct output signal, and supply it back to the amplifier with an output instruction. (If the amplifier has not yet received an input signal, it waits until one arrives.)</p>\n",
    "<p>Your job is to <em>find the largest output signal that can be sent to the thrusters</em> by trying every possible combination of phase settings on the amplifiers. Make sure that memory is not shared or reused between copies of the program.</p>\n",
    "<p>For example, suppose you want to try the phase setting sequence <code>3,1,2,4,0</code>, which would mean setting amplifier <code>A</code> to phase setting <code>3</code>, amplifier <code>B</code> to setting <code>1</code>, <code>C</code> to <code>2</code>, <code>D</code> to <code>4</code>, and <code>E</code> to <code>0</code>. Then, you could determine the output signal that gets sent from amplifier <code>E</code> to the thrusters with the following steps:</p>\n",
    "<ul>\n",
    "<li>Start the copy of the amplifier controller software that will run on amplifier <code>A</code>. At its first input instruction, provide it the amplifier's phase setting, <code>3</code>.  At its second input instruction, provide it the input signal, <code>0</code>.  After some calculations, it will use an output instruction to indicate the amplifier's output signal.</li>\n",
    "<li>Start the software for amplifier <code>B</code>. Provide it the phase setting (<code>1</code>) and then whatever output signal was produced from amplifier <code>A</code>. It will then produce a new output signal destined for amplifier <code>C</code>.</li>\n",
    "<li>Start the software for amplifier <code>C</code>, provide the phase setting (<code>2</code>) and the value from amplifier <code>B</code>, then collect its output signal.</li>\n",
    "<li>Run amplifier <code>D</code>'s software, provide the phase setting (<code>4</code>) and input value, and collect its output signal.</li>\n",
    "<li>Run amplifier <code>E</code>'s software, provide the phase setting (<code>0</code>) and input value, and collect its output signal.</li>\n",
    "</ul>\n",
    "<p>The final output signal from amplifier <code>E</code> would be sent to the thrusters. However, this phase setting sequence may not have been the best one; another sequence might have sent a higher signal to the thrusters.</p>\n",
    "<p>Here are some example programs:</p>\n",
    "<ul>\n",
    "<li><p>Max thruster signal <em><code>43210</code></em> (from phase setting sequence <code>4,3,2,1,0</code>):</p><pre><code>3,15,3,16,1002,16,10,16,1,16,15,15,4,15,99,0,0</code></pre></li>\n",
    "<li><p>Max thruster signal <em><code>54321</code></em> (from phase setting sequence <code>0,1,2,3,4</code>):</p><pre><code>3,23,3,24,1002,24,10,24,1002,23,-1,23,<br>101,5,23,23,1,24,23,23,4,23,99,0,0</code></pre></li>\n",
    "<li><p>Max thruster signal <em><code>65210</code></em> (from phase setting sequence <code>1,0,4,3,2</code>):</p><pre><code>3,31,3,32,1002,32,10,32,1001,31,-2,31,1007,31,0,33,<br>1002,33,7,33,1,33,31,31,1,32,31,31,4,31,99,0,0,0</code></pre></li>\n",
    "</ul>\n",
    "<p>Try every combination of phase settings on the amplifiers.  <em>What is the highest signal that can be sent to the thrusters?</em></p>"
   ]
  },
  {
   "cell_type": "code",
   "execution_count": null,
   "metadata": {},
   "outputs": [],
   "source": []
  }
 ],
 "metadata": {
  "kernelspec": {
   "display_name": "Python 3",
   "language": "python",
   "name": "python3"
  },
  "language_info": {
   "codemirror_mode": {
    "name": "ipython",
    "version": 3
   },
   "file_extension": ".py",
   "mimetype": "text/x-python",
   "name": "python",
   "nbconvert_exporter": "python",
   "pygments_lexer": "ipython3",
   "version": "3.7.7"
  },
  "varInspector": {
   "cols": {
    "lenName": 16,
    "lenType": 16,
    "lenVar": 40
   },
   "kernels_config": {
    "python": {
     "delete_cmd_postfix": "",
     "delete_cmd_prefix": "del ",
     "library": "var_list.py",
     "varRefreshCmd": "print(var_dic_list())"
    },
    "r": {
     "delete_cmd_postfix": ") ",
     "delete_cmd_prefix": "rm(",
     "library": "var_list.r",
     "varRefreshCmd": "cat(var_dic_list()) "
    }
   },
   "types_to_exclude": [
    "module",
    "function",
    "builtin_function_or_method",
    "instance",
    "_Feature"
   ],
   "window_display": false
  }
 },
 "nbformat": 4,
 "nbformat_minor": 4
}
